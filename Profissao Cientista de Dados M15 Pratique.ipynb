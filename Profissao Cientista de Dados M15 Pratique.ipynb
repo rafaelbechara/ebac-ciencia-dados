{
 "cells": [
  {
   "cell_type": "markdown",
   "metadata": {
    "id": "cJdp3B_SGk7T"
   },
   "source": [
    "# **MÓDULO 15 - Exercício**\n",
    "# Análise  - A segunda etapa da Pré Modelagem"
   ]
  },
  {
   "cell_type": "markdown",
   "metadata": {
    "id": "1OirkvkeGuGg"
   },
   "source": [
    "# 1) O primeiro exercício é o de salvar a base que criaram na atividade do módulo anterior em csv e abrir ela neste arquivo.\n",
    "Igual fizemos no início do módulo atual no início da primeira aula."
   ]
  },
  {
   "cell_type": "code",
   "execution_count": 2,
   "metadata": {
    "id": "5ejO5WSgnhFs"
   },
   "outputs": [],
   "source": [
    "import seaborn as sns\n",
    "import matplotlib.pyplot as plt\n",
    "import pandas as pd\n",
    "import numpy as np\n",
    "import plotly.express as px"
   ]
  },
  {
   "cell_type": "code",
   "execution_count": null,
   "metadata": {
    "id": "UD3a_pq7py5G"
   },
   "outputs": [
    {
     "data": {
      "application/vnd.microsoft.datawrangler.viewer.v0+json": {
       "columns": [
        {
         "name": "index",
         "rawType": "int64",
         "type": "integer"
        },
        {
         "name": "CustomerID",
         "rawType": "object",
         "type": "string"
        },
        {
         "name": "Gender",
         "rawType": "object",
         "type": "string"
        },
        {
         "name": "Senior",
         "rawType": "int64",
         "type": "integer"
        },
        {
         "name": "Married",
         "rawType": "int64",
         "type": "integer"
        },
        {
         "name": "Dependents",
         "rawType": "int64",
         "type": "integer"
        },
        {
         "name": "Tenure",
         "rawType": "int64",
         "type": "integer"
        },
        {
         "name": "PhoneService",
         "rawType": "float64",
         "type": "float"
        },
        {
         "name": "InternetService",
         "rawType": "object",
         "type": "string"
        },
        {
         "name": "SecurityService",
         "rawType": "int64",
         "type": "integer"
        },
        {
         "name": "TechinicalSupport",
         "rawType": "int64",
         "type": "integer"
        },
        {
         "name": "StreamingTV",
         "rawType": "int64",
         "type": "integer"
        },
        {
         "name": "ContractType",
         "rawType": "object",
         "type": "string"
        },
        {
         "name": "PaymentMethod",
         "rawType": "object",
         "type": "string"
        },
        {
         "name": "MonthlyCharges",
         "rawType": "float64",
         "type": "float"
        },
        {
         "name": "TotalCharges",
         "rawType": "float64",
         "type": "float"
        },
        {
         "name": "Churn",
         "rawType": "int64",
         "type": "integer"
        }
       ],
       "ref": "04c9722a-e29b-4c81-83ad-c08f69b3e658",
       "rows": [
        [
         "0",
         "7590-VHVEG",
         "Female",
         "0",
         "1",
         "0",
         "1",
         "0.0",
         "dsl",
         "0",
         "0",
         "0",
         "Month-to-month",
         "Electronic check",
         "29.85",
         "29.85",
         "0"
        ],
        [
         "1",
         "5575-GNVDE",
         "Male",
         "0",
         "0",
         "0",
         "34",
         "1.0",
         "dsl",
         "1",
         "0",
         "0",
         "One year",
         "Mailed check",
         "56.95",
         "1889.5",
         "0"
        ],
        [
         "2",
         "3668-QPYBK",
         "Male",
         "0",
         "0",
         "0",
         "2",
         "1.0",
         "dsl",
         "1",
         "0",
         "0",
         "Month-to-month",
         "Mailed check",
         "53.85",
         "108.15",
         "1"
        ],
        [
         "3",
         "7795-CFOCW",
         "Male",
         "0",
         "0",
         "0",
         "45",
         "0.0",
         "dsl",
         "1",
         "1",
         "0",
         "One year",
         "Bank transfer (automatic)",
         "71.45",
         "1840.75",
         "0"
        ],
        [
         "4",
         "8191-XWSZG",
         "Female",
         "0",
         "0",
         "0",
         "52",
         "1.0",
         "no",
         "0",
         "0",
         "0",
         "One year",
         "Mailed check",
         "71.45",
         "1022.95",
         "0"
        ]
       ],
       "shape": {
        "columns": 16,
        "rows": 5
       }
      },
      "text/html": [
       "<div>\n",
       "<style scoped>\n",
       "    .dataframe tbody tr th:only-of-type {\n",
       "        vertical-align: middle;\n",
       "    }\n",
       "\n",
       "    .dataframe tbody tr th {\n",
       "        vertical-align: top;\n",
       "    }\n",
       "\n",
       "    .dataframe thead th {\n",
       "        text-align: right;\n",
       "    }\n",
       "</style>\n",
       "<table border=\"1\" class=\"dataframe\">\n",
       "  <thead>\n",
       "    <tr style=\"text-align: right;\">\n",
       "      <th></th>\n",
       "      <th>CustomerID</th>\n",
       "      <th>Gender</th>\n",
       "      <th>Senior</th>\n",
       "      <th>Married</th>\n",
       "      <th>Dependents</th>\n",
       "      <th>Tenure</th>\n",
       "      <th>PhoneService</th>\n",
       "      <th>InternetService</th>\n",
       "      <th>SecurityService</th>\n",
       "      <th>TechinicalSupport</th>\n",
       "      <th>StreamingTV</th>\n",
       "      <th>ContractType</th>\n",
       "      <th>PaymentMethod</th>\n",
       "      <th>MonthlyCharges</th>\n",
       "      <th>TotalCharges</th>\n",
       "      <th>Churn</th>\n",
       "    </tr>\n",
       "  </thead>\n",
       "  <tbody>\n",
       "    <tr>\n",
       "      <th>0</th>\n",
       "      <td>7590-VHVEG</td>\n",
       "      <td>Female</td>\n",
       "      <td>0</td>\n",
       "      <td>1</td>\n",
       "      <td>0</td>\n",
       "      <td>1</td>\n",
       "      <td>0.0</td>\n",
       "      <td>dsl</td>\n",
       "      <td>0</td>\n",
       "      <td>0</td>\n",
       "      <td>0</td>\n",
       "      <td>Month-to-month</td>\n",
       "      <td>Electronic check</td>\n",
       "      <td>29.85</td>\n",
       "      <td>29.85</td>\n",
       "      <td>0</td>\n",
       "    </tr>\n",
       "    <tr>\n",
       "      <th>1</th>\n",
       "      <td>5575-GNVDE</td>\n",
       "      <td>Male</td>\n",
       "      <td>0</td>\n",
       "      <td>0</td>\n",
       "      <td>0</td>\n",
       "      <td>34</td>\n",
       "      <td>1.0</td>\n",
       "      <td>dsl</td>\n",
       "      <td>1</td>\n",
       "      <td>0</td>\n",
       "      <td>0</td>\n",
       "      <td>One year</td>\n",
       "      <td>Mailed check</td>\n",
       "      <td>56.95</td>\n",
       "      <td>1889.50</td>\n",
       "      <td>0</td>\n",
       "    </tr>\n",
       "    <tr>\n",
       "      <th>2</th>\n",
       "      <td>3668-QPYBK</td>\n",
       "      <td>Male</td>\n",
       "      <td>0</td>\n",
       "      <td>0</td>\n",
       "      <td>0</td>\n",
       "      <td>2</td>\n",
       "      <td>1.0</td>\n",
       "      <td>dsl</td>\n",
       "      <td>1</td>\n",
       "      <td>0</td>\n",
       "      <td>0</td>\n",
       "      <td>Month-to-month</td>\n",
       "      <td>Mailed check</td>\n",
       "      <td>53.85</td>\n",
       "      <td>108.15</td>\n",
       "      <td>1</td>\n",
       "    </tr>\n",
       "    <tr>\n",
       "      <th>3</th>\n",
       "      <td>7795-CFOCW</td>\n",
       "      <td>Male</td>\n",
       "      <td>0</td>\n",
       "      <td>0</td>\n",
       "      <td>0</td>\n",
       "      <td>45</td>\n",
       "      <td>0.0</td>\n",
       "      <td>dsl</td>\n",
       "      <td>1</td>\n",
       "      <td>1</td>\n",
       "      <td>0</td>\n",
       "      <td>One year</td>\n",
       "      <td>Bank transfer (automatic)</td>\n",
       "      <td>71.45</td>\n",
       "      <td>1840.75</td>\n",
       "      <td>0</td>\n",
       "    </tr>\n",
       "    <tr>\n",
       "      <th>4</th>\n",
       "      <td>8191-XWSZG</td>\n",
       "      <td>Female</td>\n",
       "      <td>0</td>\n",
       "      <td>0</td>\n",
       "      <td>0</td>\n",
       "      <td>52</td>\n",
       "      <td>1.0</td>\n",
       "      <td>no</td>\n",
       "      <td>0</td>\n",
       "      <td>0</td>\n",
       "      <td>0</td>\n",
       "      <td>One year</td>\n",
       "      <td>Mailed check</td>\n",
       "      <td>71.45</td>\n",
       "      <td>1022.95</td>\n",
       "      <td>0</td>\n",
       "    </tr>\n",
       "  </tbody>\n",
       "</table>\n",
       "</div>"
      ],
      "text/plain": [
       "   CustomerID  Gender  Senior  Married  Dependents  Tenure  PhoneService  \\\n",
       "0  7590-VHVEG  Female       0        1           0       1           0.0   \n",
       "1  5575-GNVDE    Male       0        0           0      34           1.0   \n",
       "2  3668-QPYBK    Male       0        0           0       2           1.0   \n",
       "3  7795-CFOCW    Male       0        0           0      45           0.0   \n",
       "4  8191-XWSZG  Female       0        0           0      52           1.0   \n",
       "\n",
       "  InternetService  SecurityService  TechinicalSupport  StreamingTV  \\\n",
       "0             dsl                0                  0            0   \n",
       "1             dsl                1                  0            0   \n",
       "2             dsl                1                  0            0   \n",
       "3             dsl                1                  1            0   \n",
       "4              no                0                  0            0   \n",
       "\n",
       "     ContractType              PaymentMethod  MonthlyCharges  TotalCharges  \\\n",
       "0  Month-to-month           Electronic check           29.85         29.85   \n",
       "1        One year               Mailed check           56.95       1889.50   \n",
       "2  Month-to-month               Mailed check           53.85        108.15   \n",
       "3        One year  Bank transfer (automatic)           71.45       1840.75   \n",
       "4        One year               Mailed check           71.45       1022.95   \n",
       "\n",
       "   Churn  \n",
       "0      0  \n",
       "1      0  \n",
       "2      1  \n",
       "3      0  \n",
       "4      0  "
      ]
     },
     "execution_count": 3,
     "metadata": {},
     "output_type": "execute_result"
    }
   ],
   "source": [
    "df = pd.read_csv('churn_telecon_tratado.csv')\n",
    "df.head()"
   ]
  },
  {
   "cell_type": "markdown",
   "metadata": {
    "id": "3O70nJb2HNP2"
   },
   "source": [
    "# 2) Comece pela análise univariada:\n",
    "\n",
    "A) Utilize a função describe no seu dataframe, veja os insights que consegue retirar.\n",
    "\n",
    "B) Já é possível identificar variáveis com possíveis outliers? Se sim, quais?\n",
    "\n",
    "C) Plot gráficos que considerar importante para completar sua análise univariada. (Lembrando que sua variável preditora é o churn). Não se esqueça de trazer insights de cada gráfico plotado. Utilize pelo menos 4 variáveis distintas.\n",
    "\n",
    "D) Verifique se os dados das variáveis Booleanas são balanceados ou não."
   ]
  },
  {
   "cell_type": "code",
   "execution_count": null,
   "metadata": {
    "id": "unW8WDrlGBFE"
   },
   "outputs": [
    {
     "data": {
      "application/vnd.microsoft.datawrangler.viewer.v0+json": {
       "columns": [
        {
         "name": "index",
         "rawType": "object",
         "type": "string"
        },
        {
         "name": "Tenure",
         "rawType": "float64",
         "type": "float"
        },
        {
         "name": "MonthlyCharges",
         "rawType": "float64",
         "type": "float"
        },
        {
         "name": "TotalCharges",
         "rawType": "float64",
         "type": "float"
        }
       ],
       "ref": "53b56cd6-91f3-45af-87e7-35c644f78a2c",
       "rows": [
        [
         "count",
         "2488.0",
         "2488.0",
         "2488.0"
        ],
        [
         "mean",
         "32.352090032154344",
         "66.34256430868167",
         "2290.0871784565916"
        ],
        [
         "std",
         "24.636885018004264",
         "28.05171825827324",
         "2264.5856430075414"
        ],
        [
         "min",
         "0.0",
         "18.4",
         "18.8"
        ],
        [
         "25%",
         "8.0",
         "45.4",
         "402.3375"
        ],
        [
         "50%",
         "29.0",
         "71.45",
         "1402.9"
        ],
        [
         "75%",
         "56.0",
         "87.7125",
         "3867.1625"
        ],
        [
         "max",
         "72.0",
         "118.65",
         "8564.75"
        ]
       ],
       "shape": {
        "columns": 3,
        "rows": 8
       }
      },
      "text/html": [
       "<div>\n",
       "<style scoped>\n",
       "    .dataframe tbody tr th:only-of-type {\n",
       "        vertical-align: middle;\n",
       "    }\n",
       "\n",
       "    .dataframe tbody tr th {\n",
       "        vertical-align: top;\n",
       "    }\n",
       "\n",
       "    .dataframe thead th {\n",
       "        text-align: right;\n",
       "    }\n",
       "</style>\n",
       "<table border=\"1\" class=\"dataframe\">\n",
       "  <thead>\n",
       "    <tr style=\"text-align: right;\">\n",
       "      <th></th>\n",
       "      <th>Tenure</th>\n",
       "      <th>MonthlyCharges</th>\n",
       "      <th>TotalCharges</th>\n",
       "    </tr>\n",
       "  </thead>\n",
       "  <tbody>\n",
       "    <tr>\n",
       "      <th>count</th>\n",
       "      <td>2488.000000</td>\n",
       "      <td>2488.000000</td>\n",
       "      <td>2488.000000</td>\n",
       "    </tr>\n",
       "    <tr>\n",
       "      <th>mean</th>\n",
       "      <td>32.352090</td>\n",
       "      <td>66.342564</td>\n",
       "      <td>2290.087178</td>\n",
       "    </tr>\n",
       "    <tr>\n",
       "      <th>std</th>\n",
       "      <td>24.636885</td>\n",
       "      <td>28.051718</td>\n",
       "      <td>2264.585643</td>\n",
       "    </tr>\n",
       "    <tr>\n",
       "      <th>min</th>\n",
       "      <td>0.000000</td>\n",
       "      <td>18.400000</td>\n",
       "      <td>18.800000</td>\n",
       "    </tr>\n",
       "    <tr>\n",
       "      <th>25%</th>\n",
       "      <td>8.000000</td>\n",
       "      <td>45.400000</td>\n",
       "      <td>402.337500</td>\n",
       "    </tr>\n",
       "    <tr>\n",
       "      <th>50%</th>\n",
       "      <td>29.000000</td>\n",
       "      <td>71.450000</td>\n",
       "      <td>1402.900000</td>\n",
       "    </tr>\n",
       "    <tr>\n",
       "      <th>75%</th>\n",
       "      <td>56.000000</td>\n",
       "      <td>87.712500</td>\n",
       "      <td>3867.162500</td>\n",
       "    </tr>\n",
       "    <tr>\n",
       "      <th>max</th>\n",
       "      <td>72.000000</td>\n",
       "      <td>118.650000</td>\n",
       "      <td>8564.750000</td>\n",
       "    </tr>\n",
       "  </tbody>\n",
       "</table>\n",
       "</div>"
      ],
      "text/plain": [
       "            Tenure  MonthlyCharges  TotalCharges\n",
       "count  2488.000000     2488.000000   2488.000000\n",
       "mean     32.352090       66.342564   2290.087178\n",
       "std      24.636885       28.051718   2264.585643\n",
       "min       0.000000       18.400000     18.800000\n",
       "25%       8.000000       45.400000    402.337500\n",
       "50%      29.000000       71.450000   1402.900000\n",
       "75%      56.000000       87.712500   3867.162500\n",
       "max      72.000000      118.650000   8564.750000"
      ]
     },
     "execution_count": 5,
     "metadata": {},
     "output_type": "execute_result"
    }
   ],
   "source": [
    "#A)\n",
    "cols_quants = ['Tenure', 'MonthlyCharges', 'TotalCharges'] \n",
    "df[cols_quants].describe()\n",
    "\n",
    "#B)\n",
    "# A coluna TotalCharges é a que mostra uma grande variação entre a média e a mediana, além de mostar quartis com saltos não uniformes"
   ]
  },
  {
   "cell_type": "code",
   "execution_count": 18,
   "metadata": {},
   "outputs": [
    {
     "name": "stderr",
     "output_type": "stream",
     "text": [
      "/tmp/ipykernel_7803/3814281034.py:7: FutureWarning: Series.__getitem__ treating keys as positions is deprecated. In a future version, integer keys will always be treated as labels (consistent with DataFrame behavior). To access a value by position, use `ser.iloc[pos]`\n",
      "  ax.text(i, v + 1, f'{percentual[i]:.2f}%', ha='center')\n"
     ]
    },
    {
     "data": {
      "image/png": "[encoded data removed]",
      "text/plain": [
       "<Figure size 640x480 with 1 Axes>"
      ]
     },
     "metadata": {},
     "output_type": "display_data"
    },
    {
     "name": "stderr",
     "output_type": "stream",
     "text": [
      "/tmp/ipykernel_7803/3814281034.py:17: FutureWarning: Series.__getitem__ treating keys as positions is deprecated. In a future version, integer keys will always be treated as labels (consistent with DataFrame behavior). To access a value by position, use `ser.iloc[pos]`\n",
      "  ax.text(i, v + 1, f'{percentual[i]:.2f}%', ha='center')\n"
     ]
    },
    {
     "data": {
      "image/png": "[encoded data removed]",
      "text/plain": [
       "<Figure size 640x480 with 1 Axes>"
      ]
     },
     "metadata": {},
     "output_type": "display_data"
    },
    {
     "name": "stderr",
     "output_type": "stream",
     "text": [
      "/tmp/ipykernel_7803/3814281034.py:27: FutureWarning: Series.__getitem__ treating keys as positions is deprecated. In a future version, integer keys will always be treated as labels (consistent with DataFrame behavior). To access a value by position, use `ser.iloc[pos]`\n",
      "  ax.text(i, v + 1, f'{percentual[i]:.2f}%', ha='center')\n"
     ]
    },
    {
     "data": {
      "image/png": "[encoded data removed]",
      "text/plain": [
       "<Figure size 640x480 with 1 Axes>"
      ]
     },
     "metadata": {},
     "output_type": "display_data"
    },
    {
     "name": "stderr",
     "output_type": "stream",
     "text": [
      "/tmp/ipykernel_7803/3814281034.py:37: FutureWarning: Series.__getitem__ treating keys as positions is deprecated. In a future version, integer keys will always be treated as labels (consistent with DataFrame behavior). To access a value by position, use `ser.iloc[pos]`\n",
      "  ax.text(i, v + 1, f'{percentual[i]:.2f}%', ha='center')\n"
     ]
    },
    {
     "data": {
      "image/png": "[encoded data removed]",
      "text/plain": [
       "<Figure size 640x480 with 1 Axes>"
      ]
     },
     "metadata": {},
     "output_type": "display_data"
    }
   ],
   "source": [
    "#C)\n",
    "\n",
    "contagem = df['ContractType'].value_counts()\n",
    "percentual = (contagem / contagem.sum()) * 100\n",
    "ax = contagem.plot(kind='bar')\n",
    "for i, v in enumerate(contagem):\n",
    "    ax.text(i, v + 1, f'{percentual[i]:.2f}%', ha='center')\n",
    "plt.title('Gráfico de Barras para a Variável \"Tipo de Contrato\"')\n",
    "plt.xlabel('Tipo de Contrato')\n",
    "plt.ylabel('Frequência')\n",
    "plt.show()\n",
    "\n",
    "contagem = df['PaymentMethod'].value_counts()\n",
    "percentual = (contagem / contagem.sum()) * 100\n",
    "ax = contagem.plot(kind='bar')\n",
    "for i, v in enumerate(contagem):\n",
    "    ax.text(i, v + 1, f'{percentual[i]:.2f}%', ha='center')\n",
    "plt.title('Gráfico de Barras para a Variável \"Metodo de Pagamento\"')\n",
    "plt.xlabel('Metodo de Pagamento')\n",
    "plt.ylabel('Frequência')\n",
    "plt.show()\n",
    "\n",
    "contagem = df['InternetService'].value_counts()\n",
    "percentual = (contagem / contagem.sum()) * 100\n",
    "ax = contagem.plot(kind='bar')\n",
    "for i, v in enumerate(contagem):\n",
    "    ax.text(i, v + 1, f'{percentual[i]:.2f}%', ha='center')\n",
    "plt.title('Gráfico de Barras para a Variável \"Serviço de Internet\"')\n",
    "plt.xlabel('Serviço de Internet?')\n",
    "plt.ylabel('Frequência')\n",
    "plt.show()\n",
    "\n",
    "contagem = df['Gender'].value_counts()\n",
    "percentual = (contagem / contagem.sum()) * 100\n",
    "ax = contagem.plot(kind='bar')\n",
    "for i, v in enumerate(contagem):\n",
    "    ax.text(i, v + 1, f'{percentual[i]:.2f}%', ha='center')\n",
    "plt.title('Gráfico de Barras para a Variável \"Genero\"')\n",
    "plt.xlabel('Genero?')\n",
    "plt.ylabel('Frequência')\n",
    "plt.show()"
   ]
  },
  {
   "cell_type": "markdown",
   "metadata": {},
   "source": [
    "## Resposta da C\n",
    " Todas as variáveis categoricas que não são binárias apresentam uma boa distribuição, felizmente todas podem ser usadas para avaliar o churn, no caso da variável relacionada ao tipo de contrato, talvez seria bom até dividir entre quem paga mensalmente e quem tem um contrato de longa duração."
   ]
  },
  {
   "cell_type": "code",
   "execution_count": 21,
   "metadata": {},
   "outputs": [
    {
     "name": "stdout",
     "output_type": "stream",
     "text": [
      "\n",
      "Distribuição da coluna Senior\n",
      "\n",
      "Senior\n",
      "0    83.842444\n",
      "1    16.157556\n",
      "Name: proportion, dtype: float64\n",
      "\n",
      "Distribuição da coluna Married\n",
      "\n",
      "Married\n",
      "0    50.723473\n",
      "1    49.276527\n",
      "Name: proportion, dtype: float64\n",
      "\n",
      "Distribuição da coluna Dependents\n",
      "\n",
      "Dependents\n",
      "0    68.528939\n",
      "1    31.471061\n",
      "Name: proportion, dtype: float64\n",
      "\n",
      "Distribuição da coluna PhoneService\n",
      "\n",
      "PhoneService\n",
      "1.0    96.543408\n",
      "0.0     3.456592\n",
      "Name: proportion, dtype: float64\n",
      "\n",
      "Distribuição da coluna SecurityService\n",
      "\n",
      "SecurityService\n",
      "0    71.583601\n",
      "1    28.416399\n",
      "Name: proportion, dtype: float64\n",
      "\n",
      "Distribuição da coluna TechinicalSupport\n",
      "\n",
      "TechinicalSupport\n",
      "0    71.42283\n",
      "1    28.57717\n",
      "Name: proportion, dtype: float64\n",
      "\n",
      "Distribuição da coluna StreamingTV\n",
      "\n",
      "StreamingTV\n",
      "0    61.414791\n",
      "1    38.585209\n",
      "Name: proportion, dtype: float64\n",
      "\n",
      "Distribuição da coluna Churn\n",
      "\n",
      "Churn\n",
      "0    73.995177\n",
      "1    26.004823\n",
      "Name: proportion, dtype: float64\n"
     ]
    }
   ],
   "source": [
    "#D\n",
    "\n",
    "booleanas = ['Senior','Married', 'Dependents', 'PhoneService', 'SecurityService', 'TechinicalSupport', 'StreamingTV', 'Churn']\n",
    "for i in booleanas:\n",
    "    print(f'\\nDistribuição da coluna {i}\\n')\n",
    "    print(df[i].value_counts(normalize=True)*100)"
   ]
  },
  {
   "cell_type": "markdown",
   "metadata": {},
   "source": [
    "## Resposta da D\n",
    "\n",
    "As vaŕiaveis Married e StreamingTV tem uma boa distribuição, ótimas para a análise.\n",
    "\n",
    "As variáveis Senior e PhoneService são muito enviesadas, então seria melhor deixar elas de lado. \n",
    "\n",
    "As outras variáveis não tem uma distribuição tão boa quanto Married e StreamingTV, mas ainda possuem uma distribuição aceitável para fazer análise."
   ]
  },
  {
   "cell_type": "markdown",
   "metadata": {
    "id": "kQ8r3_LVH_EJ"
   },
   "source": [
    "# 3) Identifique e trate as colunas que contém outliers.\n",
    "Caso opte por mante-los ou altera-los justifique sua escolha.\n"
   ]
  },
  {
   "cell_type": "code",
   "execution_count": 22,
   "metadata": {},
   "outputs": [
    {
     "data": {
      "text/plain": [
       "['Tenure', 'MonthlyCharges', 'TotalCharges']"
      ]
     },
     "execution_count": 22,
     "metadata": {},
     "output_type": "execute_result"
    }
   ],
   "source": [
    "cols_quants"
   ]
  },
  {
   "cell_type": "code",
   "execution_count": 23,
   "metadata": {
    "id": "hL9I5plcGEAA"
   },
   "outputs": [
    {
     "data": {
      "application/vnd.plotly.v1+json": {
       "config": {
        "plotlyServerURL": "https://plot.ly"
       },
       "data": [
        {
         "alignmentgroup": "True",
         "hovertemplate": "Tenure=%{y}<extra></extra>",
         "legendgroup": "",
         "marker": {
          "color": "#636efa"
         },
         "name": "",
         "notched": false,
         "offsetgroup": "",
         "orientation": "v",
         "showlegend": false,
         "type": "box",
         "x0": " ",
         "xaxis": "x",
         "y": {
          "bdata": "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",
          "dtype": "i1"
         },
         "y0": " ",
         "yaxis": "y"
        }
       ],
       "layout": {
        "boxmode": "group",
        "legend": {
         "tracegroupgap": 0
        },
        "template": {
         "data": {
          "bar": [
           {
            "error_x": {
             "color": "#2a3f5f"
            },
            "error_y": {
             "color": "#2a3f5f"
            },
            "marker": {
             "line": {
              "color": "#E5ECF6",
              "width": 0.5
             },
             "pattern": {
              "fillmode": "overlay",
              "size": 10,
              "solidity": 0.2
             }
            },
            "type": "bar"
           }
          ],
          "barpolar": [
           {
            "marker": {
             "line": {
              "color": "#E5ECF6",
              "width": 0.5
             },
             "pattern": {
              "fillmode": "overlay",
              "size": 10,
              "solidity": 0.2
             }
            },
            "type": "barpolar"
           }
          ],
          "carpet": [
           {
            "aaxis": {
             "endlinecolor": "#2a3f5f",
             "gridcolor": "white",
             "linecolor": "white",
             "minorgridcolor": "white",
             "startlinecolor": "#2a3f5f"
            },
            "baxis": {
             "endlinecolor": "#2a3f5f",
             "gridcolor": "white",
             "linecolor": "white",
             "minorgridcolor": "white",
             "startlinecolor": "#2a3f5f"
            },
            "type": "carpet"
           }
          ],
          "choropleth": [
           {
            "colorbar": {
             "outlinewidth": 0,
             "ticks": ""
            },
            "type": "choropleth"
           }
          ],
          "contour": [
           {
            "colorbar": {
             "outlinewidth": 0,
             "ticks": ""
            },
            "colorscale": [
             [
              0,
              "#0d0887"
             ],
             [
              0.1111111111111111,
              "#46039f"
             ],
             [
              0.2222222222222222,
              "#7201a8"
             ],
             [
              0.3333333333333333,
              "#9c179e"
             ],
             [
              0.4444444444444444,
              "#bd3786"
             ],
             [
              0.5555555555555556,
              "#d8576b"
             ],
             [
              0.6666666666666666,
              "#ed7953"
             ],
             [
              0.7777777777777778,
              "#fb9f3a"
             ],
             [
              0.8888888888888888,
              "#fdca26"
             ],
             [
              1,
              "#f0f921"
             ]
            ],
            "type": "contour"
           }
          ],
          "contourcarpet": [
           {
            "colorbar": {
             "outlinewidth": 0,
             "ticks": ""
            },
            "type": "contourcarpet"
           }
          ],
          "heatmap": [
           {
            "colorbar": {
             "outlinewidth": 0,
             "ticks": ""
            },
            "colorscale": [
             [
              0,
              "#0d0887"
             ],
             [
              0.1111111111111111,
              "#46039f"
             ],
             [
              0.2222222222222222,
              "#7201a8"
             ],
             [
              0.3333333333333333,
              "#9c179e"
             ],
             [
              0.4444444444444444,
              "#bd3786"
             ],
             [
              0.5555555555555556,
              "#d8576b"
             ],
             [
              0.6666666666666666,
              "#ed7953"
             ],
             [
              0.7777777777777778,
              "#fb9f3a"
             ],
             [
              0.8888888888888888,
              "#fdca26"
             ],
             [
              1,
              "#f0f921"
             ]
            ],
            "type": "heatmap"
           }
          ],
          "histogram": [
           {
            "marker": {
             "pattern": {
              "fillmode": "overlay",
              "size": 10,
              "solidity": 0.2
             }
            },
            "type": "histogram"
           }
          ],
          "histogram2d": [
           {
            "colorbar": {
             "outlinewidth": 0,
             "ticks": ""
            },
            "colorscale": [
             [
              0,
              "#0d0887"
             ],
             [
              0.1111111111111111,
              "#46039f"
             ],
             [
              0.2222222222222222,
              "#7201a8"
             ],
             [
              0.3333333333333333,
              "#9c179e"
             ],
             [
              0.4444444444444444,
              "#bd3786"
             ],
             [
              0.5555555555555556,
              "#d8576b"
             ],
             [
              0.6666666666666666,
              "#ed7953"
             ],
             [
              0.7777777777777778,
              "#fb9f3a"
             ],
             [
              0.8888888888888888,
              "#fdca26"
             ],
             [
              1,
              "#f0f921"
             ]
            ],
            "type": "histogram2d"
           }
          ],
          "histogram2dcontour": [
           {
            "colorbar": {
             "outlinewidth": 0,
             "ticks": ""
            },
            "colorscale": [
             [
              0,
              "#0d0887"
             ],
             [
              0.1111111111111111,
              "#46039f"
             ],
             [
              0.2222222222222222,
              "#7201a8"
             ],
             [
              0.3333333333333333,
              "#9c179e"
             ],
             [
              0.4444444444444444,
              "#bd3786"
             ],
             [
              0.5555555555555556,
              "#d8576b"
             ],
             [
              0.6666666666666666,
              "#ed7953"
             ],
             [
              0.7777777777777778,
              "#fb9f3a"
             ],
             [
              0.8888888888888888,
              "#fdca26"
             ],
             [
              1,
              "#f0f921"
             ]
            ],
            "type": "histogram2dcontour"
           }
          ],
          "mesh3d": [
           {
            "colorbar": {
             "outlinewidth": 0,
             "ticks": ""
            },
            "type": "mesh3d"
           }
          ],
          "parcoords": [
           {
            "line": {
             "colorbar": {
              "outlinewidth": 0,
              "ticks": ""
             }
            },
            "type": "parcoords"
           }
          ],
          "pie": [
           {
            "automargin": true,
            "type": "pie"
           }
          ],
          "scatter": [
           {
            "fillpattern": {
             "fillmode": "overlay",
             "size": 10,
             "solidity": 0.2
            },
            "type": "scatter"
           }
          ],
          "scatter3d": [
           {
            "line": {
             "colorbar": {
              "outlinewidth": 0,
              "ticks": ""
             }
            },
            "marker": {
             "colorbar": {
              "outlinewidth": 0,
              "ticks": ""
             }
            },
            "type": "scatter3d"
           }
          ],
          "scattercarpet": [
           {
            "marker": {
             "colorbar": {
              "outlinewidth": 0,
              "ticks": ""
             }
            },
            "type": "scattercarpet"
           }
          ],
          "scattergeo": [
           {
            "marker": {
             "colorbar": {
              "outlinewidth": 0,
              "ticks": ""
             }
            },
            "type": "scattergeo"
           }
          ],
          "scattergl": [
           {
            "marker": {
             "colorbar": {
              "outlinewidth": 0,
              "ticks": ""
             }
            },
            "type": "scattergl"
           }
          ],
          "scattermap": [
           {
            "marker": {
             "colorbar": {
              "outlinewidth": 0,
              "ticks": ""
             }
            },
            "type": "scattermap"
           }
          ],
          "scattermapbox": [
           {
            "marker": {
             "colorbar": {
              "outlinewidth": 0,
              "ticks": ""
             }
            },
            "type": "scattermapbox"
           }
          ],
          "scatterpolar": [
           {
            "marker": {
             "colorbar": {
              "outlinewidth": 0,
              "ticks": ""
             }
            },
            "type": "scatterpolar"
           }
          ],
          "scatterpolargl": [
           {
            "marker": {
             "colorbar": {
              "outlinewidth": 0,
              "ticks": ""
             }
            },
            "type": "scatterpolargl"
           }
          ],
          "scatterternary": [
           {
            "marker": {
             "colorbar": {
              "outlinewidth": 0,
              "ticks": ""
             }
            },
            "type": "scatterternary"
           }
          ],
          "surface": [
           {
            "colorbar": {
             "outlinewidth": 0,
             "ticks": ""
            },
            "colorscale": [
             [
              0,
              "#0d0887"
             ],
             [
              0.1111111111111111,
              "#46039f"
             ],
             [
              0.2222222222222222,
              "#7201a8"
             ],
             [
              0.3333333333333333,
              "#9c179e"
             ],
             [
              0.4444444444444444,
              "#bd3786"
             ],
             [
              0.5555555555555556,
              "#d8576b"
             ],
             [
              0.6666666666666666,
              "#ed7953"
             ],
             [
              0.7777777777777778,
              "#fb9f3a"
             ],
             [
              0.8888888888888888,
              "#fdca26"
             ],
             [
              1,
              "#f0f921"
             ]
            ],
            "type": "surface"
           }
          ],
          "table": [
           {
            "cells": {
             "fill": {
              "color": "#EBF0F8"
             },
             "line": {
              "color": "white"
             }
            },
            "header": {
             "fill": {
              "color": "#C8D4E3"
             },
             "line": {
              "color": "white"
             }
            },
            "type": "table"
           }
          ]
         },
         "layout": {
          "annotationdefaults": {
           "arrowcolor": "#2a3f5f",
           "arrowhead": 0,
           "arrowwidth": 1
          },
          "autotypenumbers": "strict",
          "coloraxis": {
           "colorbar": {
            "outlinewidth": 0,
            "ticks": ""
           }
          },
          "colorscale": {
           "diverging": [
            [
             0,
             "#8e0152"
            ],
            [
             0.1,
             "#c51b7d"
            ],
            [
             0.2,
             "#de77ae"
            ],
            [
             0.3,
             "#f1b6da"
            ],
            [
             0.4,
             "#fde0ef"
            ],
            [
             0.5,
             "#f7f7f7"
            ],
            [
             0.6,
             "#e6f5d0"
            ],
            [
             0.7,
             "#b8e186"
            ],
            [
             0.8,
             "#7fbc41"
            ],
            [
             0.9,
             "#4d9221"
            ],
            [
             1,
             "#276419"
            ]
           ],
           "sequential": [
            [
             0,
             "#0d0887"
            ],
            [
             0.1111111111111111,
             "#46039f"
            ],
            [
             0.2222222222222222,
             "#7201a8"
            ],
            [
             0.3333333333333333,
             "#9c179e"
            ],
            [
             0.4444444444444444,
             "#bd3786"
            ],
            [
             0.5555555555555556,
             "#d8576b"
            ],
            [
             0.6666666666666666,
             "#ed7953"
            ],
            [
             0.7777777777777778,
             "#fb9f3a"
            ],
            [
             0.8888888888888888,
             "#fdca26"
            ],
            [
             1,
             "#f0f921"
            ]
           ],
           "sequentialminus": [
            [
             0,
             "#0d0887"
            ],
            [
             0.1111111111111111,
             "#46039f"
            ],
            [
             0.2222222222222222,
             "#7201a8"
            ],
            [
             0.3333333333333333,
             "#9c179e"
            ],
            [
             0.4444444444444444,
             "#bd3786"
            ],
            [
             0.5555555555555556,
             "#d8576b"
            ],
            [
             0.6666666666666666,
             "#ed7953"
            ],
            [
             0.7777777777777778,
             "#fb9f3a"
            ],
            [
             0.8888888888888888,
             "#fdca26"
            ],
            [
             1,
             "#f0f921"
            ]
           ]
          },
          "colorway": [
           "#636efa",
           "#EF553B",
           "#00cc96",
           "#ab63fa",
           "#FFA15A",
           "#19d3f3",
           "#FF6692",
           "#B6E880",
           "#FF97FF",
           "#FECB52"
          ],
          "font": {
           "color": "#2a3f5f"
          },
          "geo": {
           "bgcolor": "white",
           "lakecolor": "white",
           "landcolor": "#E5ECF6",
           "showlakes": true,
           "showland": true,
           "subunitcolor": "white"
          },
          "hoverlabel": {
           "align": "left"
          },
          "hovermode": "closest",
          "mapbox": {
           "style": "light"
          },
          "paper_bgcolor": "white",
          "plot_bgcolor": "#E5ECF6",
          "polar": {
           "angularaxis": {
            "gridcolor": "white",
            "linecolor": "white",
            "ticks": ""
           },
           "bgcolor": "#E5ECF6",
           "radialaxis": {
            "gridcolor": "white",
            "linecolor": "white",
            "ticks": ""
           }
          },
          "scene": {
           "xaxis": {
            "backgroundcolor": "#E5ECF6",
            "gridcolor": "white",
            "gridwidth": 2,
            "linecolor": "white",
            "showbackground": true,
            "ticks": "",
            "zerolinecolor": "white"
           },
           "yaxis": {
            "backgroundcolor": "#E5ECF6",
            "gridcolor": "white",
            "gridwidth": 2,
            "linecolor": "white",
            "showbackground": true,
            "ticks": "",
            "zerolinecolor": "white"
           },
           "zaxis": {
            "backgroundcolor": "#E5ECF6",
            "gridcolor": "white",
            "gridwidth": 2,
            "linecolor": "white",
            "showbackground": true,
            "ticks": "",
            "zerolinecolor": "white"
           }
          },
          "shapedefaults": {
           "line": {
            "color": "#2a3f5f"
           }
          },
          "ternary": {
           "aaxis": {
            "gridcolor": "white",
            "linecolor": "white",
            "ticks": ""
           },
           "baxis": {
            "gridcolor": "white",
            "linecolor": "white",
            "ticks": ""
           },
           "bgcolor": "#E5ECF6",
           "caxis": {
            "gridcolor": "white",
            "linecolor": "white",
            "ticks": ""
           }
          },
          "title": {
           "x": 0.05
          },
          "xaxis": {
           "automargin": true,
           "gridcolor": "white",
           "linecolor": "white",
           "ticks": "",
           "title": {
            "standoff": 15
           },
           "zerolinecolor": "white",
           "zerolinewidth": 2
          },
          "yaxis": {
           "automargin": true,
           "gridcolor": "white",
           "linecolor": "white",
           "ticks": "",
           "title": {
            "standoff": 15
           },
           "zerolinecolor": "white",
           "zerolinewidth": 2
          }
         }
        },
        "title": {
         "text": "Box Plot do tempo de relacionamento"
        },
        "xaxis": {
         "anchor": "y",
         "domain": [
          0,
          1
         ]
        },
        "yaxis": {
         "anchor": "x",
         "domain": [
          0,
          1
         ],
         "title": {
          "text": "Tenure"
         }
        }
       }
      }
     },
     "metadata": {},
     "output_type": "display_data"
    },
    {
     "data": {
      "application/vnd.plotly.v1+json": {
       "config": {
        "plotlyServerURL": "https://plot.ly"
       },
       "data": [
        {
         "alignmentgroup": "True",
         "hovertemplate": "MonthlyCharges=%{y}<extra></extra>",
         "legendgroup": "",
         "marker": {
          "color": "#636efa"
         },
         "name": "",
         "notched": false,
         "offsetgroup": "",
         "orientation": "v",
         "showlegend": false,
         "type": "box",
         "x0": " ",
         "xaxis": "x",
         "y": {
          "bdata": "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",
          "dtype": "f8"
         },
         "y0": " ",
         "yaxis": "y"
        }
       ],
       "layout": {
        "boxmode": "group",
        "legend": {
         "tracegroupgap": 0
        },
        "template": {
         "data": {
          "bar": [
           {
            "error_x": {
             "color": "#2a3f5f"
            },
            "error_y": {
             "color": "#2a3f5f"
            },
            "marker": {
             "line": {
              "color": "#E5ECF6",
              "width": 0.5
             },
             "pattern": {
              "fillmode": "overlay",
              "size": 10,
              "solidity": 0.2
             }
            },
            "type": "bar"
           }
          ],
          "barpolar": [
           {
            "marker": {
             "line": {
              "color": "#E5ECF6",
              "width": 0.5
             },
             "pattern": {
              "fillmode": "overlay",
              "size": 10,
              "solidity": 0.2
             }
            },
            "type": "barpolar"
           }
          ],
          "carpet": [
           {
            "aaxis": {
             "endlinecolor": "#2a3f5f",
             "gridcolor": "white",
             "linecolor": "white",
             "minorgridcolor": "white",
             "startlinecolor": "#2a3f5f"
            },
            "baxis": {
             "endlinecolor": "#2a3f5f",
             "gridcolor": "white",
             "linecolor": "white",
             "minorgridcolor": "white",
             "startlinecolor": "#2a3f5f"
            },
            "type": "carpet"
           }
          ],
          "choropleth": [
           {
            "colorbar": {
             "outlinewidth": 0,
             "ticks": ""
            },
            "type": "choropleth"
           }
          ],
          "contour": [
           {
            "colorbar": {
             "outlinewidth": 0,
             "ticks": ""
            },
            "colorscale": [
             [
              0,
              "#0d0887"
             ],
             [
              0.1111111111111111,
              "#46039f"
             ],
             [
              0.2222222222222222,
              "#7201a8"
             ],
             [
              0.3333333333333333,
              "#9c179e"
             ],
             [
              0.4444444444444444,
              "#bd3786"
             ],
             [
              0.5555555555555556,
              "#d8576b"
             ],
             [
              0.6666666666666666,
              "#ed7953"
             ],
             [
              0.7777777777777778,
              "#fb9f3a"
             ],
             [
              0.8888888888888888,
              "#fdca26"
             ],
             [
              1,
              "#f0f921"
             ]
            ],
            "type": "contour"
           }
          ],
          "contourcarpet": [
           {
            "colorbar": {
             "outlinewidth": 0,
             "ticks": ""
            },
            "type": "contourcarpet"
           }
          ],
          "heatmap": [
           {
            "colorbar": {
             "outlinewidth": 0,
             "ticks": ""
            },
            "colorscale": [
             [
              0,
              "#0d0887"
             ],
             [
              0.1111111111111111,
              "#46039f"
             ],
             [
              0.2222222222222222,
              "#7201a8"
             ],
             [
              0.3333333333333333,
              "#9c179e"
             ],
             [
              0.4444444444444444,
              "#bd3786"
             ],
             [
              0.5555555555555556,
              "#d8576b"
             ],
             [
              0.6666666666666666,
              "#ed7953"
             ],
             [
              0.7777777777777778,
              "#fb9f3a"
             ],
             [
              0.8888888888888888,
              "#fdca26"
             ],
             [
              1,
              "#f0f921"
             ]
            ],
            "type": "heatmap"
           }
          ],
          "histogram": [
           {
            "marker": {
             "pattern": {
              "fillmode": "overlay",
              "size": 10,
              "solidity": 0.2
             }
            },
            "type": "histogram"
           }
          ],
          "histogram2d": [
           {
            "colorbar": {
             "outlinewidth": 0,
             "ticks": ""
            },
            "colorscale": [
             [
              0,
              "#0d0887"
             ],
             [
              0.1111111111111111,
              "#46039f"
             ],
             [
              0.2222222222222222,
              "#7201a8"
             ],
             [
              0.3333333333333333,
              "#9c179e"
             ],
             [
              0.4444444444444444,
              "#bd3786"
             ],
             [
              0.5555555555555556,
              "#d8576b"
             ],
             [
              0.6666666666666666,
              "#ed7953"
             ],
             [
              0.7777777777777778,
              "#fb9f3a"
             ],
             [
              0.8888888888888888,
              "#fdca26"
             ],
             [
              1,
              "#f0f921"
             ]
            ],
            "type": "histogram2d"
           }
          ],
          "histogram2dcontour": [
           {
            "colorbar": {
             "outlinewidth": 0,
             "ticks": ""
            },
            "colorscale": [
             [
              0,
              "#0d0887"
             ],
             [
              0.1111111111111111,
              "#46039f"
             ],
             [
              0.2222222222222222,
              "#7201a8"
             ],
             [
              0.3333333333333333,
              "#9c179e"
             ],
             [
              0.4444444444444444,
              "#bd3786"
             ],
             [
              0.5555555555555556,
              "#d8576b"
             ],
             [
              0.6666666666666666,
              "#ed7953"
             ],
             [
              0.7777777777777778,
              "#fb9f3a"
             ],
             [
              0.8888888888888888,
              "#fdca26"
             ],
             [
              1,
              "#f0f921"
             ]
            ],
            "type": "histogram2dcontour"
           }
          ],
          "mesh3d": [
           {
            "colorbar": {
             "outlinewidth": 0,
             "ticks": ""
            },
            "type": "mesh3d"
           }
          ],
          "parcoords": [
           {
            "line": {
             "colorbar": {
              "outlinewidth": 0,
              "ticks": ""
             }
            },
            "type": "parcoords"
           }
          ],
          "pie": [
           {
            "automargin": true,
            "type": "pie"
           }
          ],
          "scatter": [
           {
            "fillpattern": {
             "fillmode": "overlay",
             "size": 10,
             "solidity": 0.2
            },
            "type": "scatter"
           }
          ],
          "scatter3d": [
           {
            "line": {
             "colorbar": {
              "outlinewidth": 0,
              "ticks": ""
             }
            },
            "marker": {
             "colorbar": {
              "outlinewidth": 0,
              "ticks": ""
             }
            },
            "type": "scatter3d"
           }
          ],
          "scattercarpet": [
           {
            "marker": {
             "colorbar": {
              "outlinewidth": 0,
              "ticks": ""
             }
            },
            "type": "scattercarpet"
           }
          ],
          "scattergeo": [
           {
            "marker": {
             "colorbar": {
              "outlinewidth": 0,
              "ticks": ""
             }
            },
            "type": "scattergeo"
           }
          ],
          "scattergl": [
           {
            "marker": {
             "colorbar": {
              "outlinewidth": 0,
              "ticks": ""
             }
            },
            "type": "scattergl"
           }
          ],
          "scattermap": [
           {
            "marker": {
             "colorbar": {
              "outlinewidth": 0,
              "ticks": ""
             }
            },
            "type": "scattermap"
           }
          ],
          "scattermapbox": [
           {
            "marker": {
             "colorbar": {
              "outlinewidth": 0,
              "ticks": ""
             }
            },
            "type": "scattermapbox"
           }
          ],
          "scatterpolar": [
           {
            "marker": {
             "colorbar": {
              "outlinewidth": 0,
              "ticks": ""
             }
            },
            "type": "scatterpolar"
           }
          ],
          "scatterpolargl": [
           {
            "marker": {
             "colorbar": {
              "outlinewidth": 0,
              "ticks": ""
             }
            },
            "type": "scatterpolargl"
           }
          ],
          "scatterternary": [
           {
            "marker": {
             "colorbar": {
              "outlinewidth": 0,
              "ticks": ""
             }
            },
            "type": "scatterternary"
           }
          ],
          "surface": [
           {
            "colorbar": {
             "outlinewidth": 0,
             "ticks": ""
            },
            "colorscale": [
             [
              0,
              "#0d0887"
             ],
             [
              0.1111111111111111,
              "#46039f"
             ],
             [
              0.2222222222222222,
              "#7201a8"
             ],
             [
              0.3333333333333333,
              "#9c179e"
             ],
             [
              0.4444444444444444,
              "#bd3786"
             ],
             [
              0.5555555555555556,
              "#d8576b"
             ],
             [
              0.6666666666666666,
              "#ed7953"
             ],
             [
              0.7777777777777778,
              "#fb9f3a"
             ],
             [
              0.8888888888888888,
              "#fdca26"
             ],
             [
              1,
              "#f0f921"
             ]
            ],
            "type": "surface"
           }
          ],
          "table": [
           {
            "cells": {
             "fill": {
              "color": "#EBF0F8"
             },
             "line": {
              "color": "white"
             }
            },
            "header": {
             "fill": {
              "color": "#C8D4E3"
             },
             "line": {
              "color": "white"
             }
            },
            "type": "table"
           }
          ]
         },
         "layout": {
          "annotationdefaults": {
           "arrowcolor": "#2a3f5f",
           "arrowhead": 0,
           "arrowwidth": 1
          },
          "autotypenumbers": "strict",
          "coloraxis": {
           "colorbar": {
            "outlinewidth": 0,
            "ticks": ""
           }
          },
          "colorscale": {
           "diverging": [
            [
             0,
             "#8e0152"
            ],
            [
             0.1,
             "#c51b7d"
            ],
            [
             0.2,
             "#de77ae"
            ],
            [
             0.3,
             "#f1b6da"
            ],
            [
             0.4,
             "#fde0ef"
            ],
            [
             0.5,
             "#f7f7f7"
            ],
            [
             0.6,
             "#e6f5d0"
            ],
            [
             0.7,
             "#b8e186"
            ],
            [
             0.8,
             "#7fbc41"
            ],
            [
             0.9,
             "#4d9221"
            ],
            [
             1,
             "#276419"
            ]
           ],
           "sequential": [
            [
             0,
             "#0d0887"
            ],
            [
             0.1111111111111111,
             "#46039f"
            ],
            [
             0.2222222222222222,
             "#7201a8"
            ],
            [
             0.3333333333333333,
             "#9c179e"
            ],
            [
             0.4444444444444444,
             "#bd3786"
            ],
            [
             0.5555555555555556,
             "#d8576b"
            ],
            [
             0.6666666666666666,
             "#ed7953"
            ],
            [
             0.7777777777777778,
             "#fb9f3a"
            ],
            [
             0.8888888888888888,
             "#fdca26"
            ],
            [
             1,
             "#f0f921"
            ]
           ],
           "sequentialminus": [
            [
             0,
             "#0d0887"
            ],
            [
             0.1111111111111111,
             "#46039f"
            ],
            [
             0.2222222222222222,
             "#7201a8"
            ],
            [
             0.3333333333333333,
             "#9c179e"
            ],
            [
             0.4444444444444444,
             "#bd3786"
            ],
            [
             0.5555555555555556,
             "#d8576b"
            ],
            [
             0.6666666666666666,
             "#ed7953"
            ],
            [
             0.7777777777777778,
             "#fb9f3a"
            ],
            [
             0.8888888888888888,
             "#fdca26"
            ],
            [
             1,
             "#f0f921"
            ]
           ]
          },
          "colorway": [
           "#636efa",
           "#EF553B",
           "#00cc96",
           "#ab63fa",
           "#FFA15A",
           "#19d3f3",
           "#FF6692",
           "#B6E880",
           "#FF97FF",
           "#FECB52"
          ],
          "font": {
           "color": "#2a3f5f"
          },
          "geo": {
           "bgcolor": "white",
           "lakecolor": "white",
           "landcolor": "#E5ECF6",
           "showlakes": true,
           "showland": true,
           "subunitcolor": "white"
          },
          "hoverlabel": {
           "align": "left"
          },
          "hovermode": "closest",
          "mapbox": {
           "style": "light"
          },
          "paper_bgcolor": "white",
          "plot_bgcolor": "#E5ECF6",
          "polar": {
           "angularaxis": {
            "gridcolor": "white",
            "linecolor": "white",
            "ticks": ""
           },
           "bgcolor": "#E5ECF6",
           "radialaxis": {
            "gridcolor": "white",
            "linecolor": "white",
            "ticks": ""
           }
          },
          "scene": {
           "xaxis": {
            "backgroundcolor": "#E5ECF6",
            "gridcolor": "white",
            "gridwidth": 2,
            "linecolor": "white",
            "showbackground": true,
            "ticks": "",
            "zerolinecolor": "white"
           },
           "yaxis": {
            "backgroundcolor": "#E5ECF6",
            "gridcolor": "white",
            "gridwidth": 2,
            "linecolor": "white",
            "showbackground": true,
            "ticks": "",
            "zerolinecolor": "white"
           },
           "zaxis": {
            "backgroundcolor": "#E5ECF6",
            "gridcolor": "white",
            "gridwidth": 2,
            "linecolor": "white",
            "showbackground": true,
            "ticks": "",
            "zerolinecolor": "white"
           }
          },
          "shapedefaults": {
           "line": {
            "color": "#2a3f5f"
           }
          },
          "ternary": {
           "aaxis": {
            "gridcolor": "white",
            "linecolor": "white",
            "ticks": ""
           },
           "baxis": {
            "gridcolor": "white",
            "linecolor": "white",
            "ticks": ""
           },
           "bgcolor": "#E5ECF6",
           "caxis": {
            "gridcolor": "white",
            "linecolor": "white",
            "ticks": ""
           }
          },
          "title": {
           "x": 0.05
          },
          "xaxis": {
           "automargin": true,
           "gridcolor": "white",
           "linecolor": "white",
           "ticks": "",
           "title": {
            "standoff": 15
           },
           "zerolinecolor": "white",
           "zerolinewidth": 2
          },
          "yaxis": {
           "automargin": true,
           "gridcolor": "white",
           "linecolor": "white",
           "ticks": "",
           "title": {
            "standoff": 15
           },
           "zerolinecolor": "white",
           "zerolinewidth": 2
          }
         }
        },
        "title": {
         "text": "Box Plot da cobrança mensal"
        },
        "xaxis": {
         "anchor": "y",
         "domain": [
          0,
          1
         ]
        },
        "yaxis": {
         "anchor": "x",
         "domain": [
          0,
          1
         ],
         "title": {
          "text": "MonthlyCharges"
         }
        }
       }
      }
     },
     "metadata": {},
     "output_type": "display_data"
    },
    {
     "data": {
      "application/vnd.plotly.v1+json": {
       "config": {
        "plotlyServerURL": "https://plot.ly"
       },
       "data": [
        {
         "alignmentgroup": "True",
         "hovertemplate": "TotalCharges=%{y}<extra></extra>",
         "legendgroup": "",
         "marker": {
          "color": "#636efa"
         },
         "name": "",
         "notched": false,
         "offsetgroup": "",
         "orientation": "v",
         "showlegend": false,
         "type": "box",
         "x0": " ",
         "xaxis": "x",
         "y": {
          "bdata": "mpmZmZnZPUAAAAAAAIadQJqZmZmZCVtAAAAAAADDnECamZmZmfePQAAAAABA1rxAzczMzMyCgECamZmZmRudQDMzMzMz00NAAAAAAABIaUBmZmZmZiY0QDMzMzMzYqtAmpmZmZk0p0BmZmZmZuqXQGZmZmYmjbJAMzMzMzMzPkAzMzMzc+G4QGZmZmZmFJFAMzMzM/NuukDNzMzMzLRmQM3MzMzMSZ1AMzMzMzMzNEAAAAAAAKBGQDMzMzOzU7xAZmZmZmbOc0CamZmZmbirQAAAAACAuqtAmpmZmZlFkUAzMzMzM7t9QJqZmZlZCLNAAAAAAAAkekAzMzMzc/2yQJqZmZmZq45AZmZmZmaFrkAAAAAAAEBYQM3MzMzMBGJAzczMzMx5sECamZmZGZ6wQAAAAACA/a1AmpmZmZlJlkCamZmZmWKbQGZmZmZmyoNAmpmZmVlosUAzMzMzM2KbQDMzMzMzp7hAmpmZmVmku0BmZmZmZvKLQDMzMzOzrb5AmpmZmRljskAzMzMzs0q1QAAAAAAAJKdAzczMzMzojUAAAAAAAMqKQDMzMzMzg25AMzMzM7OErEBmZmZmZoKjQDMzMzMzF41AzczMzMy6i0BmZmZmZoZIQJqZmZmZCpFAAAAAAAC7u0BmZmZmZkKWQM3MzMzMLGZAAAAAAID7t0AzMzMzswGlQAAAAAAAJH5AmpmZmZl+oEBmZmZmZgKTQGZmZmZm1lNAzczMzMyqgUBmZmZmZg5/QAAAAACA57BAzczMzMxqjkAAAAAAALaMQGZmZmbmTqFAAAAAAACEkEDNzMzMzPiMQAAAAAAAio9AZmZmZmYUpEDNzMzMzKxSQAAAAABAUrZAAAAAAADDu0DNzMzMDCO9QM3MzMzM+oxAMzMzM7OMskBmZmZmZnZcQM3MzMzMTJFAAAAAAAClo0AzMzMzMzM0QDMzMzMzczNAMzMzMzMrrEAAAAAAgKanQJqZmZnZu71AzczMzMwMWUDNzMzMDIe8QDMzMzMz/YxAmpmZmZmirkAAAAAAAE2VQGZmZmbmdrRAAAAAAIDEp0AzMzMzM+SuQM3MzMxMaKZAAAAAAAC/qkDNzMzMzAxvQGZmZmZmmZFAmpmZmZmikEAzMzMzMxmKQDMzMzMzz6BAMzMzM3OLtUAAAAAAADBcQJqZmZmZsWxAmpmZmZnldUAzMzMzM3NPQM3MzMxMp6dAAAAAAACvoEDNzMzMzO+aQAAAAAAAwDNAMzMzM7Mir0CamZmZmf6SQJqZmZmZepdAMzMzMzN4qUCamZmZmblBQAAAAAAAUFRAzczMzMyQkkAAAAAAAMqbQAAAAAAA95NAMzMzMzNKkkDNzMzMzJxRQGZmZmamGblAMzMzMzOdgUAAAAAAQFO3QM3MzMwMqbRAzczMzMxwm0AzMzMzsxC5QM3MzMzMrE5AMzMzMzPTRkDNzMzMzCeeQJqZmZmZvZBAzczMzMyigUAAAAAAAHyEQM3MzMyM+r5AAAAAAEBftEAAAAAAAGBcQDMzMzMzA5JAzczMzMx3nEBmZmZmZj56QAAAAAAAAJBAMzMzMzNzb0BmZmZmZuSHQGZmZmZm4ZhAZmZmZmbmYEAAAAAAgOyuQM3MzMzMPG1AzczMzMxNlUAAAAAAABBxQDMzMzNzbrhAZmZmZma2pEBmZmZmZhZ0QAAAAACApqtAmpmZmZlZbkAAAAAAAHeSQDMzMzMziLNAZmZmZmZ0hECamZmZmWGIQM3MzMzM5pFAmpmZmZl5f0AAAAAAAF2YQAAAAAAAkJNAMzMzMzPzPUBmZmZmZqZGQDMzMzMztYRAmpmZmZkqo0CamZmZmV6RQM3MzMzMzDhAzczMzMz+j0CamZmZmYlUQJqZmZmZmW5AMzMzMzOWokAzMzMzs8qoQAAAAAAAmIBAmpmZmZl9lUDNzMzMTMG/QM3MzMzMopJAmpmZmZm2nUAzMzMzM1uCQAAAAADAd7lAZmZmZqZpv0AAAAAAAMA0QM3MzMxM8qRAMzMzMzNhkUAAAAAAgO28QM3MzMzMJ5BAZmZmZuYdp0AzMzMzs/mkQDMzMzMzU7BAmpmZmZn5U0DNzMzMzDmeQJqZmZkZ/rlAAAAAAAAgVUAAAAAAAEA5QM3MzMzMkJFAZmZmZmbggEBmZmZmZt+eQGZmZmbm2qpAmpmZmZmHqEBmZmZmZpqtQAAAAACAzLRAzczMzMyEg0CamZmZmcVwQJqZmZmZs5xAMzMzMzMzNEAzMzMzM2tmQDMzMzMza2tAAAAAAAAjlEAAAAAAgOOjQJqZmZmZmUtAzczMzExGpUAAAAAAQAuwQGZmZmamgLZAAAAAAICLskBmZmZmZiZVQJqZmZmZe5hAAAAAAADwhUBmZmZmZoZcQM3MzMzMsHJAzczMzMxnlEAzMzMzM4GRQJqZmZmZxXFAAAAAAIDOuEDNzMzMTMa+QM3MzMxM56hAZmZmZibut0BmZmZmZtqGQGZmZmZmFnFAmpmZmZnHo0AzMzMzM8mQQGZmZmZmRkhAMzMzM3PKsEDNzMzMjAuyQM3MzMzMZGJAmpmZmZkZRECamZmZmZKkQJqZmZmZIWhAZmZmZuYHsEBmZmZmJmC7QJqZmZkZn7ZAMzMzMzMjVECamZmZmTKTQGZmZmZmhmBAMzMzMzNRlUCamZmZWT2zQGZmZmZmwJdAAAAAAECos0AAAAAAwJa1QAAAAAAArZJAAAAAAABdn0BmZmZmZi6RQM3MzMzME5tAzczMzMycl0DNzMzMTPSqQM3MzMzMzDhAmpmZmRn4oEBmZmZmZqZRQJqZmZmZEXlAmpmZmdn4tUAzMzMzM++UQJqZmZmZH4hAAAAAAACYbkBmZmZmZi50QAAAAAAAJH9AZmZmZmZmOUAAAAAAgM+sQM3MzMzMz5tAZmZmZmbem0AzMzMzM/mMQAAAAAAAgFFAZmZmZmb0gkBmZmZmZjZ7QM3MzMzMwppAzczMzMyUn0AzMzMzM1OeQGZmZmZmvoFAMzMzMzOLa0AAAAAAAEA0QDMzMzNzPLVAAAAAAADbqkAAAAAAgI+nQGZmZmZmZlJAMzMzMzOXl0CamZmZmcF4QGZmZmZmSnZAAAAAAAANsEBmZmZmZouoQGZmZmZmNJNAMzMzM7P+oUDNzMzMzAygQDMzMzOzO61AZmZmZubErEAAAAAAAEAzQAAAAAAAeZ1AmpmZmRkfs0CamZmZmVl1QM3MzMzM+HlAZmZmZmY2tkBmZmZmZiyVQM3MzMxM5adAmpmZmRluoUAzMzMzs0ipQJqZmZkZ/rBAAAAAAACosEBmZmZmZmZGQM3MzMzMZHpAMzMzM7NQsECamZmZGRK0QGZmZmZmgItAmpmZmZlhYUAzMzMzM22OQDMzMzMz+JZAzczMzMwah0BmZmZmZj5kQDMzMzPzRrFAAAAAAAD0f0CamZmZmXljQDMzMzPzrbRAmpmZmdmXskAzMzMzcwS4QM3MzMxM26tAAAAAAADLuUBmZmZmZpicQM3MzMzMT7hAZmZmZqacsUCamZmZmcCUQAAAAAAACItAZmZmZmYGUkBmZmZmZgZlQAAAAAAAXpRAzczMzMwmj0BmZmZm5h65QAAAAACAzaFAMzMzMzNLhUDNzMzMzPKBQGZmZmZmPndAzczMzMxAikAAAAAAAHCKQAAAAAAAyItAZmZmZmanukDNzMzMzCiJQAAAAACAYa9AAAAAAADwVEDNzMzMTO6uQJqZmZkZfaZAmpmZmZmNjUAzMzMzM3SVQM3MzMzMyH5AAAAAAAD4lUBmZmZmZiYzQJqZmZnZMrtAZmZmZqa+v0AAAAAAAJKFQAAAAAAAsGZAZmZmZmb2iUBmZmZmZui1QJqZmZmZfaxAAAAAAICcrECamZmZmVk5QAAAAAAADaRAMzMzM7O8tEAAAAAAAAmWQJqZmZkZFqpAMzMzMzNTSUCamZmZWXyyQGZmZmZmtlZAMzMzM3PLs0AAAAAAANhqQDMzMzOzCrNAZmZmZuZYokAAAAAAAL6vQAAAAAAAAEZAAAAAAIBGpECamZmZGQuiQDMzMzMzU1ZAzczMzMz4dkAAAAAAANGuQDMzMzPzTbdAZmZmZmbdrEBmZmZm5rijQM3MzMzMLpxAmpmZmZnxeUAzMzMzM4GDQGZmZmZmtm1AmpmZmZlfu0CamZmZmRGuQGZmZmZmNnpAAAAAAADzlkAAAAAAALS2QGZmZmbmWqZAZmZmZmbmM0CamZmZmZkzQGZmZmZmNm1AmpmZmZmokECamZmZGcqgQAAAAAAAebFAmpmZmRmyq0AAAAAAAK+SQGZmZmbmyrpAzczMzMwCkECamZmZmdecQDMzMzMz01JAAAAAAACIYECamZmZmRuAQGZmZmbmHKZAAAAAAABakUDNzMzMzBR8QJqZmZkZLaZAZmZmZmYAtUDNzMzMzNSKQDMzMzMzzJVAZmZmZmYPr0AzMzMzM3qSQDMzMzNzsLJAAAAAAADgXUAzMzMzMzeAQJqZmZmZG4xAMzMzMzN/kkBmZmZmZoCGQJqZmZkZisBAZmZmZmayqEBmZmZmZoZLQDMzMzMzap1AZmZmZmbOs0AAAAAAgKG3QM3MzMzMOpJAzczMzEzzpkAzMzMzc/y4QDMzMzMzY1FAAAAAAADZk0BmZmZmZryHQM3MzMyMu71AAAAAAACrmUCamZmZmSWYQM3MzMzM/KtAMzMzMzNmoUCamZmZmSeWQM3MzMxMfaNAMzMzM7OgpUCamZmZmYKiQAAAAAAAAENAZmZmZmbGUkCamZmZmTlZQDMzMzMzOJlAZmZmZmYeeEAAAAAAAAqFQDMzMzNzasBAAAAAAIDfpUAzMzMzc4q5QDMzMzPzvLlAzczMzMwgi0DNzMzMzPKGQJqZmZmZqXRAAAAAAACAS0AzMzMzM6OBQGZmZmZmjZRAzczMzMysUkAAAAAAABadQGZmZmZmdqVAZmZmZmZQgUBmZmZmZlZ8QGZmZmZmFo9AAAAAAAA4bEAAAAAAAMKgQGZmZmZmHppAzczMzMxDv0BmZmZmZkCFQJqZmZnZ8rdAAAAAAAAclkAzMzMz8zm4QGZmZmZmRkpAAAAAAABANEBmZmZmZjZUQAAAAAAAwDlAZmZmZmYGTEAzMzMzM32uQGZmZmZmZjRAzczMzMw8jECamZmZmeabQJqZmZmZ1pVAmpmZmZlhYEDNzMzMzFmTQJqZmZkZdq5AAAAAAAAstkBmZmZmJr+xQM3MzMzM5rBAzczMzIx+tUCamZmZmdmbQGZmZmZmnopAAAAAAADwZECamZmZmW1/QJqZmZmZ2TNAMzMzMzNpnEBmZmZmJpy4QM3MzMzM7HRAMzMzM/Mct0DNzMzMzEimQDMzMzPzI7BAMzMzMzMpmECamZmZmelyQGZmZmZmJZ5AMzMzMzOXcEAzMzMzc027QAAAAAAAiJZAZmZmZmZpskBmZmZmZnqbQAAAAAAAMKtAzczMzEyCskAzMzMzk2fAQJqZmZlZNrVAmpmZmZl3hUDNzMzMTEq2QGZmZmZmqn5AAAAAAABBlUBmZmZmZs5lQM3MzMzM07xAAAAAAABAVUAAAAAAAO6PQM3MzMwMpbNAmpmZmZmNnkAzMzMzM1i6QDMzMzOzUrNAAAAAAEAcwEDNzMzMzMyCQM3MzMzMjDNAzczMzMwQikAAAAAAAKiCQGZmZmZmrqRAAAAAAACEqUAAAAAAQFi6QAAAAACAkbRAmpmZmZl5c0BmZmZm5h6/QDMzMzMzDsBAAAAAAAAFkkAAAAAAABaAQM3MzMxMSKRAAAAAAADArUBmZmZmZuYzQGZmZmZmKKVAZmZmZmbAh0BmZmZmZqZIQM3MzMxMkbdAMzMzMzNDVkAzMzMzMyGAQAAAAADA5bZAMzMzMzPfe0BmZmZmZm2zQAAAAAAADZpAAAAAAMDttEAzMzMzM4+rQJqZmZmZaXpAAAAAAAA9kUAAAAAAAISlQAAAAAAAyoVAMzMzM3PutUDNzMzMzAipQGZmZmami7JAMzMzMzMUqEAzMzMzM6+CQM3MzMzMSqpAZmZmZmZmQ0CamZmZmTFtQDMzMzMz01JAMzMzMzOjdUAAAAAAAAAzQJqZmZmZ2U5AzczMzMxsVUBmZmZm5hyqQGZmZmZmRlVAmpmZmRn+vEDNzMzMDAy6QM3MzMwMh79AMzMzMzNbkkAAAAAAADu1QDMzMzMzDaNAzczMzMzMRkAAAAAAAE6GQDMzMzMzoYxAZmZmZmambUDNzMzMjAayQM3MzMzMGZZAAAAAAABKkkCamZmZmdlHQAAAAABA+7JAMzMzMzMns0AAAAAAADCsQAAAAABAzrdAzczMzMwZqEAAAAAAgGmiQGZmZmYGOcBAZmZmZmaCukBmZmZmZh5vQGZmZmZmuIRAZmZmZmY0lUCamZmZWfyyQGZmZmZmtKpAMzMzMzO7g0CamZmZmUlnQAAAAADAQLtAmpmZmdkUs0CamZmZmVeAQJqZmZmZqXZAzczMzMx7tkDNzMzMTDeqQDMzMzMzb3lAMzMzMzMzYUBmZmZmZreiQGZmZmZmwJ5AMzMzM3OjukAzMzMzcwe/QAAAAABAw7FAZmZmZuZPskBmZmZm5lOjQGZmZmbmorlAmpmZmZkJZkBmZmZmZnihQGZmZmamSbtAzczMzMxLqECamZmZWS+zQGZmZmamorZAZmZmZma6ikDNzMzMzFCZQJqZmZmZhqNAMzMzMzNjVkAzMzMzM7+wQJqZmZmZrXhAmpmZmZmunUCamZmZmdlGQM3MzMxM5KpAAAAAAAAwZEBmZmZmZhKbQJqZmZmZyWtAZmZmZmamUkBmZmZmZnqEQAAAAAAAtH1AmpmZmZmJZEDNzMzMzAiLQDMzMzOz9LdAAAAAAAAbrEAzMzMzM/NBQDMzMzMzzYVAMzMzMzMDWEAzMzMzM8t6QM3MzMzMDDRAZmZmZiZrsUBmZmZmZj6SQDMzMzMzw21AzczMzMwkYkBmZmZmZrSWQJqZmZmZ4WdAmpmZmZmOr0DNzMzMzD2QQGZmZmZm4JRAMzMzMzPDUkBmZmZmZtZ+QM3MzMzM7aNAZmZmZiZOvEDNzMzMzM+SQAAAAAAAIE9AmpmZmZmZc0AzMzMzs3+tQAAAAAAAAFRAzczMzAwIskDNzMzMzHRoQGZmZmZmXLBAZmZmZmbGUUAzMzMzM/NIQJqZmZmZyZNAZmZmZmbGVkCamZmZmV2ZQDMzMzNzNbBAMzMzMzNzNEAAAAAAAFGiQGZmZmZmqI9AMzMzMzPrcEAAAAAAABB6QGZmZmZmpjRAMzMzMzOsuEDNzMzMzARlQJqZmZkZZK9AmpmZmZnLskAzMzMzs12wQGZmZmbmQKZAZmZmZmaoo0DNzMzMzMxAQGZmZmZmDmpAZmZmZmZ9n0CamZmZmTetQAAAAAAAKKdAzczMzMyuoUCamZmZmUehQM3MzMzMjDNAzczMzMxOmkAAAAAAALyXQDMzMzMzMJJAmpmZmZm7mkDNzMzMjJWwQGZmZmbmMbBAmpmZmZnQpEAAAAAAAPaTQM3MzMxM1bVAAAAAAABgQUDNzMzMzGeUQM3MzMzM1HdAAAAAAACwYUCamZmZGUOoQJqZmZmZkWlAMzMzMzPvgkCamZmZmUF2QM3MzMxMjKVAZmZmZqbFskBmZmZmZsuuQAAAAAAAMFdAMzMzMzO0nUAzMzMzs2K2QM3MzMzM7qJAzczMzMzVmUCamZmZGf6pQAAAAACArbtAMzMzMzMgqkCamZmZWSm6QM3MzMzMf6ZAMzMzMzMjYUBmZmZmZoSPQGZmZmZmPphAzczMzMxEaUAAAAAAQMq+QDMzMzMzAsBAzczMzMxcaUDNzMzMzLiKQAAAAAAAubZAzczMzMzTmUBmZmZmJuC1QAAAAAAAHoBAAAAAAABAREAAAAAAANBnQDMzMzMzy5xAMzMzMzOXk0CamZmZmZlMQDMzMzMz1pNAZmZmZmajuUDNzMzMzMw0QGZmZmZmz51AMzMzMzMbakDNzMzMzJayQGZmZmZmMpRAZmZmZmaydkAAAAAAAAGZQDMzMzMzO3FAMzMzMzMiqEBmZmZmZl6SQJqZmZmZqW1AmpmZmZmSlkBmZmZmZuYzQGZmZmZmYnxAAAAAAIC5p0BmZmZmpoG/QAAAAAAAIFdAzczMzMwUZ0DNzMzMTAi4QAAAAAAAYFZAAAAAAIAitEBmZmZmZo5rQDMzMzMzmZdAmpmZmZkZSkBmZmZm5jmkQM3MzMzMCrNAMzMzMzMfr0BmZmZmZk6fQJqZmZmZoZxAAAAAAEAss0BmZmZmZgysQAAAAAAAn7NAMzMzMzNTYkCamZmZmUaiQDMzMzMzq3JAzczMzMz0YUDNzMzMTOmjQGZmZmZmtn9AAAAAAAAANEBmZmZmZu23QGZmZmZmI7VAAAAAAACJkEBmZmZmZj6MQAAAAAAAg6dAMzMzMzOXfkAzMzMzc1y1QGZmZmZmiJBAAAAAAADAvUCamZmZGRGwQDMzMzMzY1FAZmZmZqaBt0BmZmZmJlK8QM3MzMzMUJFAMzMzMzNVjUCamZmZmYlXQJqZmZkZUKBAZmZmZmZWZkAAAAAAwBi2QDMzMzMzGqJAMzMzM3Nit0CamZmZWV+6QDMzMzMz3atAzczMzEwZs0CamZmZmeFzQM3MzMzMb5hAAAAAAABZlkDNzMzMzCKEQDMzMzMzR3dAZmZmZmZNtUBmZmZmZoqWQDMzMzOz6rVAmpmZmZkfjkDNzMzMTGa0QJqZmZkZGapAzczMzMxMckDNzMzMjI62QM3MzMxMh7FAMzMzMzMzRkBmZmZm5k2mQGZmZmZmTIxAzczMzEyFtUDNzMzMzKW9QDMzMzMzs2xAmpmZmZmheECamZmZmXlWQDMzMzMzf3JAMzMzMzNTtUAAAAAAAMx7QGZmZmYmfrpAMzMzM3NuuUAAAAAAQI7AQJqZmZnZbbFAAAAAAAAAT0BmZmZmZgp2QJqZmZmZQ5ZAZmZmZqYNuUBmZmZmpqW4QGZmZmZmZklAmpmZmZkKt0AAAAAAwG+yQM3MzMzMlHxAzczMzEy+tkAAAAAAAN6WQGZmZmZmNnNAmpmZmRlxoEBmZmZmZvJzQGZmZmbmQqJAMzMzMzMTWkBmZmZmptyzQAAAAAAAUF5AZmZmZuZnu0AAAAAAAN61QGZmZmZm1JNAzczMzMymp0CamZmZWRqyQM3MzMzMfFxAAAAAAAC7mEAAAAAAAAqoQAAAAAAAj69AzczMzMwEmkAzMzMzM02QQDMzMzMzg39AzczMzMwYf0BmZmZmple9QAAAAAAA2JtAzczMzMwMNEAzMzMzMw2DQDMzMzMzU6ZAmpmZmRlfqUCamZmZWUe4QAAAAAAADqZAZmZmZuaZs0AAAAAAgHakQJqZmZmZmThAmpmZmRlls0BmZmZmZu+kQGZmZmZGO8BAAAAAAEAytkDNzMzMzIORQGZmZmbmMrNAzczMzMyMO0AAAAAAANyMQJqZmZmZZplAZmZmZqa0t0CamZmZmRa1QM3MzMzMtIxAMzMzMzNbbUBmZmZmZj+TQM3MzMzMXGVAZmZmZiYwv0AzMzMzM4WFQDMzMzMzIZRAAAAAAICovkAAAAAAALBwQJqZmZmZG5xAMzMzMzNjUkAzMzMzM66ZQDMzMzNzx7JAAAAAAAAioUDNzMzMzH6hQJqZmZmZh5dAMzMzMzPrb0CamZmZmZWSQGZmZmYmsrJAmpmZmZlznEDNzMzMTMiiQJqZmZmZoWlAZmZmZmbCjUAzMzMzc3+7QJqZmZkZ1KNAZmZmZmbzkkAzMzMzM7akQDMzMzMzY5RAmpmZmZmBdkAzMzMzMzd7QM3MzMzMQHNAZmZmZmY2VEAAAAAAACh7QGZmZmbmzrtAMzMzMzMHdEBmZmZmZpyAQDMzMzMz43dAAAAAAABEn0AzMzMzszezQM3MzMzMDbZAmpmZmZn5akBmZmZmZmZTQJqZmZkZoaZAmpmZmZmHqkDNzMzMzLqHQJqZmZmZSVVAZmZmZma8gECamZmZmZSTQDMzMzMz2Y1AMzMzMzPloECamZmZmVlGQGZmZmZmVZxAzczMzMykbkAzMzMzM7OfQAAAAACAR6VAZmZmZmaOa0DNzMzMzNx2QJqZmZmZP4FAZmZmZmasr0CamZmZmdlGQM3MzMzMAopAMzMzMzMTXEAzMzMzM1NOQJqZmZkZrrVAmpmZmZnZZUAzMzMzM6NWQJqZmZkZfbJAZmZmZuahr0DNzMzMzD6VQJqZmZlZvrFAZmZmZiZsvUCamZmZmXlRQDMzMzMzxYtAmpmZmVnvuEAAAAAAAPCdQAAAAAAA0HlAmpmZmZlHiUCamZmZmXmdQGZmZmZmplVAAAAAAAA9mkAAAAAAAMGkQJqZmZmZ54BAAAAAAADAM0DNzMzMzMqAQGZmZmZmNoVAZmZmZqahsUBmZmZmZj+WQDMzMzMzW4FAmpmZmZkxbEAzMzMzM8dwQAAAAAAAy6ZAMzMzMzPgokAzMzMzM4d6QGZmZmZmUJdAzczMzMyMYEAzMzMzM6eEQM3MzMzMl51AZmZmZmbOcUAAAAAAAIKIQDMzMzMzG3pAAAAAAECYs0AAAAAAADOZQAAAAAAA8F1AzczMzEwJqUAzMzMzM1N+QDMzMzMzG2RAAAAAAEAxsECamZmZmduJQAAAAAAAwEhAzczMzMz2jkDNzMzMzMKFQGZmZmZm0bVAzczMzMwEmUBmZmZmZk5kQDMzMzMzY31AAAAAAAAkoEDNzMzMzEmWQAAAAAAAiHhAZmZmZuYqrkDNzMzMzPGjQJqZmZlZDLpAMzMzMzObiUAAAAAAQAeyQDMzMzMzLaBAAAAAAAAccUBmZmZmZsurQGZmZmZmlJ5AmpmZmZnPhkAAAAAAACOWQGZmZmZmJLdAzczMzMyGmkCamZmZ2am+QDMzMzMzS4RAAAAAAIDNsUCamZmZGYqnQGZmZmZmyJNAmpmZmZmFdkAAAAAAAFqQQM3MzMzMV6JAAAAAAAD8e0AzMzMz83GwQM3MzMxMS65AmpmZmZkJY0CamZmZmeGBQGZmZmZmpjNAmpmZmZl3gECamZmZmUWBQM3MzMxMEalAAAAAAABYakBmZmZm5vWsQAAAAAAAZoNAAAAAAADIeUBmZmZmZgCKQJqZmZmZMWdAzczMzMxcnkBmZmZmZp5/QJqZmZnZbr9AMzMzMzNdnECamZmZmSeDQDMzMzMz2YhAmpmZmZnzoEDNzMzMzGiOQGZmZmZmRKFAAAAAAMD1skCamZmZmX+QQJqZmZmZEWJAZmZmZmbGVkBmZmZmZmOUQAAAAAAASIZAmpmZmZkZNUDNzMzMzMy1QJqZmZmZZ5dAMzMzM3OvsUCamZmZWe6xQGZmZmZmBmlAmpmZmZkzg0BmZmZm5tSxQAAAAAAAwDlAzczMzMxkZUAzMzMzM6OPQM3MzMzMYo1AzczMzMxekEDNzMzMzJylQM3MzMzMWZlAZmZmZmalkUBmZmZm5jC2QM3MzMzMh6FAAAAAAECrsUAzMzMzs/e7QGZmZmbmL6ZAMzMzMzMjVEDNzMzMzCCCQDMzMzMzBaFAzczMzIyWt0BmZmZmZjZwQGZmZmZmQnRAZmZmZmYaekDNzMzMzARlQJqZmZnZBbZAMzMzMzM7ikDNzMzMzAiIQAAAAAAAbbhAMzMzMzOnmUAzMzMzMziaQAAAAAAAFaBAAAAAAADxokAzMzMzMzN4QDMzMzNzlbhAzczMzEwvpkDNzMzMzJOoQGZmZmZmMaFAMzMzMzOTjEAAAAAAwOGxQAAAAACAhbNAzczMzMwwsEAzMzMzM1aXQJqZmZkZU7BAZmZmZmbsi0AAAAAAACyZQGZmZmZmiIJAzczMzMy8sEBmZmZmZgSBQDMzMzMz95dAZmZmZmaOgEAzMzMzMzOuQAAAAAAAHoBAAAAAAABojUCamZmZmbaRQM3MzMzMLEhAmpmZmRksoECamZmZ+UbAQAAAAAAA5ZJAAAAAAADRlUDNzMzMzJqGQM3MzMzMlGxAAAAAAAAnkkBmZmZmZpZYQGZmZmZmOohAmpmZmZnKkEBmZmZmZsZBQGZmZmZmKaJAZmZmZmbCkEAAAAAAAFBlQM3MzMzMnGhAZmZmZmYrkkBmZmZmZjeaQJqZmZmZ2TJAZmZmZmYmd0AzMzMzM6WqQDMzMzMzy5FAAAAAAECQtECamZmZmW2PQM3MzMyMMLdAZmZmZuZjtUCamZmZmQFsQJqZmZkZLKJAmpmZmZlZP0AAAAAAgH+zQJqZmZmZcZBAMzMzMzPHtkDNzMzMzOx/QDMzMzMzv3FAmpmZmZk9lEBmZmZmZqYzQM3MzMxMh6dAZmZmZiadv0AAAAAAQOq1QM3MzMxMI6lAmpmZmZnZM0CamZmZmSmIQGZmZmZmFZBAmpmZmZnrhECamZmZmROsQM3MzMzMR5hAzczMzEzirkCamZmZmcyeQJqZmZmZUJNAAAAAAAD4qEAzMzMzMwizQAAAAAAAcpdAMzMzMzMTTkAAAAAAgC2rQM3MzMyM9bxAAAAAAACYq0AAAAAAAAxwQAAAAACAXq5AzczMzEx0o0CamZmZmYuCQJqZmZmZbKtAmpmZmZnrh0BmZmZmZq2TQJqZmZlZorVAmpmZmZlNdUCamZmZmWOKQM3MzMzME5VAAAAAAACErUAzMzMzMx2DQDMzMzPzA7NAMzMzMzOEl0CamZmZmT19QJqZmZmZuVJAZmZmZmZGaECamZmZmduBQAAAAAAAEFRAMzMzM/OFtECamZmZmfaRQGZmZmZmJodAzczMzMxKgECamZmZmRKWQM3MzMzM8ZdAmpmZmZlBb0BmZmZmZgqRQDMzMzMzm5ZAmpmZmRnVoUAzMzMzc8ywQM3MzMzMXJFAMzMzMzPDZ0AAAAAAwF+xQDMzMzMz62FAzczMzMzsRkCamZmZmVGJQDMzMzMzmJxAzczMzEwJpkCamZmZWe+yQM3MzMxMebJAZmZmZuZir0BmZmZmZtqVQJqZmZmZCKRAmpmZmZlXmkBmZmZmpsK2QM3MzMyMsrdAzczMzMyMbEAzMzMzM+NwQM3MzMzM5JdAMzMzMzMTZUDNzMzMzMKAQM3MzMzMgZ1AzczMzMyqg0BmZmZmZqZGQM3MzMzMFHJAAAAAAICKoEBmZmZm5nqyQDMzMzMzxJ9AmpmZmZnfjkBmZmZmZoZGQJqZmZlZcLZAMzMzMzPzUkAzMzMzM3MzQDMzMzMzWYBAzczMzEzFskBmZmZmZoZNQAAAAADA3rdAZmZmZmbymEDNzMzMzFiQQDMzMzMzSLFAAAAAAAAwV0CamZmZmVFoQM3MzMzMIINAmpmZmZnvt0AzMzMzsw+6QM3MzMxMkLRAMzMzMzP7ckDNzMzMzNKyQM3MzMwMMLlAzczMzAz3u0AAAAAAAJqYQGZmZmZmfqZAMzMzMzODVUAzMzMzcz+wQJqZmZlZ7rlAmpmZmRlQqEAAAAAAQAC8QAAAAAAAuZRAmpmZmRl1oUBmZmZmZvJ+QJqZmZn5PsBAZmZmZmY+hUBmZmZmZmZPQAAAAAAAeL1AAAAAAACRkkCamZmZmSWFQGZmZmZmhlJAAAAAAABVqUCamZmZmWCTQJqZmZlZD7BAmpmZmdkLt0CamZmZmceDQDMzMzMzSbRAzczMzMxqvUAzMzMzM+9wQDMzMzMzVLVAzczMzMw4mUAAAAAAACh5QAAAAAAAX5VAMzMzMzM7fkAzMzMzMxq/QJqZmZmZxa1AMzMzMzObq0CamZmZmdOVQDMzMzMzBpVAzczMzMy5mUCamZmZmb+/QM3MzMxM8KRAAAAAAAAElECamZmZmUeYQJqZmZkZD6lAmpmZmRkCoEBmZmZmZlqsQM3MzMyMBLRAZmZmZuYkq0CamZmZmUlpQAAAAAAAcGJAZmZmZmaWVUAAAAAAABiCQDMzMzMzczNAmpmZmRl3qECamZmZmbCuQAAAAAAAeGdAmpmZmZm4mkBmZmZmZhZTQAAAAAAAUFFAMzMzMzPPoECamZmZGUm3QDMzMzMzFpNAzczMzMxhl0DNzMzMzDCUQGZmZmZmJjlAZmZmZmbEmkCamZmZmVObQDMzMzMzMzlAzczMzMwcWEAzMzMzM2qRQM3MzMzMCINAZmZmZmYmNEAAAAAAQN27QGZmZmZmBkxAZmZmZmYuZUAzMzMzM7NhQGZmZmamULJAZmZmZmaYgUAAAAAAAGG3QGZmZmZmqpNAAAAAAABYd0CamZmZmcmKQDMzMzOz8qNAmpmZmdnisECamZmZmVlvQM3MzMwMxbFAAAAAAAA+lUAzMzMzM52ZQDMzMzMzW2ZAzczMzMzOg0CamZmZGcO0QAAAAAAA/IZAMzMzMzPPi0AAAAAAACiUQM3MzMzMoHRAZmZmZma+bUBmZmZmZkq5QDMzMzPzRbFAZmZmZmYpo0DNzMzMzG6JQJqZmZnZKLNAzczMzAyEsUBmZmZmZsefQJqZmZmZ0YBAzczMzMzMU0DNzMzMzCGhQJqZmZmZ2TNAmpmZmRkkrkBmZmZmZraKQGZmZmZmtnVAZmZmZia3tkDNzMzMzASvQM3MzMxM5KdAMzMzMzMBuEBmZmZmZiZgQJqZmZmZN5JAmpmZmZn5SEAAAAAAAEiYQAAAAABAKLNAzczMzIwAtkAAAAAAAK2ZQGZmZmZmJIdAmpmZmRkjqUAzMzMzMxizQAAAAACAEKNAZmZmZmZkg0CamZmZmVk0QDMzMzPzuLpAZmZmZmZyp0AzMzMzM264QJqZmZmZ+XNAMzMzMzNInkAAAAAAAGhyQGZmZmZmJk1AmpmZmZmte0AAAAAAAEiBQJqZmZmZE4FAzczMzMzoiEAAAAAAAABTQDMzMzMzJ5pAMzMzMzN3dUAAAAAAQPS8QAAAAAAAjq9AMzMzMzNbZUAzMzMzMwmnQJqZmZmZcZRAAAAAAMC+t0BmZmZmZrSqQM3MzMzMy7lAzczMzMy9qEAAAAAAAA6LQJqZmZkZ5bhAMzMzMzNkkkAAAAAAwGG3QAAAAAAA5IZAzczMzAy9vkAzMzMzM4CXQJqZmZmZRY1AMzMzMzMrh0AzMzMzM7m5QM3MzMzMZKhAmpmZmZk5SUAAAAAAAAGRQM3MzMzMOoNAZmZmZma4pkAzMzMzMx+HQM3MzMzMjoJAAAAAAACzkUAzMzMzczu8QDMzMzMzM2hAZmZmZmYtlEAzMzMzM56fQGZmZmZm2nVAZmZmZmY+Y0DNzMzMzFK1QDMzMzNzfLRAmpmZmZlRY0BmZmZmJpuxQM3MzMzMv59AZmZmZmYGSUAzMzMzM8d0QGZmZmZmnn1AMzMzMzOzWkAzMzMzMxNjQJqZmZmZvZJAmpmZmRn2o0BmZmZmZkanQM3MzMzMdoRAzczMzMz0rUAAAAAAAPuXQGZmZmYm6rFAzczMzMyMNEDNzMzMDDW3QGZmZmZmgnpAZmZmZuZ1oUAAAAAAANaEQAAAAAAAkHFAZmZmZmYegUBmZmZmZqZSQDMzMzMz2YFAZmZmZmZym0AzMzMzc2O2QJqZmZkZJ6tAMzMzMzObY0BmZmZmZvakQAAAAAAABoxAmpmZmZnOokBmZmZmpmixQDMzMzPzVrtAZmZmZmZmQkAzMzMzs5O5QGZmZmZm+rBAAAAAAACyoUCamZmZmXSUQM3MzMxMkrJAMzMzMzNOk0AAAAAAANWrQAAAAADALbxAZmZmZuZFoEAAAAAAALBZQGZmZmZmGrdAAAAAAACgSUBmZmZmZguUQJqZmZnZgrJAzczMzMyMM0AzMzMzM7+bQDMzMzMz3YhAAAAAAAAgYkBmZmZmZoGzQJqZmZmZuU5AmpmZmRllr0CamZmZmeqRQGZmZmZmwbdAZmZmZmYbl0DNzMzMzHRuQGZmZmbmk6RAmpmZmVl/skAAAAAAAH+TQM3MzMzMrFJAAAAAAAClrUCamZmZmYWPQJqZmZkZpaBAMzMzMzOGlEBmZmZmJl+2QJqZmZmZc5VAmpmZmZnPkkDNzMzMzMw5QGZmZmZm/JJAmpmZmRl6pkDNzMzMzK6YQDMzMzPzirVAZmZmZmYGWECamZmZmRlSQAAAAAAAoEtAmpmZmZkWo0AAAAAAAMqeQGZmZmZm9nRAMzMzM/Nau0BmZmZmZt5jQGZmZmZmUnJAAAAAAABXl0CamZmZmRWRQGZmZmZmh5BAmpmZmZnBZ0BmZmZmZpSLQGZmZmZmxnJAzczMzMwHkEDNzMzMzHOWQAAAAAAAsH1AZmZmZiYMtUBmZmZmJmK2QGZmZmZmnIlAMzMzMzMja0CamZmZWSCzQGZmZmZmaJZAzczMzMxIjUBmZmZmZqJ0QJqZmZmZC5dAAAAAAICIuUBmZmZmZqCRQAAAAADA2bpAmpmZmRkuoUDNzMzMzOxGQJqZmZmZkXxAAAAAAAC0gUAzMzMzM0+jQJqZmZmZRqhAZmZmZmYygEAAAAAAwIm2QM3MzMzM7FZAZmZmZmYCikCamZmZmU6YQGZmZmZmpkZAZmZmZmb6m0DNzMzMzLxSQDMzMzMz025AZmZmZmZacEDNzMzMzBKMQAAAAACAnbFAAAAAAEBotUAzMzMzM2mEQDMzMzMzfJJAmpmZmZn7g0AAAAAAAOx9QM3MzMzMDDRAZmZmZmbGX0AzMzMzcyexQJqZmZmZ6XBAAAAAAIA2ukDNzMzMzA+vQM3MzMzMo5pAMzMzMzP/eUCamZmZmbGNQDMzMzMzZJdAMzMzMzNhiEDNzMzMTHCrQAAAAAAAFHFAzczMzMx7q0DNzMzMzF+qQM3MzMyMVL1AMzMzMzN0k0AzMzMz8+O0QGZmZmZm2n5AZmZmZma/k0DNzMzMzBh4QAAAAAAAcKpAzczMzMwMVUDNzMzMzJqZQM3MzMzMrGRAAAAAAAAQXkAzMzMzc3mxQGZmZmZmRIBAmpmZmdlVtkAzMzMzMzNWQAAAAACA2LBAMzMzM7OGpUBmZmZmZhSPQAAAAABAb7lAmpmZmZkKk0AzMzMzsxe9QGZmZmZmRZJAAAAAAAB4cUCamZmZWVi2QGZmZmbmYqhAmpmZmZlEuUDNzMzMzB63QM3MzMzMHIVAZmZmZmaDq0DNzMzMzNiMQGZmZmZmWZFAmpmZmZkumUAzMzMzM+uhQAAAAABAsbVAAAAAAABgRkAzMzMzM6qnQJqZmZkZPqlAMzMzM3MJtECamZmZWYS1QDMzMzMzf4RAzczMzMyckkAzMzMzMxOLQGZmZmZmhqRAMzMzM3OFskBmZmZmZlKvQM3MzMzM3ZZAzczMzMzas0BmZmZmZuZFQDMzMzMz96xAZmZmZmaOa0DNzMzMzLaRQJqZmZmZ/J5AAAAAAMBytkDNzMzMzBSIQJqZmZmZwWBAmpmZmRlWuEBmZmZmZuiBQJqZmZmZtqpAAAAAAIAGrEAzMzMzs6qrQJqZmZmZsq1AAAAAAAAki0CamZmZGfuyQGZmZmZmfZZAMzMzMzNzVUBmZmZmZsZTQAAAAAAAhoJAzczMzMyHkkDNzMzMzMwyQAAAAAAA0GBAMzMzMzM5s0AAAAAAACqMQM3MzMzM3bRAMzMzM/P7skDNzMzMzMyRQDMzMzNzqrtAmpmZmZlJdEAAAAAAwMyyQAAAAACAL7FAZmZmZma8hEDNzMzMzNRlQDMzMzMzG3RAAAAAAIAFtEAzMzMzMyeBQDMzMzMzE0lAzczMzEx3u0BmZmZmppizQDMzMzPz8rFAmpmZmZkbg0DNzMzMTKCiQJqZmZmZ/XNAmpmZmZkpY0CamZmZmXu7QDMzMzMzg3VAmpmZmZlelkDNzMzMzOScQJqZmZkZw7dAZmZmZmaqekBmZmZmZt2ZQJqZmZmZX55AmpmZmZlAmUAzMzMzM69zQM3MzMzMJolAMzMzMzMbfUDNzMzMDA26QAAAAAAAJ5JAAAAAAACejUBmZmZmhlvAQJqZmZmZWUFAAAAAAAB0rUDNzMzMzIxwQJqZmZnZY7JAZmZmZmYIuEDNzMzMzPCNQAAAAAAAeI1AZmZmZibXuUAAAAAAgDChQJqZmZmZkXpAAAAAAADwWEDNzMzMzLSzQM3MzMyMV7pAzczMzMyMaEAzMzMzM7tyQM3MzMzMW6BAAAAAAAAcekCamZmZmfWaQM3MzMzMUJlAmpmZmRnDqEAAAAAAQHG0QM3MzMzMPo5AzczMzMxge0CamZmZmTeWQGZmZmZmMnRAmpmZmZnpc0BmZmZmZnZkQDMzMzMz/YNAAAAAAADhpkBmZmZmZhZZQDMzMzMzE3FAmpmZmZkgmUDNzMzMzIeWQM3MzMxM8KBAZmZmZmZFrEBmZmZmpjy2QM3MzMzM7E1AZmZmZmZmUUDNzMzMTFG3QM3MzMzMDDNAzczMzMwsekDNzMzMjKS/QAAAAAAAgDNAMzMzMzOXc0AzMzMz8/K3QJqZmZmZeVFAZmZmZmZKh0BmZmZmZvCSQAAAAAAA+GZAAAAAAAC+mEDNzMzMDEKwQJqZmZmZf5FAzczMzIxNv0CamZmZmY1wQJqZmZmZOZFAAAAAAADItkAAAAAAgNCwQJqZmZmZaZJAAAAAAAA3lkAAAAAAgKu6QM3MzMwMWrJAAAAAAAB0hECamZmZGYipQM3MzMwMCrFAmpmZmZmrlUBmZmZmZvZ5QDMzMzMzbKRAZmZmZmaml0AzMzMzM7OoQM3MzMzMPFRAMzMzM7NEskBmZmZmpn65QGZmZmZmOoJAmpmZmRmOv0AAAAAAAF+rQDMzMzNzDbpAAAAAAIBRskCamZmZmcSSQM3MzMzM9GFAmpmZmZkylEAAAAAAAGBIQDMzMzMzxLtAMzMzMzMqnECamZmZmYSXQGZmZmZmDJ1AAAAAAAAQZUCamZmZmW14QDMzMzNzw7hAmpmZmZnRmUCamZmZmelRQAAAAAAAYFNAmpmZmdn4uEAAAAAAAIGpQGZmZmYm97FAAAAAAAC5kUBmZmZmZlWZQGZmZmZmmo1AZmZmZmZEpUCamZmZmeSnQGZmZmZmpptAAAAAAMCVuEAzMzMzM4SbQAAAAAAAq5lAAAAAAAAUgkAzMzMzM9eNQAAAAAAAao5AzczMzMzsRUCamZmZmUmXQAAAAAAAgHFAAAAAAAC1nUAzMzMzM2OGQAAAAAAAcLJAmpmZmZkXjUBmZmZmZhZTQM3MzMzMM5pAmpmZmRmkpECamZmZ2XK6QDMzMzMzrZxAAAAAAADRmEAAAAAAAOBSQJqZmZmZJXBAAAAAAAB5l0AzMzMzMzMzQGZmZmZmEbtAzczMzExlsUDNzMzMzFipQDMzMzMzN3RAMzMzMzPKpEDNzMzMzBKlQAAAAAAAQpZAmpmZmZnklUBmZmZmZi6bQAAAAAAAK7dAMzMzM7M7okDNzMzMzK6NQJqZmZmZ44FAZmZmZmbGhUAzMzMzM5eVQGZmZmbmGaRAmpmZmZn5R0DNzMzMzIxGQAAAAAAAgEZAZmZmZuaUoEDNzMzMzAw0QM3MzMzMQ7NAzczMzMw8XUAzMzMz8xm7QM3MzMzMtpNAmpmZmZmTqUBmZmZmZh+WQGZmZmZm7K5AAAAAAIB4o0AzMzMzM3NxQAAAAAAA7JBAAAAAAACch0CamZmZmSl5QAAAAAAAaKlAAAAAAAAwUUCamZmZmRlHQDMzMzMzk0ZAZmZmZmamRUDNzMzMzEaNQM3MzMxMlaFAMzMzMzMirkBmZmZmZoSWQJqZmZmZ8rBAzczMzMyJlUCamZmZmflGQJqZmZmZDKRAAAAAAABgZUCamZmZmfWYQJqZmZlZiLJAmpmZmZlBukAAAAAAAOhuQGZmZmZmBkZAmpmZmZkam0BmZmZmZsZGQJqZmZlZu7FAAAAAAAAiiUBmZmZmJpOzQAAAAAAA7atAZmZmZmaWv0AAAAAAANOxQJqZmZlZ2rhAZmZmZmbGUEAzMzMzM4NRQGZmZmZmrmRAMzMzMzMSkkCamZmZmaicQDMzMzOziqxAmpmZmZkWl0DNzMzMzKmaQGZmZmZm465AMzMzMzOpkkBmZmZmZr+UQDMzMzMzO3pAAAAAAAAANUDNzMzMzIxGQDMzMzMz62lAzczMzMzukEBmZmZmZl+fQAAAAADA+rZAmpmZmRnDpEAAAAAAAN6XQGZmZmZmpndAzczMzMwwmUCamZmZmSlTQDMzMzMzS3BAmpmZmdkpuUDNzMzMzKxwQJqZmZmZBLRAAAAAAAASjkCamZmZmZuVQGZmZmZm2IFAZmZmZmbdlUAAAAAAAMBiQGZmZmZm5mRAZmZmZmbpvUBmZmZmZgiLQJqZmZnZCbhAZmZmZmbGZUBmZmZmZtaTQJqZmZkZLa5AZmZmZmbQuEAAAAAAABKVQDMzMzMzc0lAzczMzMx4fUAAAAAAwCu3QJqZmZmZ8pVAzczMzMywhkBmZmZmZqaeQJqZmZnZYrBAMzMzM3MIs0AzMzMz8/6zQJqZmZmZl4RAMzMzMzNDVEDNzMzMzDxTQAAAAADAsbZAMzMzMzMzNEBmZmZmZv55QAAAAAAA0G5AmpmZmZknj0DNzMzMTJKoQM3MzMzMlHBAZmZmZmbmNEDNzMzMzAw1QM3MzMxM4LFAMzMzMzOjZ0AzMzMzM2GMQGZmZmZm5khAZmZmZmbmakDNzMzMzHOXQGZmZmYm67NAMzMzM/PxuEBmZmZmZu5jQAAAAADA5bpAmpmZmdk0t0DNzMzMzOaEQM3MzMzM8J1AZmZmZmbWUkDNzMzMzNxSQDMzMzPzBbJAAAAAAEBdvECamZmZmTejQJqZmZmZAaBAmpmZmZlxZEBmZmZmZpGmQDMzMzMz66JAAAAAAIDpoUAzMzMzM0uBQGZmZmZmE6tAmpmZmZnpkkAzMzMzMy2UQDMzMzNz7LRAzczMzMxQtECamZmZGUqpQDMzMzMzBYJAAAAAAAAce0CamZmZmTGdQM3MzMyMYLZAmpmZmZnNiUBmZmZmZmZ4QDMzMzMzY1dAzczMzEw6pkDNzMzMzGyuQDMzMzMzs4tAZmZmZmbsj0BmZmZmZv22QGZmZmZmxnBAMzMzM7M4oUAAAAAAAKyTQJqZmZmZUXNAzczMzAz+uEAAAAAAgKOhQAAAAABAj7hAMzMzMzP4mUCamZmZmRiVQM3MzMxMIaxAmpmZmZnElECamZmZmdlGQAAAAAAAaHpAzczMzMx8UUBmZmZmphOyQGZmZmbmPbpAZmZmZmZGWEDNzMzMzLmaQDMzMzMz64NAzczMzMx8XUCamZmZGTmjQGZmZmamWLVAmpmZmRnqoEDNzMzMzE2zQM3MzMzM5GtAMzMzMzOjZkAzMzMzM1d1QJqZmZnZY7ZAAAAAAABcdkCamZmZGQiyQDMzMzOztbFAAAAAAABqgkDNzMzMzHCHQAAAAAAACZZAzczMzMz2iUAAAAAAADyHQGZmZmZmpkZAmpmZmdmAu0BmZmZm5jKuQGZmZmamqbpAZmZmZmbwlEBmZmZmZjp3QAAAAAAAgJJAmpmZmdmOwECamZmZ2da8QJqZmZmZjXxAmpmZmZm5dEBmZmZmJqi3QDMzMzMz02BAAAAAAABgX0BmZmZmZrqVQDMzMzMzMzRAmpmZmZmeo0CamZmZGWKlQDMzMzMzk1JAZmZmZmamUUCamZmZmXOiQGZmZmZmCZtAAAAAAAAEuUAzMzMzM6tkQGZmZmZmLp1AMzMzMzNNkEAzMzMzMxNgQDMzMzNzH71AMzMzMzOzOEDNzMzMzMRpQDMzMzMzuZ9AZmZmZmbttkCamZmZmWOqQM3MzMzMCJVAzczMzAxSs0AAAAAAAMKvQDMzMzMzo1pAMzMzM7Nks0AAAAAAgOuvQAAAAAAAO5tAzczMzMxQuEAAAAAAgK6qQAAAAABAtbhAAAAAAABEdUBmZmZmZk6aQJqZmZmZ/K5AAAAAAAAEg0AzMzMzM6GmQGZmZmZmq5dAMzMzM3OIukAzMzMzMz2yQGZmZmZm5ldAmpmZmZnspkDNzMzMzJ64QJqZmZmZWYhAAAAAAAC8cUAzMzMzs/ixQAAAAAAA2rVAzczMzMwmiEBmZmZmZtZRQGZmZmZmzopAzczMzAyCvUBmZmZmpl23QJqZmZmZm5pAZmZmZmYyfUBmZmZmZiY0QAAAAAAAcFFAAAAAAADmpkBmZmZmZuOVQDMzMzMzO2FAAAAAAABWnkAAAAAAADOeQDMzMzMzPJZAzczMzMxWjkBmZmZm5rK2QM3MzMzM/GtAMzMzMzN7eEDNzMzMzPxTQM3MzMzMTDNAMzMzMzNdiUAAAAAAANhlQDMzMzOzbahAMzMzM3O5ukAzMzMzM1WtQJqZmZmZ+pVAmpmZmZkVikAzMzMzM5uDQAAAAAAAQG5AAAAAAACqqEAAAAAAACioQM3MzMzM8aBAzczMzMyijkDNzMzMzHxQQDMzMzMzP4ZAMzMzMzODnkCamZmZ2RCxQDMzMzMzrqRAzczMzMyOwEDNzMzMzCxLQAAAAAAAsLFAmpmZmZn6m0DNzMzMzGyKQDMzMzMz6ZJAMzMzMzNzNECamZmZmbOKQDMzMzMz+qJAmpmZmZkZWUAzMzMzc220QJqZmZmZOUZAzczMzMzRmkCamZmZGZ+nQDMzMzMz01JAmpmZmZnlskAzMzMzM8GfQGZmZmZmTntAMzMzMzOjUUBmZmZmZiY0QDMzMzPzBbdAMzMzMzNYlkAAAAAAAJBzQDMzMzOzP65AmpmZmZmhfEBmZmZmZnOlQJqZmZmZVXVAMzMzMzPjlEAAAAAAgAuhQAAAAAAAeGJAmpmZmZmTiUAzMzMzc927QM3MzMzMzHVAMzMzMzMTYEBmZmZmZkKyQM3MzMzMJZtAZmZmZmZrl0DNzMzMzAxJQAAAAAAAF5xAmpmZmZkhf0AAAAAAgICkQDMzMzMzA2dAzczMzMx6tUBmZmZmZu2yQJqZmZmZEXdAZmZmZubQt0AAAAAAABhkQDMzMzOz+KRAzczMzEx4p0DNzMzMzFK7QAAAAAAAFHFAZmZmZuZrtUCamZmZmUaTQDMzMzMzf4BAZmZmZuZ5s0BmZmZmZqmTQJqZmZmZ2VtAmpmZmZn5RUCamZmZmUFzQGZmZmZm+ndAzczMzMz3o0DNzMzMzBCUQM3MzMxMfr1AMzMzMzNYkUBmZmZmZuZYQGZmZmYmM7pAZmZmZmZEsEAAAAAAwPG2QAAAAAAAUFtAAAAAAABoZkCamZmZmeiUQDMzMzMz84pAAAAAAGC6wECamZmZmfGMQM3MzMzM2JpAmpmZmdlEt0AzMzMzM9NWQDMzMzNz2LJAmpmZmZlak0AAAAAAAOBTQJqZmZmZAYVAMzMzMzPjd0CamZmZmaiwQM3MzMzMupBAZmZmZmYHlUAAAAAAAFWQQJqZmZkZd6dAzczMzMw4fUAAAAAAgHG9QJqZmZkZOr1AzczMzEweqkDNzMzMDDO1QM3MzMzMWIJAMzMzMzMzWUDNzMzMzCRkQAAAAACAdLtAZmZmZuZwtEAzMzMzMztsQDMzMzMzK3FAzczMzMxzkkBmZmZmZlSqQM3MzMxMx7tAmpmZmdlGt0CamZmZ2W+3QM3MzMzMwZlAAAAAAEB5tkBmZmZm5oyxQGZmZmZm6a5AmpmZmRmDpECamZmZmUWTQAAAAAAAdJRAmpmZmZlriUAzMzMzM1ORQJqZmZlZtbxAMzMzMzNjckCamZmZmQmNQAAAAAAAIIdAAAAAAACUh0CamZmZmVauQM3MzMzMGJZAZmZmZmYWqUCamZmZmTl3QJqZmZmZeZNAZmZmZmb2V0BmZmZmZuOjQJqZmZnZMLlAmpmZmZnzlkDNzMzMzKyPQAAAAADAIrpAAAAAAIBRoEBmZmZmpki8QM3MzMzMnFlAAAAAAADyiUDNzMzMzNKYQGZmZmZm6olAMzMzMzPnckAAAAAAAEKGQJqZmZmZ4pRAAAAAAMDwtEDNzMzMDE+6QJqZmZmZmUlAAAAAAACQj0DNzMzMDO+yQGZmZmZml6dAzczMzMw0ZECamZmZmTFrQAAAAACAL6RAmpmZmZlBYkCamZmZmbuBQAAAAABAH75AAAAAAACjlUAAAAAAQGm1QDMzMzMzvL9AZmZmZmbaiUCamZmZmblRQGZmZmZmnmtAMzMzMzOzrEDNzMzMzOxIQDMzMzMzBYJAmpmZmZk2okAAAAAAAKBSQGZmZmamj7FAMzMzMzMdu0CamZmZmUV1QJqZmZmZ95tAZmZmZmZkjEBmZmZmZk2QQGZmZmYmprpAMzMzMzPjUUCamZmZmbFjQDMzMzMzpbNAmpmZmZktgkAzMzMzM5a8QDMzMzMzR3pAMzMzM7OYvUAzMzMzM8uDQGZmZmZmGnRAAAAAAABls0BmZmZm5ge4QJqZmZmZl5NAZmZmZmYmOUCamZmZmZlGQGZmZmYmBbdAZmZmZqYstUAzMzMzs4akQM3MzMyMrbNAAAAAAAA+h0CamZmZmb25QM3MzMzMHFdAZmZmZiZNukAAAAAAAKSqQDMzMzMz+2hAZmZmZmaKgkBmZmZmZni8QM3MzMzMbbRAzczMzMxwsUDNzMzMDMyzQJqZmZmZHXlAmpmZmdljsUAzMzMz8yC6QDMzMzMzyqRAMzMzMzNDUkCamZmZme6SQGZmZmamdrtAmpmZmZnhj0BmZmZmpt21QM3MzMxMT7hAmpmZmZkCkEBmZmZmZuqmQDMzMzMzqZNAmpmZmZm5VECamZmZmW2+QAAAAAAAJqBAmpmZmRn5qkAzMzMz81y1QJqZmZmZKJxAZmZmZmbshkBmZmZm5pqnQDMzMzOzz6xAmpmZmZm8lUCamZmZmSVxQDMzMzMz+JJAZmZmZqaGtUBmZmZmZquUQAAAAAAA155AmpmZmZkooUDNzMzMjKO+QM3MzMzMF6lAzczMzMxEYEDNzMzMzKKFQAAAAAAAYFVAZmZmZmbBukBmZmZmZn5pQGZmZmZmiqBAmpmZmdmluUAAAAAAAIx6QDMzMzOz1alAzczMzMwcZUCamZmZmblvQM3MzMzMrGhAZmZmZmb8rUDNzMzMTCKgQDMzMzNzyLNAMzMzMzPQkUBmZmZm5h6jQJqZmZmZv5NAmpmZmZn5RkCamZmZmbicQAAAAAAAYEZAAAAAAACEkkCamZmZmT+bQJqZmZmZiVFAMzMzMzNjVUAAAAAAwKjAQDMzMzNzlblAAAAAAIB+vkAzMzMzM7M5QM3MzMxMj7hAMzMzM7NnqUDNzMzMzExJQAAAAABA4L5AmpmZmZnPhkCamZmZGbykQJqZmZkZ4aJAAAAAAICBq0AzMzMz81G3QJqZmZmZWWxAAAAAAADrkEAAAAAAAK6BQAAAAADAErFAMzMzMzODVkDNzMzMzPKgQM3MzMzMNIFAmpmZmZm5S0CamZmZ2Zy4QJqZmZmZAWRAmpmZmZlJe0BmZmZmZtWbQAAAAAAAFqtAAAAAAICwtUAAAAAAACemQAAAAACADqxAZmZmZmYWVkAAAAAAAOBPQDMzMzMzSYNAAAAAAAAyi0AAAAAAAMqCQJqZmZmZ6VtAmpmZmRmet0CamZmZmaeuQGZmZmZmSohAmpmZmZkDgEBmZmZmZq5hQDMzMzMz4YtAMzMzMzNImkDNzMzMzI2qQJqZmZnZeLNAMzMzMzOVlkDNzMzMzBhzQGZmZmZmvn9AZmZmZuZwrEBmZmZm5uKkQM3MzMzMXHhAmpmZmRnCokBmZmZmZlyEQDMzMzMzg2NAMzMzM7PYpUAzMzMzM4NRQM3MzMzMcHlAAAAAAABBuUAAAAAAAPR/QGZmZmZmMIRAMzMzMzPzQUDNzMzMTIKtQGZmZmYmJ7NAZmZmZmbXmUAAAAAAAMBHQDMzMzMzaZRAmpmZmZn5fEAzMzMzM1NOQM3MzMzMxolAzczMzExdoEBmZmZmZm57QGZmZmZmeopAAAAAAACcdEBmZmZmZhSFQJqZmZmZUWRAmpmZmZkXgUAAAAAAQM++QM3MzMxM5ahAZmZmZmbRnkBmZmZmZt2XQM3MzMzMqH5AmpmZmZntl0AAAAAAAFqFQJqZmZnZer9AzczMzMw+pkCamZmZmbeRQDMzMzMzZ3JAmpmZmZncmkAzMzMzM9t8QM3MzMzMIZJAzczMzMxPtEDNzMzMTCu0QJqZmZmZSWRAzczMzMyai0AAAAAAAPaUQM3MzMzMnFFAmpmZmZmbhECamZmZmUlTQAAAAAAAoEFAMzMzMzPUkkBmZmZm5jWzQAAAAAAAIGlAZmZmZma6gkCamZmZmRSbQAAAAACAHbRAmpmZmRlFskAzMzMzM9NdQJqZmZkZ8bJAAAAAAEAwtUBmZmZm5va2QDMzMzMzm25AAAAAAACYa0AzMzMzM6WwQAAAAADAxrVAAAAAAAB3l0AAAAAAAHBWQDMzMzMzvbFAAAAAAADwb0AAAAAAAMCQQAAAAACAmqNAAAAAAACDlkCamZmZmc6aQJqZmZlZ1bRAMzMzM7NurkAzMzMzMy+LQM3MzMzMFoZAAAAAAAACgECamZmZGZikQAAAAAAAdolAmpmZmZlJeEDNzMzMzFxXQGZmZmZmt5VAmpmZmRmdpkA=",
          "dtype": "f8"
         },
         "y0": " ",
         "yaxis": "y"
        }
       ],
       "layout": {
        "boxmode": "group",
        "legend": {
         "tracegroupgap": 0
        },
        "template": {
         "data": {
          "bar": [
           {
            "error_x": {
             "color": "#2a3f5f"
            },
            "error_y": {
             "color": "#2a3f5f"
            },
            "marker": {
             "line": {
              "color": "#E5ECF6",
              "width": 0.5
             },
             "pattern": {
              "fillmode": "overlay",
              "size": 10,
              "solidity": 0.2
             }
            },
            "type": "bar"
           }
          ],
          "barpolar": [
           {
            "marker": {
             "line": {
              "color": "#E5ECF6",
              "width": 0.5
             },
             "pattern": {
              "fillmode": "overlay",
              "size": 10,
              "solidity": 0.2
             }
            },
            "type": "barpolar"
           }
          ],
          "carpet": [
           {
            "aaxis": {
             "endlinecolor": "#2a3f5f",
             "gridcolor": "white",
             "linecolor": "white",
             "minorgridcolor": "white",
             "startlinecolor": "#2a3f5f"
            },
            "baxis": {
             "endlinecolor": "#2a3f5f",
             "gridcolor": "white",
             "linecolor": "white",
             "minorgridcolor": "white",
             "startlinecolor": "#2a3f5f"
            },
            "type": "carpet"
           }
          ],
          "choropleth": [
           {
            "colorbar": {
             "outlinewidth": 0,
             "ticks": ""
            },
            "type": "choropleth"
           }
          ],
          "contour": [
           {
            "colorbar": {
             "outlinewidth": 0,
             "ticks": ""
            },
            "colorscale": [
             [
              0,
              "#0d0887"
             ],
             [
              0.1111111111111111,
              "#46039f"
             ],
             [
              0.2222222222222222,
              "#7201a8"
             ],
             [
              0.3333333333333333,
              "#9c179e"
             ],
             [
              0.4444444444444444,
              "#bd3786"
             ],
             [
              0.5555555555555556,
              "#d8576b"
             ],
             [
              0.6666666666666666,
              "#ed7953"
             ],
             [
              0.7777777777777778,
              "#fb9f3a"
             ],
             [
              0.8888888888888888,
              "#fdca26"
             ],
             [
              1,
              "#f0f921"
             ]
            ],
            "type": "contour"
           }
          ],
          "contourcarpet": [
           {
            "colorbar": {
             "outlinewidth": 0,
             "ticks": ""
            },
            "type": "contourcarpet"
           }
          ],
          "heatmap": [
           {
            "colorbar": {
             "outlinewidth": 0,
             "ticks": ""
            },
            "colorscale": [
             [
              0,
              "#0d0887"
             ],
             [
              0.1111111111111111,
              "#46039f"
             ],
             [
              0.2222222222222222,
              "#7201a8"
             ],
             [
              0.3333333333333333,
              "#9c179e"
             ],
             [
              0.4444444444444444,
              "#bd3786"
             ],
             [
              0.5555555555555556,
              "#d8576b"
             ],
             [
              0.6666666666666666,
              "#ed7953"
             ],
             [
              0.7777777777777778,
              "#fb9f3a"
             ],
             [
              0.8888888888888888,
              "#fdca26"
             ],
             [
              1,
              "#f0f921"
             ]
            ],
            "type": "heatmap"
           }
          ],
          "histogram": [
           {
            "marker": {
             "pattern": {
              "fillmode": "overlay",
              "size": 10,
              "solidity": 0.2
             }
            },
            "type": "histogram"
           }
          ],
          "histogram2d": [
           {
            "colorbar": {
             "outlinewidth": 0,
             "ticks": ""
            },
            "colorscale": [
             [
              0,
              "#0d0887"
             ],
             [
              0.1111111111111111,
              "#46039f"
             ],
             [
              0.2222222222222222,
              "#7201a8"
             ],
             [
              0.3333333333333333,
              "#9c179e"
             ],
             [
              0.4444444444444444,
              "#bd3786"
             ],
             [
              0.5555555555555556,
              "#d8576b"
             ],
             [
              0.6666666666666666,
              "#ed7953"
             ],
             [
              0.7777777777777778,
              "#fb9f3a"
             ],
             [
              0.8888888888888888,
              "#fdca26"
             ],
             [
              1,
              "#f0f921"
             ]
            ],
            "type": "histogram2d"
           }
          ],
          "histogram2dcontour": [
           {
            "colorbar": {
             "outlinewidth": 0,
             "ticks": ""
            },
            "colorscale": [
             [
              0,
              "#0d0887"
             ],
             [
              0.1111111111111111,
              "#46039f"
             ],
             [
              0.2222222222222222,
              "#7201a8"
             ],
             [
              0.3333333333333333,
              "#9c179e"
             ],
             [
              0.4444444444444444,
              "#bd3786"
             ],
             [
              0.5555555555555556,
              "#d8576b"
             ],
             [
              0.6666666666666666,
              "#ed7953"
             ],
             [
              0.7777777777777778,
              "#fb9f3a"
             ],
             [
              0.8888888888888888,
              "#fdca26"
             ],
             [
              1,
              "#f0f921"
             ]
            ],
            "type": "histogram2dcontour"
           }
          ],
          "mesh3d": [
           {
            "colorbar": {
             "outlinewidth": 0,
             "ticks": ""
            },
            "type": "mesh3d"
           }
          ],
          "parcoords": [
           {
            "line": {
             "colorbar": {
              "outlinewidth": 0,
              "ticks": ""
             }
            },
            "type": "parcoords"
           }
          ],
          "pie": [
           {
            "automargin": true,
            "type": "pie"
           }
          ],
          "scatter": [
           {
            "fillpattern": {
             "fillmode": "overlay",
             "size": 10,
             "solidity": 0.2
            },
            "type": "scatter"
           }
          ],
          "scatter3d": [
           {
            "line": {
             "colorbar": {
              "outlinewidth": 0,
              "ticks": ""
             }
            },
            "marker": {
             "colorbar": {
              "outlinewidth": 0,
              "ticks": ""
             }
            },
            "type": "scatter3d"
           }
          ],
          "scattercarpet": [
           {
            "marker": {
             "colorbar": {
              "outlinewidth": 0,
              "ticks": ""
             }
            },
            "type": "scattercarpet"
           }
          ],
          "scattergeo": [
           {
            "marker": {
             "colorbar": {
              "outlinewidth": 0,
              "ticks": ""
             }
            },
            "type": "scattergeo"
           }
          ],
          "scattergl": [
           {
            "marker": {
             "colorbar": {
              "outlinewidth": 0,
              "ticks": ""
             }
            },
            "type": "scattergl"
           }
          ],
          "scattermap": [
           {
            "marker": {
             "colorbar": {
              "outlinewidth": 0,
              "ticks": ""
             }
            },
            "type": "scattermap"
           }
          ],
          "scattermapbox": [
           {
            "marker": {
             "colorbar": {
              "outlinewidth": 0,
              "ticks": ""
             }
            },
            "type": "scattermapbox"
           }
          ],
          "scatterpolar": [
           {
            "marker": {
             "colorbar": {
              "outlinewidth": 0,
              "ticks": ""
             }
            },
            "type": "scatterpolar"
           }
          ],
          "scatterpolargl": [
           {
            "marker": {
             "colorbar": {
              "outlinewidth": 0,
              "ticks": ""
             }
            },
            "type": "scatterpolargl"
           }
          ],
          "scatterternary": [
           {
            "marker": {
             "colorbar": {
              "outlinewidth": 0,
              "ticks": ""
             }
            },
            "type": "scatterternary"
           }
          ],
          "surface": [
           {
            "colorbar": {
             "outlinewidth": 0,
             "ticks": ""
            },
            "colorscale": [
             [
              0,
              "#0d0887"
             ],
             [
              0.1111111111111111,
              "#46039f"
             ],
             [
              0.2222222222222222,
              "#7201a8"
             ],
             [
              0.3333333333333333,
              "#9c179e"
             ],
             [
              0.4444444444444444,
              "#bd3786"
             ],
             [
              0.5555555555555556,
              "#d8576b"
             ],
             [
              0.6666666666666666,
              "#ed7953"
             ],
             [
              0.7777777777777778,
              "#fb9f3a"
             ],
             [
              0.8888888888888888,
              "#fdca26"
             ],
             [
              1,
              "#f0f921"
             ]
            ],
            "type": "surface"
           }
          ],
          "table": [
           {
            "cells": {
             "fill": {
              "color": "#EBF0F8"
             },
             "line": {
              "color": "white"
             }
            },
            "header": {
             "fill": {
              "color": "#C8D4E3"
             },
             "line": {
              "color": "white"
             }
            },
            "type": "table"
           }
          ]
         },
         "layout": {
          "annotationdefaults": {
           "arrowcolor": "#2a3f5f",
           "arrowhead": 0,
           "arrowwidth": 1
          },
          "autotypenumbers": "strict",
          "coloraxis": {
           "colorbar": {
            "outlinewidth": 0,
            "ticks": ""
           }
          },
          "colorscale": {
           "diverging": [
            [
             0,
             "#8e0152"
            ],
            [
             0.1,
             "#c51b7d"
            ],
            [
             0.2,
             "#de77ae"
            ],
            [
             0.3,
             "#f1b6da"
            ],
            [
             0.4,
             "#fde0ef"
            ],
            [
             0.5,
             "#f7f7f7"
            ],
            [
             0.6,
             "#e6f5d0"
            ],
            [
             0.7,
             "#b8e186"
            ],
            [
             0.8,
             "#7fbc41"
            ],
            [
             0.9,
             "#4d9221"
            ],
            [
             1,
             "#276419"
            ]
           ],
           "sequential": [
            [
             0,
             "#0d0887"
            ],
            [
             0.1111111111111111,
             "#46039f"
            ],
            [
             0.2222222222222222,
             "#7201a8"
            ],
            [
             0.3333333333333333,
             "#9c179e"
            ],
            [
             0.4444444444444444,
             "#bd3786"
            ],
            [
             0.5555555555555556,
             "#d8576b"
            ],
            [
             0.6666666666666666,
             "#ed7953"
            ],
            [
             0.7777777777777778,
             "#fb9f3a"
            ],
            [
             0.8888888888888888,
             "#fdca26"
            ],
            [
             1,
             "#f0f921"
            ]
           ],
           "sequentialminus": [
            [
             0,
             "#0d0887"
            ],
            [
             0.1111111111111111,
             "#46039f"
            ],
            [
             0.2222222222222222,
             "#7201a8"
            ],
            [
             0.3333333333333333,
             "#9c179e"
            ],
            [
             0.4444444444444444,
             "#bd3786"
            ],
            [
             0.5555555555555556,
             "#d8576b"
            ],
            [
             0.6666666666666666,
             "#ed7953"
            ],
            [
             0.7777777777777778,
             "#fb9f3a"
            ],
            [
             0.8888888888888888,
             "#fdca26"
            ],
            [
             1,
             "#f0f921"
            ]
           ]
          },
          "colorway": [
           "#636efa",
           "#EF553B",
           "#00cc96",
           "#ab63fa",
           "#FFA15A",
           "#19d3f3",
           "#FF6692",
           "#B6E880",
           "#FF97FF",
           "#FECB52"
          ],
          "font": {
           "color": "#2a3f5f"
          },
          "geo": {
           "bgcolor": "white",
           "lakecolor": "white",
           "landcolor": "#E5ECF6",
           "showlakes": true,
           "showland": true,
           "subunitcolor": "white"
          },
          "hoverlabel": {
           "align": "left"
          },
          "hovermode": "closest",
          "mapbox": {
           "style": "light"
          },
          "paper_bgcolor": "white",
          "plot_bgcolor": "#E5ECF6",
          "polar": {
           "angularaxis": {
            "gridcolor": "white",
            "linecolor": "white",
            "ticks": ""
           },
           "bgcolor": "#E5ECF6",
           "radialaxis": {
            "gridcolor": "white",
            "linecolor": "white",
            "ticks": ""
           }
          },
          "scene": {
           "xaxis": {
            "backgroundcolor": "#E5ECF6",
            "gridcolor": "white",
            "gridwidth": 2,
            "linecolor": "white",
            "showbackground": true,
            "ticks": "",
            "zerolinecolor": "white"
           },
           "yaxis": {
            "backgroundcolor": "#E5ECF6",
            "gridcolor": "white",
            "gridwidth": 2,
            "linecolor": "white",
            "showbackground": true,
            "ticks": "",
            "zerolinecolor": "white"
           },
           "zaxis": {
            "backgroundcolor": "#E5ECF6",
            "gridcolor": "white",
            "gridwidth": 2,
            "linecolor": "white",
            "showbackground": true,
            "ticks": "",
            "zerolinecolor": "white"
           }
          },
          "shapedefaults": {
           "line": {
            "color": "#2a3f5f"
           }
          },
          "ternary": {
           "aaxis": {
            "gridcolor": "white",
            "linecolor": "white",
            "ticks": ""
           },
           "baxis": {
            "gridcolor": "white",
            "linecolor": "white",
            "ticks": ""
           },
           "bgcolor": "#E5ECF6",
           "caxis": {
            "gridcolor": "white",
            "linecolor": "white",
            "ticks": ""
           }
          },
          "title": {
           "x": 0.05
          },
          "xaxis": {
           "automargin": true,
           "gridcolor": "white",
           "linecolor": "white",
           "ticks": "",
           "title": {
            "standoff": 15
           },
           "zerolinecolor": "white",
           "zerolinewidth": 2
          },
          "yaxis": {
           "automargin": true,
           "gridcolor": "white",
           "linecolor": "white",
           "ticks": "",
           "title": {
            "standoff": 15
           },
           "zerolinecolor": "white",
           "zerolinewidth": 2
          }
         }
        },
        "title": {
         "text": "Box Plot da cobrança total"
        },
        "xaxis": {
         "anchor": "y",
         "domain": [
          0,
          1
         ]
        },
        "yaxis": {
         "anchor": "x",
         "domain": [
          0,
          1
         ],
         "title": {
          "text": "TotalCharges"
         }
        }
       }
      }
     },
     "metadata": {},
     "output_type": "display_data"
    }
   ],
   "source": [
    "fig = px.box(df, y='Tenure', title='Box Plot do tempo de relacionamento', labels={'Tempo de Relacionamento': 'Valores'})\n",
    "fig.show()\n",
    "\n",
    "fig = px.box(df, y='MonthlyCharges', title='Box Plot da cobrança mensal', labels={'Cobrança Mensal': 'Valores'})\n",
    "fig.show()\n",
    "\n",
    "fig = px.box(df, y='TotalCharges', title='Box Plot da cobrança total', labels={'Cobrança Total': 'Valores'})\n",
    "fig.show()"
   ]
  },
  {
   "cell_type": "markdown",
   "metadata": {},
   "source": [
    "## Resposta da 3\n",
    "\n",
    "Nesse caso, creio por ter pego a base de dados já tratada do módulo anterior, nenhuma das colunas quantitativas apresentou outlier, mas só para indicar o que seria feito:\n",
    "\n",
    "Substituiria os valores outliers (acima do limite superior ou abaixo do limite inferior) por ou mediana ou média, no caso das colunas apresentadas, provavelmente seria a mediana, já que a distribuição não é tão normal assim, existindo um peso, ou seja, uma distribuição com cauda."
   ]
  },
  {
   "cell_type": "markdown",
   "metadata": {
    "id": "l7XwsuFpIWKB"
   },
   "source": [
    "# 4) Realize a etapa da análise bivariada:\n",
    "A) Questione pelo menos 5 informações e traga as respostas utilizando visuais gráficos e insights.\n",
    "\n",
    "\n",
    "B) Quais variáveis você acredita serem as mais importantes para esse projetos relacionadas a variável Churn?"
   ]
  },
  {
   "cell_type": "markdown",
   "metadata": {},
   "source": [
    "# Colunas binárias (booleanas)"
   ]
  },
  {
   "cell_type": "code",
   "execution_count": 36,
   "metadata": {
    "id": "7APnjGTNGHYb"
   },
   "outputs": [
    {
     "name": "stdout",
     "output_type": "stream",
     "text": [
      "Genero\n",
      "\n"
     ]
    },
    {
     "data": {
      "application/vnd.plotly.v1+json": {
       "config": {
        "plotlyServerURL": "https://plot.ly"
       },
       "data": [
        {
         "hovertemplate": "Gender=Female<br>Churn=%{x}<br>Porcentagem=%{y}<extra></extra>",
         "legendgroup": "Female",
         "marker": {
          "color": "#636efa",
          "pattern": {
           "shape": ""
          }
         },
         "name": "Female",
         "orientation": "v",
         "showlegend": true,
         "textposition": "auto",
         "type": "bar",
         "x": {
          "bdata": "AAE=",
          "dtype": "i1"
         },
         "xaxis": "x",
         "y": {
          "bdata": "ZTWARhUXSEDcVWEmKahJQA==",
          "dtype": "f8"
         },
         "yaxis": "y"
        },
        {
         "hovertemplate": "Gender=Male<br>Churn=%{x}<br>Porcentagem=%{y}<extra></extra>",
         "legendgroup": "Male",
         "marker": {
          "color": "#EF553B",
          "pattern": {
           "shape": ""
          }
         },
         "name": "Male",
         "orientation": "v",
         "showlegend": true,
         "textposition": "auto",
         "type": "bar",
         "x": {
          "bdata": "AAE=",
          "dtype": "i1"
         },
         "xaxis": "x",
         "y": {
          "bdata": "msp/ueroSUAkqp7Z1ldIQA==",
          "dtype": "f8"
         },
         "yaxis": "y"
        }
       ],
       "layout": {
        "barmode": "stack",
        "legend": {
         "title": {
          "text": "Gender"
         },
         "tracegroupgap": 0
        },
        "margin": {
         "t": 60
        },
        "template": {
         "data": {
          "bar": [
           {
            "error_x": {
             "color": "#2a3f5f"
            },
            "error_y": {
             "color": "#2a3f5f"
            },
            "marker": {
             "line": {
              "color": "#E5ECF6",
              "width": 0.5
             },
             "pattern": {
              "fillmode": "overlay",
              "size": 10,
              "solidity": 0.2
             }
            },
            "type": "bar"
           }
          ],
          "barpolar": [
           {
            "marker": {
             "line": {
              "color": "#E5ECF6",
              "width": 0.5
             },
             "pattern": {
              "fillmode": "overlay",
              "size": 10,
              "solidity": 0.2
             }
            },
            "type": "barpolar"
           }
          ],
          "carpet": [
           {
            "aaxis": {
             "endlinecolor": "#2a3f5f",
             "gridcolor": "white",
             "linecolor": "white",
             "minorgridcolor": "white",
             "startlinecolor": "#2a3f5f"
            },
            "baxis": {
             "endlinecolor": "#2a3f5f",
             "gridcolor": "white",
             "linecolor": "white",
             "minorgridcolor": "white",
             "startlinecolor": "#2a3f5f"
            },
            "type": "carpet"
           }
          ],
          "choropleth": [
           {
            "colorbar": {
             "outlinewidth": 0,
             "ticks": ""
            },
            "type": "choropleth"
           }
          ],
          "contour": [
           {
            "colorbar": {
             "outlinewidth": 0,
             "ticks": ""
            },
            "colorscale": [
             [
              0,
              "#0d0887"
             ],
             [
              0.1111111111111111,
              "#46039f"
             ],
             [
              0.2222222222222222,
              "#7201a8"
             ],
             [
              0.3333333333333333,
              "#9c179e"
             ],
             [
              0.4444444444444444,
              "#bd3786"
             ],
             [
              0.5555555555555556,
              "#d8576b"
             ],
             [
              0.6666666666666666,
              "#ed7953"
             ],
             [
              0.7777777777777778,
              "#fb9f3a"
             ],
             [
              0.8888888888888888,
              "#fdca26"
             ],
             [
              1,
              "#f0f921"
             ]
            ],
            "type": "contour"
           }
          ],
          "contourcarpet": [
           {
            "colorbar": {
             "outlinewidth": 0,
             "ticks": ""
            },
            "type": "contourcarpet"
           }
          ],
          "heatmap": [
           {
            "colorbar": {
             "outlinewidth": 0,
             "ticks": ""
            },
            "colorscale": [
             [
              0,
              "#0d0887"
             ],
             [
              0.1111111111111111,
              "#46039f"
             ],
             [
              0.2222222222222222,
              "#7201a8"
             ],
             [
              0.3333333333333333,
              "#9c179e"
             ],
             [
              0.4444444444444444,
              "#bd3786"
             ],
             [
              0.5555555555555556,
              "#d8576b"
             ],
             [
              0.6666666666666666,
              "#ed7953"
             ],
             [
              0.7777777777777778,
              "#fb9f3a"
             ],
             [
              0.8888888888888888,
              "#fdca26"
             ],
             [
              1,
              "#f0f921"
             ]
            ],
            "type": "heatmap"
           }
          ],
          "histogram": [
           {
            "marker": {
             "pattern": {
              "fillmode": "overlay",
              "size": 10,
              "solidity": 0.2
             }
            },
            "type": "histogram"
           }
          ],
          "histogram2d": [
           {
            "colorbar": {
             "outlinewidth": 0,
             "ticks": ""
            },
            "colorscale": [
             [
              0,
              "#0d0887"
             ],
             [
              0.1111111111111111,
              "#46039f"
             ],
             [
              0.2222222222222222,
              "#7201a8"
             ],
             [
              0.3333333333333333,
              "#9c179e"
             ],
             [
              0.4444444444444444,
              "#bd3786"
             ],
             [
              0.5555555555555556,
              "#d8576b"
             ],
             [
              0.6666666666666666,
              "#ed7953"
             ],
             [
              0.7777777777777778,
              "#fb9f3a"
             ],
             [
              0.8888888888888888,
              "#fdca26"
             ],
             [
              1,
              "#f0f921"
             ]
            ],
            "type": "histogram2d"
           }
          ],
          "histogram2dcontour": [
           {
            "colorbar": {
             "outlinewidth": 0,
             "ticks": ""
            },
            "colorscale": [
             [
              0,
              "#0d0887"
             ],
             [
              0.1111111111111111,
              "#46039f"
             ],
             [
              0.2222222222222222,
              "#7201a8"
             ],
             [
              0.3333333333333333,
              "#9c179e"
             ],
             [
              0.4444444444444444,
              "#bd3786"
             ],
             [
              0.5555555555555556,
              "#d8576b"
             ],
             [
              0.6666666666666666,
              "#ed7953"
             ],
             [
              0.7777777777777778,
              "#fb9f3a"
             ],
             [
              0.8888888888888888,
              "#fdca26"
             ],
             [
              1,
              "#f0f921"
             ]
            ],
            "type": "histogram2dcontour"
           }
          ],
          "mesh3d": [
           {
            "colorbar": {
             "outlinewidth": 0,
             "ticks": ""
            },
            "type": "mesh3d"
           }
          ],
          "parcoords": [
           {
            "line": {
             "colorbar": {
              "outlinewidth": 0,
              "ticks": ""
             }
            },
            "type": "parcoords"
           }
          ],
          "pie": [
           {
            "automargin": true,
            "type": "pie"
           }
          ],
          "scatter": [
           {
            "fillpattern": {
             "fillmode": "overlay",
             "size": 10,
             "solidity": 0.2
            },
            "type": "scatter"
           }
          ],
          "scatter3d": [
           {
            "line": {
             "colorbar": {
              "outlinewidth": 0,
              "ticks": ""
             }
            },
            "marker": {
             "colorbar": {
              "outlinewidth": 0,
              "ticks": ""
             }
            },
            "type": "scatter3d"
           }
          ],
          "scattercarpet": [
           {
            "marker": {
             "colorbar": {
              "outlinewidth": 0,
              "ticks": ""
             }
            },
            "type": "scattercarpet"
           }
          ],
          "scattergeo": [
           {
            "marker": {
             "colorbar": {
              "outlinewidth": 0,
              "ticks": ""
             }
            },
            "type": "scattergeo"
           }
          ],
          "scattergl": [
           {
            "marker": {
             "colorbar": {
              "outlinewidth": 0,
              "ticks": ""
             }
            },
            "type": "scattergl"
           }
          ],
          "scattermap": [
           {
            "marker": {
             "colorbar": {
              "outlinewidth": 0,
              "ticks": ""
             }
            },
            "type": "scattermap"
           }
          ],
          "scattermapbox": [
           {
            "marker": {
             "colorbar": {
              "outlinewidth": 0,
              "ticks": ""
             }
            },
            "type": "scattermapbox"
           }
          ],
          "scatterpolar": [
           {
            "marker": {
             "colorbar": {
              "outlinewidth": 0,
              "ticks": ""
             }
            },
            "type": "scatterpolar"
           }
          ],
          "scatterpolargl": [
           {
            "marker": {
             "colorbar": {
              "outlinewidth": 0,
              "ticks": ""
             }
            },
            "type": "scatterpolargl"
           }
          ],
          "scatterternary": [
           {
            "marker": {
             "colorbar": {
              "outlinewidth": 0,
              "ticks": ""
             }
            },
            "type": "scatterternary"
           }
          ],
          "surface": [
           {
            "colorbar": {
             "outlinewidth": 0,
             "ticks": ""
            },
            "colorscale": [
             [
              0,
              "#0d0887"
             ],
             [
              0.1111111111111111,
              "#46039f"
             ],
             [
              0.2222222222222222,
              "#7201a8"
             ],
             [
              0.3333333333333333,
              "#9c179e"
             ],
             [
              0.4444444444444444,
              "#bd3786"
             ],
             [
              0.5555555555555556,
              "#d8576b"
             ],
             [
              0.6666666666666666,
              "#ed7953"
             ],
             [
              0.7777777777777778,
              "#fb9f3a"
             ],
             [
              0.8888888888888888,
              "#fdca26"
             ],
             [
              1,
              "#f0f921"
             ]
            ],
            "type": "surface"
           }
          ],
          "table": [
           {
            "cells": {
             "fill": {
              "color": "#EBF0F8"
             },
             "line": {
              "color": "white"
             }
            },
            "header": {
             "fill": {
              "color": "#C8D4E3"
             },
             "line": {
              "color": "white"
             }
            },
            "type": "table"
           }
          ]
         },
         "layout": {
          "annotationdefaults": {
           "arrowcolor": "#2a3f5f",
           "arrowhead": 0,
           "arrowwidth": 1
          },
          "autotypenumbers": "strict",
          "coloraxis": {
           "colorbar": {
            "outlinewidth": 0,
            "ticks": ""
           }
          },
          "colorscale": {
           "diverging": [
            [
             0,
             "#8e0152"
            ],
            [
             0.1,
             "#c51b7d"
            ],
            [
             0.2,
             "#de77ae"
            ],
            [
             0.3,
             "#f1b6da"
            ],
            [
             0.4,
             "#fde0ef"
            ],
            [
             0.5,
             "#f7f7f7"
            ],
            [
             0.6,
             "#e6f5d0"
            ],
            [
             0.7,
             "#b8e186"
            ],
            [
             0.8,
             "#7fbc41"
            ],
            [
             0.9,
             "#4d9221"
            ],
            [
             1,
             "#276419"
            ]
           ],
           "sequential": [
            [
             0,
             "#0d0887"
            ],
            [
             0.1111111111111111,
             "#46039f"
            ],
            [
             0.2222222222222222,
             "#7201a8"
            ],
            [
             0.3333333333333333,
             "#9c179e"
            ],
            [
             0.4444444444444444,
             "#bd3786"
            ],
            [
             0.5555555555555556,
             "#d8576b"
            ],
            [
             0.6666666666666666,
             "#ed7953"
            ],
            [
             0.7777777777777778,
             "#fb9f3a"
            ],
            [
             0.8888888888888888,
             "#fdca26"
            ],
            [
             1,
             "#f0f921"
            ]
           ],
           "sequentialminus": [
            [
             0,
             "#0d0887"
            ],
            [
             0.1111111111111111,
             "#46039f"
            ],
            [
             0.2222222222222222,
             "#7201a8"
            ],
            [
             0.3333333333333333,
             "#9c179e"
            ],
            [
             0.4444444444444444,
             "#bd3786"
            ],
            [
             0.5555555555555556,
             "#d8576b"
            ],
            [
             0.6666666666666666,
             "#ed7953"
            ],
            [
             0.7777777777777778,
             "#fb9f3a"
            ],
            [
             0.8888888888888888,
             "#fdca26"
            ],
            [
             1,
             "#f0f921"
            ]
           ]
          },
          "colorway": [
           "#636efa",
           "#EF553B",
           "#00cc96",
           "#ab63fa",
           "#FFA15A",
           "#19d3f3",
           "#FF6692",
           "#B6E880",
           "#FF97FF",
           "#FECB52"
          ],
          "font": {
           "color": "#2a3f5f"
          },
          "geo": {
           "bgcolor": "white",
           "lakecolor": "white",
           "landcolor": "#E5ECF6",
           "showlakes": true,
           "showland": true,
           "subunitcolor": "white"
          },
          "hoverlabel": {
           "align": "left"
          },
          "hovermode": "closest",
          "mapbox": {
           "style": "light"
          },
          "paper_bgcolor": "white",
          "plot_bgcolor": "#E5ECF6",
          "polar": {
           "angularaxis": {
            "gridcolor": "white",
            "linecolor": "white",
            "ticks": ""
           },
           "bgcolor": "#E5ECF6",
           "radialaxis": {
            "gridcolor": "white",
            "linecolor": "white",
            "ticks": ""
           }
          },
          "scene": {
           "xaxis": {
            "backgroundcolor": "#E5ECF6",
            "gridcolor": "white",
            "gridwidth": 2,
            "linecolor": "white",
            "showbackground": true,
            "ticks": "",
            "zerolinecolor": "white"
           },
           "yaxis": {
            "backgroundcolor": "#E5ECF6",
            "gridcolor": "white",
            "gridwidth": 2,
            "linecolor": "white",
            "showbackground": true,
            "ticks": "",
            "zerolinecolor": "white"
           },
           "zaxis": {
            "backgroundcolor": "#E5ECF6",
            "gridcolor": "white",
            "gridwidth": 2,
            "linecolor": "white",
            "showbackground": true,
            "ticks": "",
            "zerolinecolor": "white"
           }
          },
          "shapedefaults": {
           "line": {
            "color": "#2a3f5f"
           }
          },
          "ternary": {
           "aaxis": {
            "gridcolor": "white",
            "linecolor": "white",
            "ticks": ""
           },
           "baxis": {
            "gridcolor": "white",
            "linecolor": "white",
            "ticks": ""
           },
           "bgcolor": "#E5ECF6",
           "caxis": {
            "gridcolor": "white",
            "linecolor": "white",
            "ticks": ""
           }
          },
          "title": {
           "x": 0.05
          },
          "xaxis": {
           "automargin": true,
           "gridcolor": "white",
           "linecolor": "white",
           "ticks": "",
           "title": {
            "standoff": 15
           },
           "zerolinecolor": "white",
           "zerolinewidth": 2
          },
          "yaxis": {
           "automargin": true,
           "gridcolor": "white",
           "linecolor": "white",
           "ticks": "",
           "title": {
            "standoff": 15
           },
           "zerolinecolor": "white",
           "zerolinewidth": 2
          }
         }
        },
        "title": {
         "text": "Relação entre Churn e Genero"
        },
        "xaxis": {
         "anchor": "y",
         "domain": [
          0,
          1
         ],
         "title": {
          "text": "Churn"
         }
        },
        "yaxis": {
         "anchor": "x",
         "domain": [
          0,
          1
         ],
         "title": {
          "text": "Porcentagem"
         }
        }
       }
      }
     },
     "metadata": {},
     "output_type": "display_data"
    },
    {
     "name": "stdout",
     "output_type": "stream",
     "text": [
      "\n",
      "Casado\n",
      "\n"
     ]
    },
    {
     "data": {
      "application/vnd.plotly.v1+json": {
       "config": {
        "plotlyServerURL": "https://plot.ly"
       },
       "data": [
        {
         "hovertemplate": "Churn=%{x}<br>Porcentagem=%{y}<br>Married=%{marker.color}<extra></extra>",
         "legendgroup": "",
         "marker": {
          "color": {
           "bdata": "AAEAAQ==",
           "dtype": "i1"
          },
          "coloraxis": "coloraxis",
          "pattern": {
           "shape": ""
          }
         },
         "name": "",
         "orientation": "v",
         "showlegend": false,
         "textposition": "auto",
         "type": "bar",
         "x": {
          "bdata": "AAABAQ==",
          "dtype": "i1"
         },
         "xaxis": "x",
         "y": {
          "bdata": "2Zd8gKQxR0AnaIN/W85KQFIZQDK3h09Area/zUh4QkA=",
          "dtype": "f8"
         },
         "yaxis": "y"
        }
       ],
       "layout": {
        "barmode": "stack",
        "coloraxis": {
         "colorbar": {
          "title": {
           "text": "Married"
          }
         },
         "colorscale": [
          [
           0,
           "#0d0887"
          ],
          [
           0.1111111111111111,
           "#46039f"
          ],
          [
           0.2222222222222222,
           "#7201a8"
          ],
          [
           0.3333333333333333,
           "#9c179e"
          ],
          [
           0.4444444444444444,
           "#bd3786"
          ],
          [
           0.5555555555555556,
           "#d8576b"
          ],
          [
           0.6666666666666666,
           "#ed7953"
          ],
          [
           0.7777777777777778,
           "#fb9f3a"
          ],
          [
           0.8888888888888888,
           "#fdca26"
          ],
          [
           1,
           "#f0f921"
          ]
         ]
        },
        "legend": {
         "tracegroupgap": 0
        },
        "margin": {
         "t": 60
        },
        "template": {
         "data": {
          "bar": [
           {
            "error_x": {
             "color": "#2a3f5f"
            },
            "error_y": {
             "color": "#2a3f5f"
            },
            "marker": {
             "line": {
              "color": "#E5ECF6",
              "width": 0.5
             },
             "pattern": {
              "fillmode": "overlay",
              "size": 10,
              "solidity": 0.2
             }
            },
            "type": "bar"
           }
          ],
          "barpolar": [
           {
            "marker": {
             "line": {
              "color": "#E5ECF6",
              "width": 0.5
             },
             "pattern": {
              "fillmode": "overlay",
              "size": 10,
              "solidity": 0.2
             }
            },
            "type": "barpolar"
           }
          ],
          "carpet": [
           {
            "aaxis": {
             "endlinecolor": "#2a3f5f",
             "gridcolor": "white",
             "linecolor": "white",
             "minorgridcolor": "white",
             "startlinecolor": "#2a3f5f"
            },
            "baxis": {
             "endlinecolor": "#2a3f5f",
             "gridcolor": "white",
             "linecolor": "white",
             "minorgridcolor": "white",
             "startlinecolor": "#2a3f5f"
            },
            "type": "carpet"
           }
          ],
          "choropleth": [
           {
            "colorbar": {
             "outlinewidth": 0,
             "ticks": ""
            },
            "type": "choropleth"
           }
          ],
          "contour": [
           {
            "colorbar": {
             "outlinewidth": 0,
             "ticks": ""
            },
            "colorscale": [
             [
              0,
              "#0d0887"
             ],
             [
              0.1111111111111111,
              "#46039f"
             ],
             [
              0.2222222222222222,
              "#7201a8"
             ],
             [
              0.3333333333333333,
              "#9c179e"
             ],
             [
              0.4444444444444444,
              "#bd3786"
             ],
             [
              0.5555555555555556,
              "#d8576b"
             ],
             [
              0.6666666666666666,
              "#ed7953"
             ],
             [
              0.7777777777777778,
              "#fb9f3a"
             ],
             [
              0.8888888888888888,
              "#fdca26"
             ],
             [
              1,
              "#f0f921"
             ]
            ],
            "type": "contour"
           }
          ],
          "contourcarpet": [
           {
            "colorbar": {
             "outlinewidth": 0,
             "ticks": ""
            },
            "type": "contourcarpet"
           }
          ],
          "heatmap": [
           {
            "colorbar": {
             "outlinewidth": 0,
             "ticks": ""
            },
            "colorscale": [
             [
              0,
              "#0d0887"
             ],
             [
              0.1111111111111111,
              "#46039f"
             ],
             [
              0.2222222222222222,
              "#7201a8"
             ],
             [
              0.3333333333333333,
              "#9c179e"
             ],
             [
              0.4444444444444444,
              "#bd3786"
             ],
             [
              0.5555555555555556,
              "#d8576b"
             ],
             [
              0.6666666666666666,
              "#ed7953"
             ],
             [
              0.7777777777777778,
              "#fb9f3a"
             ],
             [
              0.8888888888888888,
              "#fdca26"
             ],
             [
              1,
              "#f0f921"
             ]
            ],
            "type": "heatmap"
           }
          ],
          "histogram": [
           {
            "marker": {
             "pattern": {
              "fillmode": "overlay",
              "size": 10,
              "solidity": 0.2
             }
            },
            "type": "histogram"
           }
          ],
          "histogram2d": [
           {
            "colorbar": {
             "outlinewidth": 0,
             "ticks": ""
            },
            "colorscale": [
             [
              0,
              "#0d0887"
             ],
             [
              0.1111111111111111,
              "#46039f"
             ],
             [
              0.2222222222222222,
              "#7201a8"
             ],
             [
              0.3333333333333333,
              "#9c179e"
             ],
             [
              0.4444444444444444,
              "#bd3786"
             ],
             [
              0.5555555555555556,
              "#d8576b"
             ],
             [
              0.6666666666666666,
              "#ed7953"
             ],
             [
              0.7777777777777778,
              "#fb9f3a"
             ],
             [
              0.8888888888888888,
              "#fdca26"
             ],
             [
              1,
              "#f0f921"
             ]
            ],
            "type": "histogram2d"
           }
          ],
          "histogram2dcontour": [
           {
            "colorbar": {
             "outlinewidth": 0,
             "ticks": ""
            },
            "colorscale": [
             [
              0,
              "#0d0887"
             ],
             [
              0.1111111111111111,
              "#46039f"
             ],
             [
              0.2222222222222222,
              "#7201a8"
             ],
             [
              0.3333333333333333,
              "#9c179e"
             ],
             [
              0.4444444444444444,
              "#bd3786"
             ],
             [
              0.5555555555555556,
              "#d8576b"
             ],
             [
              0.6666666666666666,
              "#ed7953"
             ],
             [
              0.7777777777777778,
              "#fb9f3a"
             ],
             [
              0.8888888888888888,
              "#fdca26"
             ],
             [
              1,
              "#f0f921"
             ]
            ],
            "type": "histogram2dcontour"
           }
          ],
          "mesh3d": [
           {
            "colorbar": {
             "outlinewidth": 0,
             "ticks": ""
            },
            "type": "mesh3d"
           }
          ],
          "parcoords": [
           {
            "line": {
             "colorbar": {
              "outlinewidth": 0,
              "ticks": ""
             }
            },
            "type": "parcoords"
           }
          ],
          "pie": [
           {
            "automargin": true,
            "type": "pie"
           }
          ],
          "scatter": [
           {
            "fillpattern": {
             "fillmode": "overlay",
             "size": 10,
             "solidity": 0.2
            },
            "type": "scatter"
           }
          ],
          "scatter3d": [
           {
            "line": {
             "colorbar": {
              "outlinewidth": 0,
              "ticks": ""
             }
            },
            "marker": {
             "colorbar": {
              "outlinewidth": 0,
              "ticks": ""
             }
            },
            "type": "scatter3d"
           }
          ],
          "scattercarpet": [
           {
            "marker": {
             "colorbar": {
              "outlinewidth": 0,
              "ticks": ""
             }
            },
            "type": "scattercarpet"
           }
          ],
          "scattergeo": [
           {
            "marker": {
             "colorbar": {
              "outlinewidth": 0,
              "ticks": ""
             }
            },
            "type": "scattergeo"
           }
          ],
          "scattergl": [
           {
            "marker": {
             "colorbar": {
              "outlinewidth": 0,
              "ticks": ""
             }
            },
            "type": "scattergl"
           }
          ],
          "scattermap": [
           {
            "marker": {
             "colorbar": {
              "outlinewidth": 0,
              "ticks": ""
             }
            },
            "type": "scattermap"
           }
          ],
          "scattermapbox": [
           {
            "marker": {
             "colorbar": {
              "outlinewidth": 0,
              "ticks": ""
             }
            },
            "type": "scattermapbox"
           }
          ],
          "scatterpolar": [
           {
            "marker": {
             "colorbar": {
              "outlinewidth": 0,
              "ticks": ""
             }
            },
            "type": "scatterpolar"
           }
          ],
          "scatterpolargl": [
           {
            "marker": {
             "colorbar": {
              "outlinewidth": 0,
              "ticks": ""
             }
            },
            "type": "scatterpolargl"
           }
          ],
          "scatterternary": [
           {
            "marker": {
             "colorbar": {
              "outlinewidth": 0,
              "ticks": ""
             }
            },
            "type": "scatterternary"
           }
          ],
          "surface": [
           {
            "colorbar": {
             "outlinewidth": 0,
             "ticks": ""
            },
            "colorscale": [
             [
              0,
              "#0d0887"
             ],
             [
              0.1111111111111111,
              "#46039f"
             ],
             [
              0.2222222222222222,
              "#7201a8"
             ],
             [
              0.3333333333333333,
              "#9c179e"
             ],
             [
              0.4444444444444444,
              "#bd3786"
             ],
             [
              0.5555555555555556,
              "#d8576b"
             ],
             [
              0.6666666666666666,
              "#ed7953"
             ],
             [
              0.7777777777777778,
              "#fb9f3a"
             ],
             [
              0.8888888888888888,
              "#fdca26"
             ],
             [
              1,
              "#f0f921"
             ]
            ],
            "type": "surface"
           }
          ],
          "table": [
           {
            "cells": {
             "fill": {
              "color": "#EBF0F8"
             },
             "line": {
              "color": "white"
             }
            },
            "header": {
             "fill": {
              "color": "#C8D4E3"
             },
             "line": {
              "color": "white"
             }
            },
            "type": "table"
           }
          ]
         },
         "layout": {
          "annotationdefaults": {
           "arrowcolor": "#2a3f5f",
           "arrowhead": 0,
           "arrowwidth": 1
          },
          "autotypenumbers": "strict",
          "coloraxis": {
           "colorbar": {
            "outlinewidth": 0,
            "ticks": ""
           }
          },
          "colorscale": {
           "diverging": [
            [
             0,
             "#8e0152"
            ],
            [
             0.1,
             "#c51b7d"
            ],
            [
             0.2,
             "#de77ae"
            ],
            [
             0.3,
             "#f1b6da"
            ],
            [
             0.4,
             "#fde0ef"
            ],
            [
             0.5,
             "#f7f7f7"
            ],
            [
             0.6,
             "#e6f5d0"
            ],
            [
             0.7,
             "#b8e186"
            ],
            [
             0.8,
             "#7fbc41"
            ],
            [
             0.9,
             "#4d9221"
            ],
            [
             1,
             "#276419"
            ]
           ],
           "sequential": [
            [
             0,
             "#0d0887"
            ],
            [
             0.1111111111111111,
             "#46039f"
            ],
            [
             0.2222222222222222,
             "#7201a8"
            ],
            [
             0.3333333333333333,
             "#9c179e"
            ],
            [
             0.4444444444444444,
             "#bd3786"
            ],
            [
             0.5555555555555556,
             "#d8576b"
            ],
            [
             0.6666666666666666,
             "#ed7953"
            ],
            [
             0.7777777777777778,
             "#fb9f3a"
            ],
            [
             0.8888888888888888,
             "#fdca26"
            ],
            [
             1,
             "#f0f921"
            ]
           ],
           "sequentialminus": [
            [
             0,
             "#0d0887"
            ],
            [
             0.1111111111111111,
             "#46039f"
            ],
            [
             0.2222222222222222,
             "#7201a8"
            ],
            [
             0.3333333333333333,
             "#9c179e"
            ],
            [
             0.4444444444444444,
             "#bd3786"
            ],
            [
             0.5555555555555556,
             "#d8576b"
            ],
            [
             0.6666666666666666,
             "#ed7953"
            ],
            [
             0.7777777777777778,
             "#fb9f3a"
            ],
            [
             0.8888888888888888,
             "#fdca26"
            ],
            [
             1,
             "#f0f921"
            ]
           ]
          },
          "colorway": [
           "#636efa",
           "#EF553B",
           "#00cc96",
           "#ab63fa",
           "#FFA15A",
           "#19d3f3",
           "#FF6692",
           "#B6E880",
           "#FF97FF",
           "#FECB52"
          ],
          "font": {
           "color": "#2a3f5f"
          },
          "geo": {
           "bgcolor": "white",
           "lakecolor": "white",
           "landcolor": "#E5ECF6",
           "showlakes": true,
           "showland": true,
           "subunitcolor": "white"
          },
          "hoverlabel": {
           "align": "left"
          },
          "hovermode": "closest",
          "mapbox": {
           "style": "light"
          },
          "paper_bgcolor": "white",
          "plot_bgcolor": "#E5ECF6",
          "polar": {
           "angularaxis": {
            "gridcolor": "white",
            "linecolor": "white",
            "ticks": ""
           },
           "bgcolor": "#E5ECF6",
           "radialaxis": {
            "gridcolor": "white",
            "linecolor": "white",
            "ticks": ""
           }
          },
          "scene": {
           "xaxis": {
            "backgroundcolor": "#E5ECF6",
            "gridcolor": "white",
            "gridwidth": 2,
            "linecolor": "white",
            "showbackground": true,
            "ticks": "",
            "zerolinecolor": "white"
           },
           "yaxis": {
            "backgroundcolor": "#E5ECF6",
            "gridcolor": "white",
            "gridwidth": 2,
            "linecolor": "white",
            "showbackground": true,
            "ticks": "",
            "zerolinecolor": "white"
           },
           "zaxis": {
            "backgroundcolor": "#E5ECF6",
            "gridcolor": "white",
            "gridwidth": 2,
            "linecolor": "white",
            "showbackground": true,
            "ticks": "",
            "zerolinecolor": "white"
           }
          },
          "shapedefaults": {
           "line": {
            "color": "#2a3f5f"
           }
          },
          "ternary": {
           "aaxis": {
            "gridcolor": "white",
            "linecolor": "white",
            "ticks": ""
           },
           "baxis": {
            "gridcolor": "white",
            "linecolor": "white",
            "ticks": ""
           },
           "bgcolor": "#E5ECF6",
           "caxis": {
            "gridcolor": "white",
            "linecolor": "white",
            "ticks": ""
           }
          },
          "title": {
           "x": 0.05
          },
          "xaxis": {
           "automargin": true,
           "gridcolor": "white",
           "linecolor": "white",
           "ticks": "",
           "title": {
            "standoff": 15
           },
           "zerolinecolor": "white",
           "zerolinewidth": 2
          },
          "yaxis": {
           "automargin": true,
           "gridcolor": "white",
           "linecolor": "white",
           "ticks": "",
           "title": {
            "standoff": 15
           },
           "zerolinecolor": "white",
           "zerolinewidth": 2
          }
         }
        },
        "title": {
         "text": "Relação entre Churn e Casados"
        },
        "xaxis": {
         "anchor": "y",
         "domain": [
          0,
          1
         ],
         "title": {
          "text": "Churn"
         }
        },
        "yaxis": {
         "anchor": "x",
         "domain": [
          0,
          1
         ],
         "title": {
          "text": "Porcentagem"
         }
        }
       }
      }
     },
     "metadata": {},
     "output_type": "display_data"
    },
    {
     "name": "stdout",
     "output_type": "stream",
     "text": [
      "\n",
      "Dependentes\n",
      "\n"
     ]
    },
    {
     "data": {
      "application/vnd.plotly.v1+json": {
       "config": {
        "plotlyServerURL": "https://plot.ly"
       },
       "data": [
        {
         "hovertemplate": "Churn=%{x}<br>Porcentagem=%{y}<br>Dependents=%{marker.color}<extra></extra>",
         "legendgroup": "",
         "marker": {
          "color": {
           "bdata": "AAEAAQ==",
           "dtype": "i1"
          },
          "coloraxis": "coloraxis",
          "pattern": {
           "shape": ""
          }
         },
         "name": "",
         "orientation": "v",
         "showlegend": false,
         "textposition": "auto",
         "type": "bar",
         "x": {
          "bdata": "AAABAQ==",
          "dtype": "i1"
         },
         "xaxis": "x",
         "y": {
          "bdata": "RDrtNoXiT0C9xRLJeh1CQNVq/tuMhFRArVQGkMztMUA=",
          "dtype": "f8"
         },
         "yaxis": "y"
        }
       ],
       "layout": {
        "barmode": "stack",
        "coloraxis": {
         "colorbar": {
          "title": {
           "text": "Dependents"
          }
         },
         "colorscale": [
          [
           0,
           "#0d0887"
          ],
          [
           0.1111111111111111,
           "#46039f"
          ],
          [
           0.2222222222222222,
           "#7201a8"
          ],
          [
           0.3333333333333333,
           "#9c179e"
          ],
          [
           0.4444444444444444,
           "#bd3786"
          ],
          [
           0.5555555555555556,
           "#d8576b"
          ],
          [
           0.6666666666666666,
           "#ed7953"
          ],
          [
           0.7777777777777778,
           "#fb9f3a"
          ],
          [
           0.8888888888888888,
           "#fdca26"
          ],
          [
           1,
           "#f0f921"
          ]
         ]
        },
        "legend": {
         "tracegroupgap": 0
        },
        "margin": {
         "t": 60
        },
        "template": {
         "data": {
          "bar": [
           {
            "error_x": {
             "color": "#2a3f5f"
            },
            "error_y": {
             "color": "#2a3f5f"
            },
            "marker": {
             "line": {
              "color": "#E5ECF6",
              "width": 0.5
             },
             "pattern": {
              "fillmode": "overlay",
              "size": 10,
              "solidity": 0.2
             }
            },
            "type": "bar"
           }
          ],
          "barpolar": [
           {
            "marker": {
             "line": {
              "color": "#E5ECF6",
              "width": 0.5
             },
             "pattern": {
              "fillmode": "overlay",
              "size": 10,
              "solidity": 0.2
             }
            },
            "type": "barpolar"
           }
          ],
          "carpet": [
           {
            "aaxis": {
             "endlinecolor": "#2a3f5f",
             "gridcolor": "white",
             "linecolor": "white",
             "minorgridcolor": "white",
             "startlinecolor": "#2a3f5f"
            },
            "baxis": {
             "endlinecolor": "#2a3f5f",
             "gridcolor": "white",
             "linecolor": "white",
             "minorgridcolor": "white",
             "startlinecolor": "#2a3f5f"
            },
            "type": "carpet"
           }
          ],
          "choropleth": [
           {
            "colorbar": {
             "outlinewidth": 0,
             "ticks": ""
            },
            "type": "choropleth"
           }
          ],
          "contour": [
           {
            "colorbar": {
             "outlinewidth": 0,
             "ticks": ""
            },
            "colorscale": [
             [
              0,
              "#0d0887"
             ],
             [
              0.1111111111111111,
              "#46039f"
             ],
             [
              0.2222222222222222,
              "#7201a8"
             ],
             [
              0.3333333333333333,
              "#9c179e"
             ],
             [
              0.4444444444444444,
              "#bd3786"
             ],
             [
              0.5555555555555556,
              "#d8576b"
             ],
             [
              0.6666666666666666,
              "#ed7953"
             ],
             [
              0.7777777777777778,
              "#fb9f3a"
             ],
             [
              0.8888888888888888,
              "#fdca26"
             ],
             [
              1,
              "#f0f921"
             ]
            ],
            "type": "contour"
           }
          ],
          "contourcarpet": [
           {
            "colorbar": {
             "outlinewidth": 0,
             "ticks": ""
            },
            "type": "contourcarpet"
           }
          ],
          "heatmap": [
           {
            "colorbar": {
             "outlinewidth": 0,
             "ticks": ""
            },
            "colorscale": [
             [
              0,
              "#0d0887"
             ],
             [
              0.1111111111111111,
              "#46039f"
             ],
             [
              0.2222222222222222,
              "#7201a8"
             ],
             [
              0.3333333333333333,
              "#9c179e"
             ],
             [
              0.4444444444444444,
              "#bd3786"
             ],
             [
              0.5555555555555556,
              "#d8576b"
             ],
             [
              0.6666666666666666,
              "#ed7953"
             ],
             [
              0.7777777777777778,
              "#fb9f3a"
             ],
             [
              0.8888888888888888,
              "#fdca26"
             ],
             [
              1,
              "#f0f921"
             ]
            ],
            "type": "heatmap"
           }
          ],
          "histogram": [
           {
            "marker": {
             "pattern": {
              "fillmode": "overlay",
              "size": 10,
              "solidity": 0.2
             }
            },
            "type": "histogram"
           }
          ],
          "histogram2d": [
           {
            "colorbar": {
             "outlinewidth": 0,
             "ticks": ""
            },
            "colorscale": [
             [
              0,
              "#0d0887"
             ],
             [
              0.1111111111111111,
              "#46039f"
             ],
             [
              0.2222222222222222,
              "#7201a8"
             ],
             [
              0.3333333333333333,
              "#9c179e"
             ],
             [
              0.4444444444444444,
              "#bd3786"
             ],
             [
              0.5555555555555556,
              "#d8576b"
             ],
             [
              0.6666666666666666,
              "#ed7953"
             ],
             [
              0.7777777777777778,
              "#fb9f3a"
             ],
             [
              0.8888888888888888,
              "#fdca26"
             ],
             [
              1,
              "#f0f921"
             ]
            ],
            "type": "histogram2d"
           }
          ],
          "histogram2dcontour": [
           {
            "colorbar": {
             "outlinewidth": 0,
             "ticks": ""
            },
            "colorscale": [
             [
              0,
              "#0d0887"
             ],
             [
              0.1111111111111111,
              "#46039f"
             ],
             [
              0.2222222222222222,
              "#7201a8"
             ],
             [
              0.3333333333333333,
              "#9c179e"
             ],
             [
              0.4444444444444444,
              "#bd3786"
             ],
             [
              0.5555555555555556,
              "#d8576b"
             ],
             [
              0.6666666666666666,
              "#ed7953"
             ],
             [
              0.7777777777777778,
              "#fb9f3a"
             ],
             [
              0.8888888888888888,
              "#fdca26"
             ],
             [
              1,
              "#f0f921"
             ]
            ],
            "type": "histogram2dcontour"
           }
          ],
          "mesh3d": [
           {
            "colorbar": {
             "outlinewidth": 0,
             "ticks": ""
            },
            "type": "mesh3d"
           }
          ],
          "parcoords": [
           {
            "line": {
             "colorbar": {
              "outlinewidth": 0,
              "ticks": ""
             }
            },
            "type": "parcoords"
           }
          ],
          "pie": [
           {
            "automargin": true,
            "type": "pie"
           }
          ],
          "scatter": [
           {
            "fillpattern": {
             "fillmode": "overlay",
             "size": 10,
             "solidity": 0.2
            },
            "type": "scatter"
           }
          ],
          "scatter3d": [
           {
            "line": {
             "colorbar": {
              "outlinewidth": 0,
              "ticks": ""
             }
            },
            "marker": {
             "colorbar": {
              "outlinewidth": 0,
              "ticks": ""
             }
            },
            "type": "scatter3d"
           }
          ],
          "scattercarpet": [
           {
            "marker": {
             "colorbar": {
              "outlinewidth": 0,
              "ticks": ""
             }
            },
            "type": "scattercarpet"
           }
          ],
          "scattergeo": [
           {
            "marker": {
             "colorbar": {
              "outlinewidth": 0,
              "ticks": ""
             }
            },
            "type": "scattergeo"
           }
          ],
          "scattergl": [
           {
            "marker": {
             "colorbar": {
              "outlinewidth": 0,
              "ticks": ""
             }
            },
            "type": "scattergl"
           }
          ],
          "scattermap": [
           {
            "marker": {
             "colorbar": {
              "outlinewidth": 0,
              "ticks": ""
             }
            },
            "type": "scattermap"
           }
          ],
          "scattermapbox": [
           {
            "marker": {
             "colorbar": {
              "outlinewidth": 0,
              "ticks": ""
             }
            },
            "type": "scattermapbox"
           }
          ],
          "scatterpolar": [
           {
            "marker": {
             "colorbar": {
              "outlinewidth": 0,
              "ticks": ""
             }
            },
            "type": "scatterpolar"
           }
          ],
          "scatterpolargl": [
           {
            "marker": {
             "colorbar": {
              "outlinewidth": 0,
              "ticks": ""
             }
            },
            "type": "scatterpolargl"
           }
          ],
          "scatterternary": [
           {
            "marker": {
             "colorbar": {
              "outlinewidth": 0,
              "ticks": ""
             }
            },
            "type": "scatterternary"
           }
          ],
          "surface": [
           {
            "colorbar": {
             "outlinewidth": 0,
             "ticks": ""
            },
            "colorscale": [
             [
              0,
              "#0d0887"
             ],
             [
              0.1111111111111111,
              "#46039f"
             ],
             [
              0.2222222222222222,
              "#7201a8"
             ],
             [
              0.3333333333333333,
              "#9c179e"
             ],
             [
              0.4444444444444444,
              "#bd3786"
             ],
             [
              0.5555555555555556,
              "#d8576b"
             ],
             [
              0.6666666666666666,
              "#ed7953"
             ],
             [
              0.7777777777777778,
              "#fb9f3a"
             ],
             [
              0.8888888888888888,
              "#fdca26"
             ],
             [
              1,
              "#f0f921"
             ]
            ],
            "type": "surface"
           }
          ],
          "table": [
           {
            "cells": {
             "fill": {
              "color": "#EBF0F8"
             },
             "line": {
              "color": "white"
             }
            },
            "header": {
             "fill": {
              "color": "#C8D4E3"
             },
             "line": {
              "color": "white"
             }
            },
            "type": "table"
           }
          ]
         },
         "layout": {
          "annotationdefaults": {
           "arrowcolor": "#2a3f5f",
           "arrowhead": 0,
           "arrowwidth": 1
          },
          "autotypenumbers": "strict",
          "coloraxis": {
           "colorbar": {
            "outlinewidth": 0,
            "ticks": ""
           }
          },
          "colorscale": {
           "diverging": [
            [
             0,
             "#8e0152"
            ],
            [
             0.1,
             "#c51b7d"
            ],
            [
             0.2,
             "#de77ae"
            ],
            [
             0.3,
             "#f1b6da"
            ],
            [
             0.4,
             "#fde0ef"
            ],
            [
             0.5,
             "#f7f7f7"
            ],
            [
             0.6,
             "#e6f5d0"
            ],
            [
             0.7,
             "#b8e186"
            ],
            [
             0.8,
             "#7fbc41"
            ],
            [
             0.9,
             "#4d9221"
            ],
            [
             1,
             "#276419"
            ]
           ],
           "sequential": [
            [
             0,
             "#0d0887"
            ],
            [
             0.1111111111111111,
             "#46039f"
            ],
            [
             0.2222222222222222,
             "#7201a8"
            ],
            [
             0.3333333333333333,
             "#9c179e"
            ],
            [
             0.4444444444444444,
             "#bd3786"
            ],
            [
             0.5555555555555556,
             "#d8576b"
            ],
            [
             0.6666666666666666,
             "#ed7953"
            ],
            [
             0.7777777777777778,
             "#fb9f3a"
            ],
            [
             0.8888888888888888,
             "#fdca26"
            ],
            [
             1,
             "#f0f921"
            ]
           ],
           "sequentialminus": [
            [
             0,
             "#0d0887"
            ],
            [
             0.1111111111111111,
             "#46039f"
            ],
            [
             0.2222222222222222,
             "#7201a8"
            ],
            [
             0.3333333333333333,
             "#9c179e"
            ],
            [
             0.4444444444444444,
             "#bd3786"
            ],
            [
             0.5555555555555556,
             "#d8576b"
            ],
            [
             0.6666666666666666,
             "#ed7953"
            ],
            [
             0.7777777777777778,
             "#fb9f3a"
            ],
            [
             0.8888888888888888,
             "#fdca26"
            ],
            [
             1,
             "#f0f921"
            ]
           ]
          },
          "colorway": [
           "#636efa",
           "#EF553B",
           "#00cc96",
           "#ab63fa",
           "#FFA15A",
           "#19d3f3",
           "#FF6692",
           "#B6E880",
           "#FF97FF",
           "#FECB52"
          ],
          "font": {
           "color": "#2a3f5f"
          },
          "geo": {
           "bgcolor": "white",
           "lakecolor": "white",
           "landcolor": "#E5ECF6",
           "showlakes": true,
           "showland": true,
           "subunitcolor": "white"
          },
          "hoverlabel": {
           "align": "left"
          },
          "hovermode": "closest",
          "mapbox": {
           "style": "light"
          },
          "paper_bgcolor": "white",
          "plot_bgcolor": "#E5ECF6",
          "polar": {
           "angularaxis": {
            "gridcolor": "white",
            "linecolor": "white",
            "ticks": ""
           },
           "bgcolor": "#E5ECF6",
           "radialaxis": {
            "gridcolor": "white",
            "linecolor": "white",
            "ticks": ""
           }
          },
          "scene": {
           "xaxis": {
            "backgroundcolor": "#E5ECF6",
            "gridcolor": "white",
            "gridwidth": 2,
            "linecolor": "white",
            "showbackground": true,
            "ticks": "",
            "zerolinecolor": "white"
           },
           "yaxis": {
            "backgroundcolor": "#E5ECF6",
            "gridcolor": "white",
            "gridwidth": 2,
            "linecolor": "white",
            "showbackground": true,
            "ticks": "",
            "zerolinecolor": "white"
           },
           "zaxis": {
            "backgroundcolor": "#E5ECF6",
            "gridcolor": "white",
            "gridwidth": 2,
            "linecolor": "white",
            "showbackground": true,
            "ticks": "",
            "zerolinecolor": "white"
           }
          },
          "shapedefaults": {
           "line": {
            "color": "#2a3f5f"
           }
          },
          "ternary": {
           "aaxis": {
            "gridcolor": "white",
            "linecolor": "white",
            "ticks": ""
           },
           "baxis": {
            "gridcolor": "white",
            "linecolor": "white",
            "ticks": ""
           },
           "bgcolor": "#E5ECF6",
           "caxis": {
            "gridcolor": "white",
            "linecolor": "white",
            "ticks": ""
           }
          },
          "title": {
           "x": 0.05
          },
          "xaxis": {
           "automargin": true,
           "gridcolor": "white",
           "linecolor": "white",
           "ticks": "",
           "title": {
            "standoff": 15
           },
           "zerolinecolor": "white",
           "zerolinewidth": 2
          },
          "yaxis": {
           "automargin": true,
           "gridcolor": "white",
           "linecolor": "white",
           "ticks": "",
           "title": {
            "standoff": 15
           },
           "zerolinecolor": "white",
           "zerolinewidth": 2
          }
         }
        },
        "title": {
         "text": "Relação entre Churn e Pessoas Com Dependentes"
        },
        "xaxis": {
         "anchor": "y",
         "domain": [
          0,
          1
         ],
         "title": {
          "text": "Churn"
         }
        },
        "yaxis": {
         "anchor": "x",
         "domain": [
          0,
          1
         ],
         "title": {
          "text": "Porcentagem"
         }
        }
       }
      }
     },
     "metadata": {},
     "output_type": "display_data"
    },
    {
     "name": "stdout",
     "output_type": "stream",
     "text": [
      "\n",
      "Serviço de Segurança\n",
      "\n"
     ]
    },
    {
     "data": {
      "application/vnd.plotly.v1+json": {
       "config": {
        "plotlyServerURL": "https://plot.ly"
       },
       "data": [
        {
         "hovertemplate": "Churn=%{x}<br>Porcentagem=%{y}<br>SecurityService=%{marker.color}<extra></extra>",
         "legendgroup": "",
         "marker": {
          "color": {
           "bdata": "AAEAAQ==",
           "dtype": "i1"
          },
          "coloraxis": "coloraxis",
          "pattern": {
           "shape": ""
          }
         },
         "name": "",
         "orientation": "v",
         "showlegend": false,
         "textposition": "auto",
         "type": "bar",
         "x": {
          "bdata": "AAABAQ==",
          "dtype": "i1"
         },
         "xaxis": "x",
         "y": {
          "bdata": "XCyRrNfBUEBJp92mUHxAQGh/0rTRIlVAvwRsWXLpLkA=",
          "dtype": "f8"
         },
         "yaxis": "y"
        }
       ],
       "layout": {
        "barmode": "stack",
        "coloraxis": {
         "colorbar": {
          "title": {
           "text": "SecurityService"
          }
         },
         "colorscale": [
          [
           0,
           "#0d0887"
          ],
          [
           0.1111111111111111,
           "#46039f"
          ],
          [
           0.2222222222222222,
           "#7201a8"
          ],
          [
           0.3333333333333333,
           "#9c179e"
          ],
          [
           0.4444444444444444,
           "#bd3786"
          ],
          [
           0.5555555555555556,
           "#d8576b"
          ],
          [
           0.6666666666666666,
           "#ed7953"
          ],
          [
           0.7777777777777778,
           "#fb9f3a"
          ],
          [
           0.8888888888888888,
           "#fdca26"
          ],
          [
           1,
           "#f0f921"
          ]
         ]
        },
        "legend": {
         "tracegroupgap": 0
        },
        "margin": {
         "t": 60
        },
        "template": {
         "data": {
          "bar": [
           {
            "error_x": {
             "color": "#2a3f5f"
            },
            "error_y": {
             "color": "#2a3f5f"
            },
            "marker": {
             "line": {
              "color": "#E5ECF6",
              "width": 0.5
             },
             "pattern": {
              "fillmode": "overlay",
              "size": 10,
              "solidity": 0.2
             }
            },
            "type": "bar"
           }
          ],
          "barpolar": [
           {
            "marker": {
             "line": {
              "color": "#E5ECF6",
              "width": 0.5
             },
             "pattern": {
              "fillmode": "overlay",
              "size": 10,
              "solidity": 0.2
             }
            },
            "type": "barpolar"
           }
          ],
          "carpet": [
           {
            "aaxis": {
             "endlinecolor": "#2a3f5f",
             "gridcolor": "white",
             "linecolor": "white",
             "minorgridcolor": "white",
             "startlinecolor": "#2a3f5f"
            },
            "baxis": {
             "endlinecolor": "#2a3f5f",
             "gridcolor": "white",
             "linecolor": "white",
             "minorgridcolor": "white",
             "startlinecolor": "#2a3f5f"
            },
            "type": "carpet"
           }
          ],
          "choropleth": [
           {
            "colorbar": {
             "outlinewidth": 0,
             "ticks": ""
            },
            "type": "choropleth"
           }
          ],
          "contour": [
           {
            "colorbar": {
             "outlinewidth": 0,
             "ticks": ""
            },
            "colorscale": [
             [
              0,
              "#0d0887"
             ],
             [
              0.1111111111111111,
              "#46039f"
             ],
             [
              0.2222222222222222,
              "#7201a8"
             ],
             [
              0.3333333333333333,
              "#9c179e"
             ],
             [
              0.4444444444444444,
              "#bd3786"
             ],
             [
              0.5555555555555556,
              "#d8576b"
             ],
             [
              0.6666666666666666,
              "#ed7953"
             ],
             [
              0.7777777777777778,
              "#fb9f3a"
             ],
             [
              0.8888888888888888,
              "#fdca26"
             ],
             [
              1,
              "#f0f921"
             ]
            ],
            "type": "contour"
           }
          ],
          "contourcarpet": [
           {
            "colorbar": {
             "outlinewidth": 0,
             "ticks": ""
            },
            "type": "contourcarpet"
           }
          ],
          "heatmap": [
           {
            "colorbar": {
             "outlinewidth": 0,
             "ticks": ""
            },
            "colorscale": [
             [
              0,
              "#0d0887"
             ],
             [
              0.1111111111111111,
              "#46039f"
             ],
             [
              0.2222222222222222,
              "#7201a8"
             ],
             [
              0.3333333333333333,
              "#9c179e"
             ],
             [
              0.4444444444444444,
              "#bd3786"
             ],
             [
              0.5555555555555556,
              "#d8576b"
             ],
             [
              0.6666666666666666,
              "#ed7953"
             ],
             [
              0.7777777777777778,
              "#fb9f3a"
             ],
             [
              0.8888888888888888,
              "#fdca26"
             ],
             [
              1,
              "#f0f921"
             ]
            ],
            "type": "heatmap"
           }
          ],
          "histogram": [
           {
            "marker": {
             "pattern": {
              "fillmode": "overlay",
              "size": 10,
              "solidity": 0.2
             }
            },
            "type": "histogram"
           }
          ],
          "histogram2d": [
           {
            "colorbar": {
             "outlinewidth": 0,
             "ticks": ""
            },
            "colorscale": [
             [
              0,
              "#0d0887"
             ],
             [
              0.1111111111111111,
              "#46039f"
             ],
             [
              0.2222222222222222,
              "#7201a8"
             ],
             [
              0.3333333333333333,
              "#9c179e"
             ],
             [
              0.4444444444444444,
              "#bd3786"
             ],
             [
              0.5555555555555556,
              "#d8576b"
             ],
             [
              0.6666666666666666,
              "#ed7953"
             ],
             [
              0.7777777777777778,
              "#fb9f3a"
             ],
             [
              0.8888888888888888,
              "#fdca26"
             ],
             [
              1,
              "#f0f921"
             ]
            ],
            "type": "histogram2d"
           }
          ],
          "histogram2dcontour": [
           {
            "colorbar": {
             "outlinewidth": 0,
             "ticks": ""
            },
            "colorscale": [
             [
              0,
              "#0d0887"
             ],
             [
              0.1111111111111111,
              "#46039f"
             ],
             [
              0.2222222222222222,
              "#7201a8"
             ],
             [
              0.3333333333333333,
              "#9c179e"
             ],
             [
              0.4444444444444444,
              "#bd3786"
             ],
             [
              0.5555555555555556,
              "#d8576b"
             ],
             [
              0.6666666666666666,
              "#ed7953"
             ],
             [
              0.7777777777777778,
              "#fb9f3a"
             ],
             [
              0.8888888888888888,
              "#fdca26"
             ],
             [
              1,
              "#f0f921"
             ]
            ],
            "type": "histogram2dcontour"
           }
          ],
          "mesh3d": [
           {
            "colorbar": {
             "outlinewidth": 0,
             "ticks": ""
            },
            "type": "mesh3d"
           }
          ],
          "parcoords": [
           {
            "line": {
             "colorbar": {
              "outlinewidth": 0,
              "ticks": ""
             }
            },
            "type": "parcoords"
           }
          ],
          "pie": [
           {
            "automargin": true,
            "type": "pie"
           }
          ],
          "scatter": [
           {
            "fillpattern": {
             "fillmode": "overlay",
             "size": 10,
             "solidity": 0.2
            },
            "type": "scatter"
           }
          ],
          "scatter3d": [
           {
            "line": {
             "colorbar": {
              "outlinewidth": 0,
              "ticks": ""
             }
            },
            "marker": {
             "colorbar": {
              "outlinewidth": 0,
              "ticks": ""
             }
            },
            "type": "scatter3d"
           }
          ],
          "scattercarpet": [
           {
            "marker": {
             "colorbar": {
              "outlinewidth": 0,
              "ticks": ""
             }
            },
            "type": "scattercarpet"
           }
          ],
          "scattergeo": [
           {
            "marker": {
             "colorbar": {
              "outlinewidth": 0,
              "ticks": ""
             }
            },
            "type": "scattergeo"
           }
          ],
          "scattergl": [
           {
            "marker": {
             "colorbar": {
              "outlinewidth": 0,
              "ticks": ""
             }
            },
            "type": "scattergl"
           }
          ],
          "scattermap": [
           {
            "marker": {
             "colorbar": {
              "outlinewidth": 0,
              "ticks": ""
             }
            },
            "type": "scattermap"
           }
          ],
          "scattermapbox": [
           {
            "marker": {
             "colorbar": {
              "outlinewidth": 0,
              "ticks": ""
             }
            },
            "type": "scattermapbox"
           }
          ],
          "scatterpolar": [
           {
            "marker": {
             "colorbar": {
              "outlinewidth": 0,
              "ticks": ""
             }
            },
            "type": "scatterpolar"
           }
          ],
          "scatterpolargl": [
           {
            "marker": {
             "colorbar": {
              "outlinewidth": 0,
              "ticks": ""
             }
            },
            "type": "scatterpolargl"
           }
          ],
          "scatterternary": [
           {
            "marker": {
             "colorbar": {
              "outlinewidth": 0,
              "ticks": ""
             }
            },
            "type": "scatterternary"
           }
          ],
          "surface": [
           {
            "colorbar": {
             "outlinewidth": 0,
             "ticks": ""
            },
            "colorscale": [
             [
              0,
              "#0d0887"
             ],
             [
              0.1111111111111111,
              "#46039f"
             ],
             [
              0.2222222222222222,
              "#7201a8"
             ],
             [
              0.3333333333333333,
              "#9c179e"
             ],
             [
              0.4444444444444444,
              "#bd3786"
             ],
             [
              0.5555555555555556,
              "#d8576b"
             ],
             [
              0.6666666666666666,
              "#ed7953"
             ],
             [
              0.7777777777777778,
              "#fb9f3a"
             ],
             [
              0.8888888888888888,
              "#fdca26"
             ],
             [
              1,
              "#f0f921"
             ]
            ],
            "type": "surface"
           }
          ],
          "table": [
           {
            "cells": {
             "fill": {
              "color": "#EBF0F8"
             },
             "line": {
              "color": "white"
             }
            },
            "header": {
             "fill": {
              "color": "#C8D4E3"
             },
             "line": {
              "color": "white"
             }
            },
            "type": "table"
           }
          ]
         },
         "layout": {
          "annotationdefaults": {
           "arrowcolor": "#2a3f5f",
           "arrowhead": 0,
           "arrowwidth": 1
          },
          "autotypenumbers": "strict",
          "coloraxis": {
           "colorbar": {
            "outlinewidth": 0,
            "ticks": ""
           }
          },
          "colorscale": {
           "diverging": [
            [
             0,
             "#8e0152"
            ],
            [
             0.1,
             "#c51b7d"
            ],
            [
             0.2,
             "#de77ae"
            ],
            [
             0.3,
             "#f1b6da"
            ],
            [
             0.4,
             "#fde0ef"
            ],
            [
             0.5,
             "#f7f7f7"
            ],
            [
             0.6,
             "#e6f5d0"
            ],
            [
             0.7,
             "#b8e186"
            ],
            [
             0.8,
             "#7fbc41"
            ],
            [
             0.9,
             "#4d9221"
            ],
            [
             1,
             "#276419"
            ]
           ],
           "sequential": [
            [
             0,
             "#0d0887"
            ],
            [
             0.1111111111111111,
             "#46039f"
            ],
            [
             0.2222222222222222,
             "#7201a8"
            ],
            [
             0.3333333333333333,
             "#9c179e"
            ],
            [
             0.4444444444444444,
             "#bd3786"
            ],
            [
             0.5555555555555556,
             "#d8576b"
            ],
            [
             0.6666666666666666,
             "#ed7953"
            ],
            [
             0.7777777777777778,
             "#fb9f3a"
            ],
            [
             0.8888888888888888,
             "#fdca26"
            ],
            [
             1,
             "#f0f921"
            ]
           ],
           "sequentialminus": [
            [
             0,
             "#0d0887"
            ],
            [
             0.1111111111111111,
             "#46039f"
            ],
            [
             0.2222222222222222,
             "#7201a8"
            ],
            [
             0.3333333333333333,
             "#9c179e"
            ],
            [
             0.4444444444444444,
             "#bd3786"
            ],
            [
             0.5555555555555556,
             "#d8576b"
            ],
            [
             0.6666666666666666,
             "#ed7953"
            ],
            [
             0.7777777777777778,
             "#fb9f3a"
            ],
            [
             0.8888888888888888,
             "#fdca26"
            ],
            [
             1,
             "#f0f921"
            ]
           ]
          },
          "colorway": [
           "#636efa",
           "#EF553B",
           "#00cc96",
           "#ab63fa",
           "#FFA15A",
           "#19d3f3",
           "#FF6692",
           "#B6E880",
           "#FF97FF",
           "#FECB52"
          ],
          "font": {
           "color": "#2a3f5f"
          },
          "geo": {
           "bgcolor": "white",
           "lakecolor": "white",
           "landcolor": "#E5ECF6",
           "showlakes": true,
           "showland": true,
           "subunitcolor": "white"
          },
          "hoverlabel": {
           "align": "left"
          },
          "hovermode": "closest",
          "mapbox": {
           "style": "light"
          },
          "paper_bgcolor": "white",
          "plot_bgcolor": "#E5ECF6",
          "polar": {
           "angularaxis": {
            "gridcolor": "white",
            "linecolor": "white",
            "ticks": ""
           },
           "bgcolor": "#E5ECF6",
           "radialaxis": {
            "gridcolor": "white",
            "linecolor": "white",
            "ticks": ""
           }
          },
          "scene": {
           "xaxis": {
            "backgroundcolor": "#E5ECF6",
            "gridcolor": "white",
            "gridwidth": 2,
            "linecolor": "white",
            "showbackground": true,
            "ticks": "",
            "zerolinecolor": "white"
           },
           "yaxis": {
            "backgroundcolor": "#E5ECF6",
            "gridcolor": "white",
            "gridwidth": 2,
            "linecolor": "white",
            "showbackground": true,
            "ticks": "",
            "zerolinecolor": "white"
           },
           "zaxis": {
            "backgroundcolor": "#E5ECF6",
            "gridcolor": "white",
            "gridwidth": 2,
            "linecolor": "white",
            "showbackground": true,
            "ticks": "",
            "zerolinecolor": "white"
           }
          },
          "shapedefaults": {
           "line": {
            "color": "#2a3f5f"
           }
          },
          "ternary": {
           "aaxis": {
            "gridcolor": "white",
            "linecolor": "white",
            "ticks": ""
           },
           "baxis": {
            "gridcolor": "white",
            "linecolor": "white",
            "ticks": ""
           },
           "bgcolor": "#E5ECF6",
           "caxis": {
            "gridcolor": "white",
            "linecolor": "white",
            "ticks": ""
           }
          },
          "title": {
           "x": 0.05
          },
          "xaxis": {
           "automargin": true,
           "gridcolor": "white",
           "linecolor": "white",
           "ticks": "",
           "title": {
            "standoff": 15
           },
           "zerolinecolor": "white",
           "zerolinewidth": 2
          },
          "yaxis": {
           "automargin": true,
           "gridcolor": "white",
           "linecolor": "white",
           "ticks": "",
           "title": {
            "standoff": 15
           },
           "zerolinecolor": "white",
           "zerolinewidth": 2
          }
         }
        },
        "title": {
         "text": "Relação entre Churn e Contratação de Serviço de Segurança"
        },
        "xaxis": {
         "anchor": "y",
         "domain": [
          0,
          1
         ],
         "title": {
          "text": "Churn"
         }
        },
        "yaxis": {
         "anchor": "x",
         "domain": [
          0,
          1
         ],
         "title": {
          "text": "Porcentagem"
         }
        }
       }
      }
     },
     "metadata": {},
     "output_type": "display_data"
    },
    {
     "name": "stdout",
     "output_type": "stream",
     "text": [
      "\n",
      "Streaming de TV\n",
      "\n"
     ]
    },
    {
     "data": {
      "application/vnd.plotly.v1+json": {
       "config": {
        "plotlyServerURL": "https://plot.ly"
       },
       "data": [
        {
         "hovertemplate": "Churn=%{x}<br>Porcentagem=%{y}<br>StreamingTV=%{marker.color}<extra></extra>",
         "legendgroup": "",
         "marker": {
          "color": {
           "bdata": "AAEAAQ==",
           "dtype": "i1"
          },
          "coloraxis": "coloraxis",
          "pattern": {
           "shape": ""
          }
         },
         "name": "",
         "orientation": "v",
         "showlegend": false,
         "textposition": "auto",
         "type": "bar",
         "x": {
          "bdata": "AAABAQ==",
          "dtype": "i1"
         },
         "xaxis": "x",
         "y": {
          "bdata": "TA8yGPKjT0C18M3nDVxCQJYll+5zDUxAatpoEYzyRUA=",
          "dtype": "f8"
         },
         "yaxis": "y"
        }
       ],
       "layout": {
        "barmode": "stack",
        "coloraxis": {
         "colorbar": {
          "title": {
           "text": "StreamingTV"
          }
         },
         "colorscale": [
          [
           0,
           "#0d0887"
          ],
          [
           0.1111111111111111,
           "#46039f"
          ],
          [
           0.2222222222222222,
           "#7201a8"
          ],
          [
           0.3333333333333333,
           "#9c179e"
          ],
          [
           0.4444444444444444,
           "#bd3786"
          ],
          [
           0.5555555555555556,
           "#d8576b"
          ],
          [
           0.6666666666666666,
           "#ed7953"
          ],
          [
           0.7777777777777778,
           "#fb9f3a"
          ],
          [
           0.8888888888888888,
           "#fdca26"
          ],
          [
           1,
           "#f0f921"
          ]
         ]
        },
        "legend": {
         "tracegroupgap": 0
        },
        "margin": {
         "t": 60
        },
        "template": {
         "data": {
          "bar": [
           {
            "error_x": {
             "color": "#2a3f5f"
            },
            "error_y": {
             "color": "#2a3f5f"
            },
            "marker": {
             "line": {
              "color": "#E5ECF6",
              "width": 0.5
             },
             "pattern": {
              "fillmode": "overlay",
              "size": 10,
              "solidity": 0.2
             }
            },
            "type": "bar"
           }
          ],
          "barpolar": [
           {
            "marker": {
             "line": {
              "color": "#E5ECF6",
              "width": 0.5
             },
             "pattern": {
              "fillmode": "overlay",
              "size": 10,
              "solidity": 0.2
             }
            },
            "type": "barpolar"
           }
          ],
          "carpet": [
           {
            "aaxis": {
             "endlinecolor": "#2a3f5f",
             "gridcolor": "white",
             "linecolor": "white",
             "minorgridcolor": "white",
             "startlinecolor": "#2a3f5f"
            },
            "baxis": {
             "endlinecolor": "#2a3f5f",
             "gridcolor": "white",
             "linecolor": "white",
             "minorgridcolor": "white",
             "startlinecolor": "#2a3f5f"
            },
            "type": "carpet"
           }
          ],
          "choropleth": [
           {
            "colorbar": {
             "outlinewidth": 0,
             "ticks": ""
            },
            "type": "choropleth"
           }
          ],
          "contour": [
           {
            "colorbar": {
             "outlinewidth": 0,
             "ticks": ""
            },
            "colorscale": [
             [
              0,
              "#0d0887"
             ],
             [
              0.1111111111111111,
              "#46039f"
             ],
             [
              0.2222222222222222,
              "#7201a8"
             ],
             [
              0.3333333333333333,
              "#9c179e"
             ],
             [
              0.4444444444444444,
              "#bd3786"
             ],
             [
              0.5555555555555556,
              "#d8576b"
             ],
             [
              0.6666666666666666,
              "#ed7953"
             ],
             [
              0.7777777777777778,
              "#fb9f3a"
             ],
             [
              0.8888888888888888,
              "#fdca26"
             ],
             [
              1,
              "#f0f921"
             ]
            ],
            "type": "contour"
           }
          ],
          "contourcarpet": [
           {
            "colorbar": {
             "outlinewidth": 0,
             "ticks": ""
            },
            "type": "contourcarpet"
           }
          ],
          "heatmap": [
           {
            "colorbar": {
             "outlinewidth": 0,
             "ticks": ""
            },
            "colorscale": [
             [
              0,
              "#0d0887"
             ],
             [
              0.1111111111111111,
              "#46039f"
             ],
             [
              0.2222222222222222,
              "#7201a8"
             ],
             [
              0.3333333333333333,
              "#9c179e"
             ],
             [
              0.4444444444444444,
              "#bd3786"
             ],
             [
              0.5555555555555556,
              "#d8576b"
             ],
             [
              0.6666666666666666,
              "#ed7953"
             ],
             [
              0.7777777777777778,
              "#fb9f3a"
             ],
             [
              0.8888888888888888,
              "#fdca26"
             ],
             [
              1,
              "#f0f921"
             ]
            ],
            "type": "heatmap"
           }
          ],
          "histogram": [
           {
            "marker": {
             "pattern": {
              "fillmode": "overlay",
              "size": 10,
              "solidity": 0.2
             }
            },
            "type": "histogram"
           }
          ],
          "histogram2d": [
           {
            "colorbar": {
             "outlinewidth": 0,
             "ticks": ""
            },
            "colorscale": [
             [
              0,
              "#0d0887"
             ],
             [
              0.1111111111111111,
              "#46039f"
             ],
             [
              0.2222222222222222,
              "#7201a8"
             ],
             [
              0.3333333333333333,
              "#9c179e"
             ],
             [
              0.4444444444444444,
              "#bd3786"
             ],
             [
              0.5555555555555556,
              "#d8576b"
             ],
             [
              0.6666666666666666,
              "#ed7953"
             ],
             [
              0.7777777777777778,
              "#fb9f3a"
             ],
             [
              0.8888888888888888,
              "#fdca26"
             ],
             [
              1,
              "#f0f921"
             ]
            ],
            "type": "histogram2d"
           }
          ],
          "histogram2dcontour": [
           {
            "colorbar": {
             "outlinewidth": 0,
             "ticks": ""
            },
            "colorscale": [
             [
              0,
              "#0d0887"
             ],
             [
              0.1111111111111111,
              "#46039f"
             ],
             [
              0.2222222222222222,
              "#7201a8"
             ],
             [
              0.3333333333333333,
              "#9c179e"
             ],
             [
              0.4444444444444444,
              "#bd3786"
             ],
             [
              0.5555555555555556,
              "#d8576b"
             ],
             [
              0.6666666666666666,
              "#ed7953"
             ],
             [
              0.7777777777777778,
              "#fb9f3a"
             ],
             [
              0.8888888888888888,
              "#fdca26"
             ],
             [
              1,
              "#f0f921"
             ]
            ],
            "type": "histogram2dcontour"
           }
          ],
          "mesh3d": [
           {
            "colorbar": {
             "outlinewidth": 0,
             "ticks": ""
            },
            "type": "mesh3d"
           }
          ],
          "parcoords": [
           {
            "line": {
             "colorbar": {
              "outlinewidth": 0,
              "ticks": ""
             }
            },
            "type": "parcoords"
           }
          ],
          "pie": [
           {
            "automargin": true,
            "type": "pie"
           }
          ],
          "scatter": [
           {
            "fillpattern": {
             "fillmode": "overlay",
             "size": 10,
             "solidity": 0.2
            },
            "type": "scatter"
           }
          ],
          "scatter3d": [
           {
            "line": {
             "colorbar": {
              "outlinewidth": 0,
              "ticks": ""
             }
            },
            "marker": {
             "colorbar": {
              "outlinewidth": 0,
              "ticks": ""
             }
            },
            "type": "scatter3d"
           }
          ],
          "scattercarpet": [
           {
            "marker": {
             "colorbar": {
              "outlinewidth": 0,
              "ticks": ""
             }
            },
            "type": "scattercarpet"
           }
          ],
          "scattergeo": [
           {
            "marker": {
             "colorbar": {
              "outlinewidth": 0,
              "ticks": ""
             }
            },
            "type": "scattergeo"
           }
          ],
          "scattergl": [
           {
            "marker": {
             "colorbar": {
              "outlinewidth": 0,
              "ticks": ""
             }
            },
            "type": "scattergl"
           }
          ],
          "scattermap": [
           {
            "marker": {
             "colorbar": {
              "outlinewidth": 0,
              "ticks": ""
             }
            },
            "type": "scattermap"
           }
          ],
          "scattermapbox": [
           {
            "marker": {
             "colorbar": {
              "outlinewidth": 0,
              "ticks": ""
             }
            },
            "type": "scattermapbox"
           }
          ],
          "scatterpolar": [
           {
            "marker": {
             "colorbar": {
              "outlinewidth": 0,
              "ticks": ""
             }
            },
            "type": "scatterpolar"
           }
          ],
          "scatterpolargl": [
           {
            "marker": {
             "colorbar": {
              "outlinewidth": 0,
              "ticks": ""
             }
            },
            "type": "scatterpolargl"
           }
          ],
          "scatterternary": [
           {
            "marker": {
             "colorbar": {
              "outlinewidth": 0,
              "ticks": ""
             }
            },
            "type": "scatterternary"
           }
          ],
          "surface": [
           {
            "colorbar": {
             "outlinewidth": 0,
             "ticks": ""
            },
            "colorscale": [
             [
              0,
              "#0d0887"
             ],
             [
              0.1111111111111111,
              "#46039f"
             ],
             [
              0.2222222222222222,
              "#7201a8"
             ],
             [
              0.3333333333333333,
              "#9c179e"
             ],
             [
              0.4444444444444444,
              "#bd3786"
             ],
             [
              0.5555555555555556,
              "#d8576b"
             ],
             [
              0.6666666666666666,
              "#ed7953"
             ],
             [
              0.7777777777777778,
              "#fb9f3a"
             ],
             [
              0.8888888888888888,
              "#fdca26"
             ],
             [
              1,
              "#f0f921"
             ]
            ],
            "type": "surface"
           }
          ],
          "table": [
           {
            "cells": {
             "fill": {
              "color": "#EBF0F8"
             },
             "line": {
              "color": "white"
             }
            },
            "header": {
             "fill": {
              "color": "#C8D4E3"
             },
             "line": {
              "color": "white"
             }
            },
            "type": "table"
           }
          ]
         },
         "layout": {
          "annotationdefaults": {
           "arrowcolor": "#2a3f5f",
           "arrowhead": 0,
           "arrowwidth": 1
          },
          "autotypenumbers": "strict",
          "coloraxis": {
           "colorbar": {
            "outlinewidth": 0,
            "ticks": ""
           }
          },
          "colorscale": {
           "diverging": [
            [
             0,
             "#8e0152"
            ],
            [
             0.1,
             "#c51b7d"
            ],
            [
             0.2,
             "#de77ae"
            ],
            [
             0.3,
             "#f1b6da"
            ],
            [
             0.4,
             "#fde0ef"
            ],
            [
             0.5,
             "#f7f7f7"
            ],
            [
             0.6,
             "#e6f5d0"
            ],
            [
             0.7,
             "#b8e186"
            ],
            [
             0.8,
             "#7fbc41"
            ],
            [
             0.9,
             "#4d9221"
            ],
            [
             1,
             "#276419"
            ]
           ],
           "sequential": [
            [
             0,
             "#0d0887"
            ],
            [
             0.1111111111111111,
             "#46039f"
            ],
            [
             0.2222222222222222,
             "#7201a8"
            ],
            [
             0.3333333333333333,
             "#9c179e"
            ],
            [
             0.4444444444444444,
             "#bd3786"
            ],
            [
             0.5555555555555556,
             "#d8576b"
            ],
            [
             0.6666666666666666,
             "#ed7953"
            ],
            [
             0.7777777777777778,
             "#fb9f3a"
            ],
            [
             0.8888888888888888,
             "#fdca26"
            ],
            [
             1,
             "#f0f921"
            ]
           ],
           "sequentialminus": [
            [
             0,
             "#0d0887"
            ],
            [
             0.1111111111111111,
             "#46039f"
            ],
            [
             0.2222222222222222,
             "#7201a8"
            ],
            [
             0.3333333333333333,
             "#9c179e"
            ],
            [
             0.4444444444444444,
             "#bd3786"
            ],
            [
             0.5555555555555556,
             "#d8576b"
            ],
            [
             0.6666666666666666,
             "#ed7953"
            ],
            [
             0.7777777777777778,
             "#fb9f3a"
            ],
            [
             0.8888888888888888,
             "#fdca26"
            ],
            [
             1,
             "#f0f921"
            ]
           ]
          },
          "colorway": [
           "#636efa",
           "#EF553B",
           "#00cc96",
           "#ab63fa",
           "#FFA15A",
           "#19d3f3",
           "#FF6692",
           "#B6E880",
           "#FF97FF",
           "#FECB52"
          ],
          "font": {
           "color": "#2a3f5f"
          },
          "geo": {
           "bgcolor": "white",
           "lakecolor": "white",
           "landcolor": "#E5ECF6",
           "showlakes": true,
           "showland": true,
           "subunitcolor": "white"
          },
          "hoverlabel": {
           "align": "left"
          },
          "hovermode": "closest",
          "mapbox": {
           "style": "light"
          },
          "paper_bgcolor": "white",
          "plot_bgcolor": "#E5ECF6",
          "polar": {
           "angularaxis": {
            "gridcolor": "white",
            "linecolor": "white",
            "ticks": ""
           },
           "bgcolor": "#E5ECF6",
           "radialaxis": {
            "gridcolor": "white",
            "linecolor": "white",
            "ticks": ""
           }
          },
          "scene": {
           "xaxis": {
            "backgroundcolor": "#E5ECF6",
            "gridcolor": "white",
            "gridwidth": 2,
            "linecolor": "white",
            "showbackground": true,
            "ticks": "",
            "zerolinecolor": "white"
           },
           "yaxis": {
            "backgroundcolor": "#E5ECF6",
            "gridcolor": "white",
            "gridwidth": 2,
            "linecolor": "white",
            "showbackground": true,
            "ticks": "",
            "zerolinecolor": "white"
           },
           "zaxis": {
            "backgroundcolor": "#E5ECF6",
            "gridcolor": "white",
            "gridwidth": 2,
            "linecolor": "white",
            "showbackground": true,
            "ticks": "",
            "zerolinecolor": "white"
           }
          },
          "shapedefaults": {
           "line": {
            "color": "#2a3f5f"
           }
          },
          "ternary": {
           "aaxis": {
            "gridcolor": "white",
            "linecolor": "white",
            "ticks": ""
           },
           "baxis": {
            "gridcolor": "white",
            "linecolor": "white",
            "ticks": ""
           },
           "bgcolor": "#E5ECF6",
           "caxis": {
            "gridcolor": "white",
            "linecolor": "white",
            "ticks": ""
           }
          },
          "title": {
           "x": 0.05
          },
          "xaxis": {
           "automargin": true,
           "gridcolor": "white",
           "linecolor": "white",
           "ticks": "",
           "title": {
            "standoff": 15
           },
           "zerolinecolor": "white",
           "zerolinewidth": 2
          },
          "yaxis": {
           "automargin": true,
           "gridcolor": "white",
           "linecolor": "white",
           "ticks": "",
           "title": {
            "standoff": 15
           },
           "zerolinecolor": "white",
           "zerolinewidth": 2
          }
         }
        },
        "title": {
         "text": "Relação entre Churn e Contratação de Streaming"
        },
        "xaxis": {
         "anchor": "y",
         "domain": [
          0,
          1
         ],
         "title": {
          "text": "Churn"
         }
        },
        "yaxis": {
         "anchor": "x",
         "domain": [
          0,
          1
         ],
         "title": {
          "text": "Porcentagem"
         }
        }
       }
      }
     },
     "metadata": {},
     "output_type": "display_data"
    }
   ],
   "source": [
    "print('Genero\\n')\n",
    "\n",
    "df_grouped = df.groupby(['Churn', 'Gender']).size().reset_index(name='count')\n",
    "total_por_churn = df_grouped.groupby('Churn')['count'].transform('sum')\n",
    "df_grouped['percent'] = (df_grouped['count'] / total_por_churn) * 100\n",
    "\n",
    "\n",
    "fig = px.bar(df_grouped, x='Churn', y='percent', color='Gender', barmode='stack',\n",
    "             labels={'Churn': 'Churn', 'percent': 'Porcentagem'})\n",
    "\n",
    "fig.update_layout(title='Relação entre Churn e Genero',\n",
    "                  yaxis_title='Porcentagem')\n",
    "fig.show()\n",
    "\n",
    "print('\\nCasado\\n')\n",
    "\n",
    "df_grouped = df.groupby(['Churn', 'Married']).size().reset_index(name='count')\n",
    "total_por_churn = df_grouped.groupby('Churn')['count'].transform('sum')\n",
    "df_grouped['percent'] = (df_grouped['count'] / total_por_churn) * 100\n",
    "\n",
    "\n",
    "fig = px.bar(df_grouped, x='Churn', y='percent', color='Married', barmode='stack',\n",
    "             labels={'Churn': 'Churn', 'percent': 'Porcentagem'})\n",
    "\n",
    "fig.update_layout(title='Relação entre Churn e Casados',\n",
    "                  yaxis_title='Porcentagem')\n",
    "fig.show()\n",
    "\n",
    "print('\\nDependentes\\n')\n",
    "\n",
    "df_grouped = df.groupby(['Churn', 'Dependents']).size().reset_index(name='count')\n",
    "total_por_churn = df_grouped.groupby('Churn')['count'].transform('sum')\n",
    "df_grouped['percent'] = (df_grouped['count'] / total_por_churn) * 100\n",
    "\n",
    "\n",
    "fig = px.bar(df_grouped, x='Churn', y='percent', color='Dependents', barmode='stack',\n",
    "             labels={'Churn': 'Churn', 'percent': 'Porcentagem'})\n",
    "\n",
    "fig.update_layout(title='Relação entre Churn e Pessoas Com Dependentes',\n",
    "                  yaxis_title='Porcentagem')\n",
    "fig.show()\n",
    "\n",
    "print('\\nServiço de Segurança\\n')\n",
    "\n",
    "df_grouped = df.groupby(['Churn', 'SecurityService']).size().reset_index(name='count')\n",
    "total_por_churn = df_grouped.groupby('Churn')['count'].transform('sum')\n",
    "df_grouped['percent'] = (df_grouped['count'] / total_por_churn) * 100\n",
    "\n",
    "\n",
    "fig = px.bar(df_grouped, x='Churn', y='percent', color='SecurityService', barmode='stack',\n",
    "             labels={'Churn': 'Churn', 'percent': 'Porcentagem'})\n",
    "\n",
    "fig.update_layout(title='Relação entre Churn e Contratação de Serviço de Segurança',\n",
    "                  yaxis_title='Porcentagem')\n",
    "fig.show()\n",
    "\n",
    "print('\\nStreaming de TV\\n')\n",
    "\n",
    "df_grouped = df.groupby(['Churn', 'StreamingTV']).size().reset_index(name='count')\n",
    "total_por_churn = df_grouped.groupby('Churn')['count'].transform('sum')\n",
    "df_grouped['percent'] = (df_grouped['count'] / total_por_churn) * 100\n",
    "\n",
    "\n",
    "fig = px.bar(df_grouped, x='Churn', y='percent', color='StreamingTV', barmode='stack',\n",
    "             labels={'Churn': 'Churn', 'percent': 'Porcentagem'})\n",
    "\n",
    "fig.update_layout(title='Relação entre Churn e Contratação de Streaming',\n",
    "                  yaxis_title='Porcentagem')\n",
    "fig.show()"
   ]
  },
  {
   "cell_type": "markdown",
   "metadata": {},
   "source": [
    "As variáveis que indicam se a pessoa é casada, se tem dependentes e se contratou o serviço de segurança mostram grande oportunidade para prever o churn."
   ]
  },
  {
   "cell_type": "markdown",
   "metadata": {},
   "source": [
    "# Colunas Categoricas"
   ]
  },
  {
   "cell_type": "code",
   "execution_count": 39,
   "metadata": {},
   "outputs": [
    {
     "name": "stdout",
     "output_type": "stream",
     "text": [
      "Tipo de Contrato\n",
      "\n"
     ]
    },
    {
     "data": {
      "application/vnd.plotly.v1+json": {
       "config": {
        "plotlyServerURL": "https://plot.ly"
       },
       "data": [
        {
         "hovertemplate": "ContractType=Month-to-month<br>Churn=%{x}<br>Porcentagem=%{y}<extra></extra>",
         "legendgroup": "Month-to-month",
         "marker": {
          "color": "#636efa",
          "pattern": {
           "shape": ""
          }
         },
         "name": "Month-to-month",
         "orientation": "v",
         "showlegend": true,
         "textposition": "auto",
         "type": "bar",
         "x": {
          "bdata": "AAE=",
          "dtype": "i1"
         },
         "xaxis": "x",
         "y": {
          "bdata": "27Zt27ZtRUDX6Qe0P2lWQA==",
          "dtype": "f8"
         },
         "yaxis": "y"
        },
        {
         "hovertemplate": "ContractType=One year<br>Churn=%{x}<br>Porcentagem=%{y}<extra></extra>",
         "legendgroup": "One year",
         "marker": {
          "color": "#EF553B",
          "pattern": {
           "shape": ""
          }
         },
         "name": "One year",
         "orientation": "v",
         "showlegend": true,
         "textposition": "auto",
         "type": "bar",
         "x": {
          "bdata": "AAE=",
          "dtype": "i1"
         },
         "xaxis": "x",
         "y": {
          "bdata": "ux6TPp7uOECtVAaQzO0hQA==",
          "dtype": "f8"
         },
         "yaxis": "y"
        },
        {
         "hovertemplate": "ContractType=Two year<br>Churn=%{x}<br>Porcentagem=%{y}<extra></extra>",
         "legendgroup": "Two year",
         "marker": {
          "color": "#00cc96",
          "pattern": {
           "shape": ""
          }
         },
         "name": "Two year",
         "orientation": "v",
         "showlegend": true,
         "textposition": "auto",
         "type": "bar",
         "x": {
          "bdata": "AAE=",
          "dtype": "i1"
         },
         "xaxis": "x",
         "y": {
          "bdata": "x7lIBfoaQECz5NJ9rkH2Pw==",
          "dtype": "f8"
         },
         "yaxis": "y"
        }
       ],
       "layout": {
        "barmode": "stack",
        "legend": {
         "title": {
          "text": "Tipo de Contrato"
         },
         "tracegroupgap": 0
        },
        "margin": {
         "t": 60
        },
        "template": {
         "data": {
          "bar": [
           {
            "error_x": {
             "color": "#2a3f5f"
            },
            "error_y": {
             "color": "#2a3f5f"
            },
            "marker": {
             "line": {
              "color": "#E5ECF6",
              "width": 0.5
             },
             "pattern": {
              "fillmode": "overlay",
              "size": 10,
              "solidity": 0.2
             }
            },
            "type": "bar"
           }
          ],
          "barpolar": [
           {
            "marker": {
             "line": {
              "color": "#E5ECF6",
              "width": 0.5
             },
             "pattern": {
              "fillmode": "overlay",
              "size": 10,
              "solidity": 0.2
             }
            },
            "type": "barpolar"
           }
          ],
          "carpet": [
           {
            "aaxis": {
             "endlinecolor": "#2a3f5f",
             "gridcolor": "white",
             "linecolor": "white",
             "minorgridcolor": "white",
             "startlinecolor": "#2a3f5f"
            },
            "baxis": {
             "endlinecolor": "#2a3f5f",
             "gridcolor": "white",
             "linecolor": "white",
             "minorgridcolor": "white",
             "startlinecolor": "#2a3f5f"
            },
            "type": "carpet"
           }
          ],
          "choropleth": [
           {
            "colorbar": {
             "outlinewidth": 0,
             "ticks": ""
            },
            "type": "choropleth"
           }
          ],
          "contour": [
           {
            "colorbar": {
             "outlinewidth": 0,
             "ticks": ""
            },
            "colorscale": [
             [
              0,
              "#0d0887"
             ],
             [
              0.1111111111111111,
              "#46039f"
             ],
             [
              0.2222222222222222,
              "#7201a8"
             ],
             [
              0.3333333333333333,
              "#9c179e"
             ],
             [
              0.4444444444444444,
              "#bd3786"
             ],
             [
              0.5555555555555556,
              "#d8576b"
             ],
             [
              0.6666666666666666,
              "#ed7953"
             ],
             [
              0.7777777777777778,
              "#fb9f3a"
             ],
             [
              0.8888888888888888,
              "#fdca26"
             ],
             [
              1,
              "#f0f921"
             ]
            ],
            "type": "contour"
           }
          ],
          "contourcarpet": [
           {
            "colorbar": {
             "outlinewidth": 0,
             "ticks": ""
            },
            "type": "contourcarpet"
           }
          ],
          "heatmap": [
           {
            "colorbar": {
             "outlinewidth": 0,
             "ticks": ""
            },
            "colorscale": [
             [
              0,
              "#0d0887"
             ],
             [
              0.1111111111111111,
              "#46039f"
             ],
             [
              0.2222222222222222,
              "#7201a8"
             ],
             [
              0.3333333333333333,
              "#9c179e"
             ],
             [
              0.4444444444444444,
              "#bd3786"
             ],
             [
              0.5555555555555556,
              "#d8576b"
             ],
             [
              0.6666666666666666,
              "#ed7953"
             ],
             [
              0.7777777777777778,
              "#fb9f3a"
             ],
             [
              0.8888888888888888,
              "#fdca26"
             ],
             [
              1,
              "#f0f921"
             ]
            ],
            "type": "heatmap"
           }
          ],
          "histogram": [
           {
            "marker": {
             "pattern": {
              "fillmode": "overlay",
              "size": 10,
              "solidity": 0.2
             }
            },
            "type": "histogram"
           }
          ],
          "histogram2d": [
           {
            "colorbar": {
             "outlinewidth": 0,
             "ticks": ""
            },
            "colorscale": [
             [
              0,
              "#0d0887"
             ],
             [
              0.1111111111111111,
              "#46039f"
             ],
             [
              0.2222222222222222,
              "#7201a8"
             ],
             [
              0.3333333333333333,
              "#9c179e"
             ],
             [
              0.4444444444444444,
              "#bd3786"
             ],
             [
              0.5555555555555556,
              "#d8576b"
             ],
             [
              0.6666666666666666,
              "#ed7953"
             ],
             [
              0.7777777777777778,
              "#fb9f3a"
             ],
             [
              0.8888888888888888,
              "#fdca26"
             ],
             [
              1,
              "#f0f921"
             ]
            ],
            "type": "histogram2d"
           }
          ],
          "histogram2dcontour": [
           {
            "colorbar": {
             "outlinewidth": 0,
             "ticks": ""
            },
            "colorscale": [
             [
              0,
              "#0d0887"
             ],
             [
              0.1111111111111111,
              "#46039f"
             ],
             [
              0.2222222222222222,
              "#7201a8"
             ],
             [
              0.3333333333333333,
              "#9c179e"
             ],
             [
              0.4444444444444444,
              "#bd3786"
             ],
             [
              0.5555555555555556,
              "#d8576b"
             ],
             [
              0.6666666666666666,
              "#ed7953"
             ],
             [
              0.7777777777777778,
              "#fb9f3a"
             ],
             [
              0.8888888888888888,
              "#fdca26"
             ],
             [
              1,
              "#f0f921"
             ]
            ],
            "type": "histogram2dcontour"
           }
          ],
          "mesh3d": [
           {
            "colorbar": {
             "outlinewidth": 0,
             "ticks": ""
            },
            "type": "mesh3d"
           }
          ],
          "parcoords": [
           {
            "line": {
             "colorbar": {
              "outlinewidth": 0,
              "ticks": ""
             }
            },
            "type": "parcoords"
           }
          ],
          "pie": [
           {
            "automargin": true,
            "type": "pie"
           }
          ],
          "scatter": [
           {
            "fillpattern": {
             "fillmode": "overlay",
             "size": 10,
             "solidity": 0.2
            },
            "type": "scatter"
           }
          ],
          "scatter3d": [
           {
            "line": {
             "colorbar": {
              "outlinewidth": 0,
              "ticks": ""
             }
            },
            "marker": {
             "colorbar": {
              "outlinewidth": 0,
              "ticks": ""
             }
            },
            "type": "scatter3d"
           }
          ],
          "scattercarpet": [
           {
            "marker": {
             "colorbar": {
              "outlinewidth": 0,
              "ticks": ""
             }
            },
            "type": "scattercarpet"
           }
          ],
          "scattergeo": [
           {
            "marker": {
             "colorbar": {
              "outlinewidth": 0,
              "ticks": ""
             }
            },
            "type": "scattergeo"
           }
          ],
          "scattergl": [
           {
            "marker": {
             "colorbar": {
              "outlinewidth": 0,
              "ticks": ""
             }
            },
            "type": "scattergl"
           }
          ],
          "scattermap": [
           {
            "marker": {
             "colorbar": {
              "outlinewidth": 0,
              "ticks": ""
             }
            },
            "type": "scattermap"
           }
          ],
          "scattermapbox": [
           {
            "marker": {
             "colorbar": {
              "outlinewidth": 0,
              "ticks": ""
             }
            },
            "type": "scattermapbox"
           }
          ],
          "scatterpolar": [
           {
            "marker": {
             "colorbar": {
              "outlinewidth": 0,
              "ticks": ""
             }
            },
            "type": "scatterpolar"
           }
          ],
          "scatterpolargl": [
           {
            "marker": {
             "colorbar": {
              "outlinewidth": 0,
              "ticks": ""
             }
            },
            "type": "scatterpolargl"
           }
          ],
          "scatterternary": [
           {
            "marker": {
             "colorbar": {
              "outlinewidth": 0,
              "ticks": ""
             }
            },
            "type": "scatterternary"
           }
          ],
          "surface": [
           {
            "colorbar": {
             "outlinewidth": 0,
             "ticks": ""
            },
            "colorscale": [
             [
              0,
              "#0d0887"
             ],
             [
              0.1111111111111111,
              "#46039f"
             ],
             [
              0.2222222222222222,
              "#7201a8"
             ],
             [
              0.3333333333333333,
              "#9c179e"
             ],
             [
              0.4444444444444444,
              "#bd3786"
             ],
             [
              0.5555555555555556,
              "#d8576b"
             ],
             [
              0.6666666666666666,
              "#ed7953"
             ],
             [
              0.7777777777777778,
              "#fb9f3a"
             ],
             [
              0.8888888888888888,
              "#fdca26"
             ],
             [
              1,
              "#f0f921"
             ]
            ],
            "type": "surface"
           }
          ],
          "table": [
           {
            "cells": {
             "fill": {
              "color": "#EBF0F8"
             },
             "line": {
              "color": "white"
             }
            },
            "header": {
             "fill": {
              "color": "#C8D4E3"
             },
             "line": {
              "color": "white"
             }
            },
            "type": "table"
           }
          ]
         },
         "layout": {
          "annotationdefaults": {
           "arrowcolor": "#2a3f5f",
           "arrowhead": 0,
           "arrowwidth": 1
          },
          "autotypenumbers": "strict",
          "coloraxis": {
           "colorbar": {
            "outlinewidth": 0,
            "ticks": ""
           }
          },
          "colorscale": {
           "diverging": [
            [
             0,
             "#8e0152"
            ],
            [
             0.1,
             "#c51b7d"
            ],
            [
             0.2,
             "#de77ae"
            ],
            [
             0.3,
             "#f1b6da"
            ],
            [
             0.4,
             "#fde0ef"
            ],
            [
             0.5,
             "#f7f7f7"
            ],
            [
             0.6,
             "#e6f5d0"
            ],
            [
             0.7,
             "#b8e186"
            ],
            [
             0.8,
             "#7fbc41"
            ],
            [
             0.9,
             "#4d9221"
            ],
            [
             1,
             "#276419"
            ]
           ],
           "sequential": [
            [
             0,
             "#0d0887"
            ],
            [
             0.1111111111111111,
             "#46039f"
            ],
            [
             0.2222222222222222,
             "#7201a8"
            ],
            [
             0.3333333333333333,
             "#9c179e"
            ],
            [
             0.4444444444444444,
             "#bd3786"
            ],
            [
             0.5555555555555556,
             "#d8576b"
            ],
            [
             0.6666666666666666,
             "#ed7953"
            ],
            [
             0.7777777777777778,
             "#fb9f3a"
            ],
            [
             0.8888888888888888,
             "#fdca26"
            ],
            [
             1,
             "#f0f921"
            ]
           ],
           "sequentialminus": [
            [
             0,
             "#0d0887"
            ],
            [
             0.1111111111111111,
             "#46039f"
            ],
            [
             0.2222222222222222,
             "#7201a8"
            ],
            [
             0.3333333333333333,
             "#9c179e"
            ],
            [
             0.4444444444444444,
             "#bd3786"
            ],
            [
             0.5555555555555556,
             "#d8576b"
            ],
            [
             0.6666666666666666,
             "#ed7953"
            ],
            [
             0.7777777777777778,
             "#fb9f3a"
            ],
            [
             0.8888888888888888,
             "#fdca26"
            ],
            [
             1,
             "#f0f921"
            ]
           ]
          },
          "colorway": [
           "#636efa",
           "#EF553B",
           "#00cc96",
           "#ab63fa",
           "#FFA15A",
           "#19d3f3",
           "#FF6692",
           "#B6E880",
           "#FF97FF",
           "#FECB52"
          ],
          "font": {
           "color": "#2a3f5f"
          },
          "geo": {
           "bgcolor": "white",
           "lakecolor": "white",
           "landcolor": "#E5ECF6",
           "showlakes": true,
           "showland": true,
           "subunitcolor": "white"
          },
          "hoverlabel": {
           "align": "left"
          },
          "hovermode": "closest",
          "mapbox": {
           "style": "light"
          },
          "paper_bgcolor": "white",
          "plot_bgcolor": "#E5ECF6",
          "polar": {
           "angularaxis": {
            "gridcolor": "white",
            "linecolor": "white",
            "ticks": ""
           },
           "bgcolor": "#E5ECF6",
           "radialaxis": {
            "gridcolor": "white",
            "linecolor": "white",
            "ticks": ""
           }
          },
          "scene": {
           "xaxis": {
            "backgroundcolor": "#E5ECF6",
            "gridcolor": "white",
            "gridwidth": 2,
            "linecolor": "white",
            "showbackground": true,
            "ticks": "",
            "zerolinecolor": "white"
           },
           "yaxis": {
            "backgroundcolor": "#E5ECF6",
            "gridcolor": "white",
            "gridwidth": 2,
            "linecolor": "white",
            "showbackground": true,
            "ticks": "",
            "zerolinecolor": "white"
           },
           "zaxis": {
            "backgroundcolor": "#E5ECF6",
            "gridcolor": "white",
            "gridwidth": 2,
            "linecolor": "white",
            "showbackground": true,
            "ticks": "",
            "zerolinecolor": "white"
           }
          },
          "shapedefaults": {
           "line": {
            "color": "#2a3f5f"
           }
          },
          "ternary": {
           "aaxis": {
            "gridcolor": "white",
            "linecolor": "white",
            "ticks": ""
           },
           "baxis": {
            "gridcolor": "white",
            "linecolor": "white",
            "ticks": ""
           },
           "bgcolor": "#E5ECF6",
           "caxis": {
            "gridcolor": "white",
            "linecolor": "white",
            "ticks": ""
           }
          },
          "title": {
           "x": 0.05
          },
          "xaxis": {
           "automargin": true,
           "gridcolor": "white",
           "linecolor": "white",
           "ticks": "",
           "title": {
            "standoff": 15
           },
           "zerolinecolor": "white",
           "zerolinewidth": 2
          },
          "yaxis": {
           "automargin": true,
           "gridcolor": "white",
           "linecolor": "white",
           "ticks": "",
           "title": {
            "standoff": 15
           },
           "zerolinecolor": "white",
           "zerolinewidth": 2
          }
         }
        },
        "title": {
         "text": "Relação entre Churn e Tipo de Contrato"
        },
        "xaxis": {
         "anchor": "y",
         "domain": [
          0,
          1
         ],
         "title": {
          "text": "Churn"
         }
        },
        "yaxis": {
         "anchor": "x",
         "domain": [
          0,
          1
         ],
         "title": {
          "text": "Porcentagem"
         }
        }
       }
      }
     },
     "metadata": {},
     "output_type": "display_data"
    },
    {
     "name": "stdout",
     "output_type": "stream",
     "text": [
      "\n",
      "Método de Pagamento\n",
      "\n"
     ]
    },
    {
     "data": {
      "application/vnd.plotly.v1+json": {
       "config": {
        "plotlyServerURL": "https://plot.ly"
       },
       "data": [
        {
         "hovertemplate": "PaymentMethod=Bank transfer (automatic)<br>Churn=%{x}<br>Porcentagem=%{y}<extra></extra>",
         "legendgroup": "Bank transfer (automatic)",
         "marker": {
          "color": "#636efa",
          "pattern": {
           "shape": ""
          }
         },
         "name": "Bank transfer (automatic)",
         "orientation": "v",
         "showlegend": true,
         "textposition": "auto",
         "type": "bar",
         "x": {
          "bdata": "AAE=",
          "dtype": "i1"
         },
         "xaxis": "x",
         "y": {
          "bdata": "LGKeHRvNOUDzFooF/hIwQA==",
          "dtype": "f8"
         },
         "yaxis": "y"
        },
        {
         "hovertemplate": "PaymentMethod=Credit card (automatic)<br>Churn=%{x}<br>Porcentagem=%{y}<extra></extra>",
         "legendgroup": "Credit card (automatic)",
         "marker": {
          "color": "#EF553B",
          "pattern": {
           "shape": ""
          }
         },
         "name": "Credit card (automatic)",
         "orientation": "v",
         "showlegend": true,
         "textposition": "auto",
         "type": "bar",
         "x": {
          "bdata": "AAE=",
          "dtype": "i1"
         },
         "xaxis": "x",
         "y": {
          "bdata": "YxaP6wLbOUCQAxHDFS8nQA==",
          "dtype": "f8"
         },
         "yaxis": "y"
        },
        {
         "hovertemplate": "PaymentMethod=Electronic check<br>Churn=%{x}<br>Porcentagem=%{y}<extra></extra>",
         "legendgroup": "Electronic check",
         "marker": {
          "color": "#00cc96",
          "pattern": {
           "shape": ""
          }
         },
         "name": "Electronic check",
         "orientation": "v",
         "showlegend": true,
         "textposition": "auto",
         "type": "bar",
         "x": {
          "bdata": "AAE=",
          "dtype": "i1"
         },
         "xaxis": "x",
         "y": {
          "bdata": "OjH+nEeNOEArzCQFNTZNQA==",
          "dtype": "f8"
         },
         "yaxis": "y"
        },
        {
         "hovertemplate": "PaymentMethod=Mailed check<br>Churn=%{x}<br>Porcentagem=%{y}<extra></extra>",
         "legendgroup": "Mailed check",
         "marker": {
          "color": "#ab63fa",
          "pattern": {
           "shape": ""
          }
         },
         "name": "Mailed check",
         "orientation": "v",
         "showlegend": true,
         "textposition": "auto",
         "type": "bar",
         "x": {
          "bdata": "AAE=",
          "dtype": "i1"
         },
         "xaxis": "x",
         "y": {
          "bdata": "N1bUWZrKN0DfnUcdGtIrQA==",
          "dtype": "f8"
         },
         "yaxis": "y"
        }
       ],
       "layout": {
        "barmode": "stack",
        "legend": {
         "title": {
          "text": "Método de Pagamento"
         },
         "tracegroupgap": 0
        },
        "margin": {
         "t": 60
        },
        "template": {
         "data": {
          "bar": [
           {
            "error_x": {
             "color": "#2a3f5f"
            },
            "error_y": {
             "color": "#2a3f5f"
            },
            "marker": {
             "line": {
              "color": "#E5ECF6",
              "width": 0.5
             },
             "pattern": {
              "fillmode": "overlay",
              "size": 10,
              "solidity": 0.2
             }
            },
            "type": "bar"
           }
          ],
          "barpolar": [
           {
            "marker": {
             "line": {
              "color": "#E5ECF6",
              "width": 0.5
             },
             "pattern": {
              "fillmode": "overlay",
              "size": 10,
              "solidity": 0.2
             }
            },
            "type": "barpolar"
           }
          ],
          "carpet": [
           {
            "aaxis": {
             "endlinecolor": "#2a3f5f",
             "gridcolor": "white",
             "linecolor": "white",
             "minorgridcolor": "white",
             "startlinecolor": "#2a3f5f"
            },
            "baxis": {
             "endlinecolor": "#2a3f5f",
             "gridcolor": "white",
             "linecolor": "white",
             "minorgridcolor": "white",
             "startlinecolor": "#2a3f5f"
            },
            "type": "carpet"
           }
          ],
          "choropleth": [
           {
            "colorbar": {
             "outlinewidth": 0,
             "ticks": ""
            },
            "type": "choropleth"
           }
          ],
          "contour": [
           {
            "colorbar": {
             "outlinewidth": 0,
             "ticks": ""
            },
            "colorscale": [
             [
              0,
              "#0d0887"
             ],
             [
              0.1111111111111111,
              "#46039f"
             ],
             [
              0.2222222222222222,
              "#7201a8"
             ],
             [
              0.3333333333333333,
              "#9c179e"
             ],
             [
              0.4444444444444444,
              "#bd3786"
             ],
             [
              0.5555555555555556,
              "#d8576b"
             ],
             [
              0.6666666666666666,
              "#ed7953"
             ],
             [
              0.7777777777777778,
              "#fb9f3a"
             ],
             [
              0.8888888888888888,
              "#fdca26"
             ],
             [
              1,
              "#f0f921"
             ]
            ],
            "type": "contour"
           }
          ],
          "contourcarpet": [
           {
            "colorbar": {
             "outlinewidth": 0,
             "ticks": ""
            },
            "type": "contourcarpet"
           }
          ],
          "heatmap": [
           {
            "colorbar": {
             "outlinewidth": 0,
             "ticks": ""
            },
            "colorscale": [
             [
              0,
              "#0d0887"
             ],
             [
              0.1111111111111111,
              "#46039f"
             ],
             [
              0.2222222222222222,
              "#7201a8"
             ],
             [
              0.3333333333333333,
              "#9c179e"
             ],
             [
              0.4444444444444444,
              "#bd3786"
             ],
             [
              0.5555555555555556,
              "#d8576b"
             ],
             [
              0.6666666666666666,
              "#ed7953"
             ],
             [
              0.7777777777777778,
              "#fb9f3a"
             ],
             [
              0.8888888888888888,
              "#fdca26"
             ],
             [
              1,
              "#f0f921"
             ]
            ],
            "type": "heatmap"
           }
          ],
          "histogram": [
           {
            "marker": {
             "pattern": {
              "fillmode": "overlay",
              "size": 10,
              "solidity": 0.2
             }
            },
            "type": "histogram"
           }
          ],
          "histogram2d": [
           {
            "colorbar": {
             "outlinewidth": 0,
             "ticks": ""
            },
            "colorscale": [
             [
              0,
              "#0d0887"
             ],
             [
              0.1111111111111111,
              "#46039f"
             ],
             [
              0.2222222222222222,
              "#7201a8"
             ],
             [
              0.3333333333333333,
              "#9c179e"
             ],
             [
              0.4444444444444444,
              "#bd3786"
             ],
             [
              0.5555555555555556,
              "#d8576b"
             ],
             [
              0.6666666666666666,
              "#ed7953"
             ],
             [
              0.7777777777777778,
              "#fb9f3a"
             ],
             [
              0.8888888888888888,
              "#fdca26"
             ],
             [
              1,
              "#f0f921"
             ]
            ],
            "type": "histogram2d"
           }
          ],
          "histogram2dcontour": [
           {
            "colorbar": {
             "outlinewidth": 0,
             "ticks": ""
            },
            "colorscale": [
             [
              0,
              "#0d0887"
             ],
             [
              0.1111111111111111,
              "#46039f"
             ],
             [
              0.2222222222222222,
              "#7201a8"
             ],
             [
              0.3333333333333333,
              "#9c179e"
             ],
             [
              0.4444444444444444,
              "#bd3786"
             ],
             [
              0.5555555555555556,
              "#d8576b"
             ],
             [
              0.6666666666666666,
              "#ed7953"
             ],
             [
              0.7777777777777778,
              "#fb9f3a"
             ],
             [
              0.8888888888888888,
              "#fdca26"
             ],
             [
              1,
              "#f0f921"
             ]
            ],
            "type": "histogram2dcontour"
           }
          ],
          "mesh3d": [
           {
            "colorbar": {
             "outlinewidth": 0,
             "ticks": ""
            },
            "type": "mesh3d"
           }
          ],
          "parcoords": [
           {
            "line": {
             "colorbar": {
              "outlinewidth": 0,
              "ticks": ""
             }
            },
            "type": "parcoords"
           }
          ],
          "pie": [
           {
            "automargin": true,
            "type": "pie"
           }
          ],
          "scatter": [
           {
            "fillpattern": {
             "fillmode": "overlay",
             "size": 10,
             "solidity": 0.2
            },
            "type": "scatter"
           }
          ],
          "scatter3d": [
           {
            "line": {
             "colorbar": {
              "outlinewidth": 0,
              "ticks": ""
             }
            },
            "marker": {
             "colorbar": {
              "outlinewidth": 0,
              "ticks": ""
             }
            },
            "type": "scatter3d"
           }
          ],
          "scattercarpet": [
           {
            "marker": {
             "colorbar": {
              "outlinewidth": 0,
              "ticks": ""
             }
            },
            "type": "scattercarpet"
           }
          ],
          "scattergeo": [
           {
            "marker": {
             "colorbar": {
              "outlinewidth": 0,
              "ticks": ""
             }
            },
            "type": "scattergeo"
           }
          ],
          "scattergl": [
           {
            "marker": {
             "colorbar": {
              "outlinewidth": 0,
              "ticks": ""
             }
            },
            "type": "scattergl"
           }
          ],
          "scattermap": [
           {
            "marker": {
             "colorbar": {
              "outlinewidth": 0,
              "ticks": ""
             }
            },
            "type": "scattermap"
           }
          ],
          "scattermapbox": [
           {
            "marker": {
             "colorbar": {
              "outlinewidth": 0,
              "ticks": ""
             }
            },
            "type": "scattermapbox"
           }
          ],
          "scatterpolar": [
           {
            "marker": {
             "colorbar": {
              "outlinewidth": 0,
              "ticks": ""
             }
            },
            "type": "scatterpolar"
           }
          ],
          "scatterpolargl": [
           {
            "marker": {
             "colorbar": {
              "outlinewidth": 0,
              "ticks": ""
             }
            },
            "type": "scatterpolargl"
           }
          ],
          "scatterternary": [
           {
            "marker": {
             "colorbar": {
              "outlinewidth": 0,
              "ticks": ""
             }
            },
            "type": "scatterternary"
           }
          ],
          "surface": [
           {
            "colorbar": {
             "outlinewidth": 0,
             "ticks": ""
            },
            "colorscale": [
             [
              0,
              "#0d0887"
             ],
             [
              0.1111111111111111,
              "#46039f"
             ],
             [
              0.2222222222222222,
              "#7201a8"
             ],
             [
              0.3333333333333333,
              "#9c179e"
             ],
             [
              0.4444444444444444,
              "#bd3786"
             ],
             [
              0.5555555555555556,
              "#d8576b"
             ],
             [
              0.6666666666666666,
              "#ed7953"
             ],
             [
              0.7777777777777778,
              "#fb9f3a"
             ],
             [
              0.8888888888888888,
              "#fdca26"
             ],
             [
              1,
              "#f0f921"
             ]
            ],
            "type": "surface"
           }
          ],
          "table": [
           {
            "cells": {
             "fill": {
              "color": "#EBF0F8"
             },
             "line": {
              "color": "white"
             }
            },
            "header": {
             "fill": {
              "color": "#C8D4E3"
             },
             "line": {
              "color": "white"
             }
            },
            "type": "table"
           }
          ]
         },
         "layout": {
          "annotationdefaults": {
           "arrowcolor": "#2a3f5f",
           "arrowhead": 0,
           "arrowwidth": 1
          },
          "autotypenumbers": "strict",
          "coloraxis": {
           "colorbar": {
            "outlinewidth": 0,
            "ticks": ""
           }
          },
          "colorscale": {
           "diverging": [
            [
             0,
             "#8e0152"
            ],
            [
             0.1,
             "#c51b7d"
            ],
            [
             0.2,
             "#de77ae"
            ],
            [
             0.3,
             "#f1b6da"
            ],
            [
             0.4,
             "#fde0ef"
            ],
            [
             0.5,
             "#f7f7f7"
            ],
            [
             0.6,
             "#e6f5d0"
            ],
            [
             0.7,
             "#b8e186"
            ],
            [
             0.8,
             "#7fbc41"
            ],
            [
             0.9,
             "#4d9221"
            ],
            [
             1,
             "#276419"
            ]
           ],
           "sequential": [
            [
             0,
             "#0d0887"
            ],
            [
             0.1111111111111111,
             "#46039f"
            ],
            [
             0.2222222222222222,
             "#7201a8"
            ],
            [
             0.3333333333333333,
             "#9c179e"
            ],
            [
             0.4444444444444444,
             "#bd3786"
            ],
            [
             0.5555555555555556,
             "#d8576b"
            ],
            [
             0.6666666666666666,
             "#ed7953"
            ],
            [
             0.7777777777777778,
             "#fb9f3a"
            ],
            [
             0.8888888888888888,
             "#fdca26"
            ],
            [
             1,
             "#f0f921"
            ]
           ],
           "sequentialminus": [
            [
             0,
             "#0d0887"
            ],
            [
             0.1111111111111111,
             "#46039f"
            ],
            [
             0.2222222222222222,
             "#7201a8"
            ],
            [
             0.3333333333333333,
             "#9c179e"
            ],
            [
             0.4444444444444444,
             "#bd3786"
            ],
            [
             0.5555555555555556,
             "#d8576b"
            ],
            [
             0.6666666666666666,
             "#ed7953"
            ],
            [
             0.7777777777777778,
             "#fb9f3a"
            ],
            [
             0.8888888888888888,
             "#fdca26"
            ],
            [
             1,
             "#f0f921"
            ]
           ]
          },
          "colorway": [
           "#636efa",
           "#EF553B",
           "#00cc96",
           "#ab63fa",
           "#FFA15A",
           "#19d3f3",
           "#FF6692",
           "#B6E880",
           "#FF97FF",
           "#FECB52"
          ],
          "font": {
           "color": "#2a3f5f"
          },
          "geo": {
           "bgcolor": "white",
           "lakecolor": "white",
           "landcolor": "#E5ECF6",
           "showlakes": true,
           "showland": true,
           "subunitcolor": "white"
          },
          "hoverlabel": {
           "align": "left"
          },
          "hovermode": "closest",
          "mapbox": {
           "style": "light"
          },
          "paper_bgcolor": "white",
          "plot_bgcolor": "#E5ECF6",
          "polar": {
           "angularaxis": {
            "gridcolor": "white",
            "linecolor": "white",
            "ticks": ""
           },
           "bgcolor": "#E5ECF6",
           "radialaxis": {
            "gridcolor": "white",
            "linecolor": "white",
            "ticks": ""
           }
          },
          "scene": {
           "xaxis": {
            "backgroundcolor": "#E5ECF6",
            "gridcolor": "white",
            "gridwidth": 2,
            "linecolor": "white",
            "showbackground": true,
            "ticks": "",
            "zerolinecolor": "white"
           },
           "yaxis": {
            "backgroundcolor": "#E5ECF6",
            "gridcolor": "white",
            "gridwidth": 2,
            "linecolor": "white",
            "showbackground": true,
            "ticks": "",
            "zerolinecolor": "white"
           },
           "zaxis": {
            "backgroundcolor": "#E5ECF6",
            "gridcolor": "white",
            "gridwidth": 2,
            "linecolor": "white",
            "showbackground": true,
            "ticks": "",
            "zerolinecolor": "white"
           }
          },
          "shapedefaults": {
           "line": {
            "color": "#2a3f5f"
           }
          },
          "ternary": {
           "aaxis": {
            "gridcolor": "white",
            "linecolor": "white",
            "ticks": ""
           },
           "baxis": {
            "gridcolor": "white",
            "linecolor": "white",
            "ticks": ""
           },
           "bgcolor": "#E5ECF6",
           "caxis": {
            "gridcolor": "white",
            "linecolor": "white",
            "ticks": ""
           }
          },
          "title": {
           "x": 0.05
          },
          "xaxis": {
           "automargin": true,
           "gridcolor": "white",
           "linecolor": "white",
           "ticks": "",
           "title": {
            "standoff": 15
           },
           "zerolinecolor": "white",
           "zerolinewidth": 2
          },
          "yaxis": {
           "automargin": true,
           "gridcolor": "white",
           "linecolor": "white",
           "ticks": "",
           "title": {
            "standoff": 15
           },
           "zerolinecolor": "white",
           "zerolinewidth": 2
          }
         }
        },
        "title": {
         "text": "Relação entre Churn e Método de Pagamento"
        },
        "xaxis": {
         "anchor": "y",
         "domain": [
          0,
          1
         ],
         "title": {
          "text": "Churn"
         }
        },
        "yaxis": {
         "anchor": "x",
         "domain": [
          0,
          1
         ],
         "title": {
          "text": "Porcentagem"
         }
        }
       }
      }
     },
     "metadata": {},
     "output_type": "display_data"
    },
    {
     "name": "stdout",
     "output_type": "stream",
     "text": [
      "\n",
      "Serviço de Internet\n",
      "\n"
     ]
    },
    {
     "data": {
      "application/vnd.plotly.v1+json": {
       "config": {
        "plotlyServerURL": "https://plot.ly"
       },
       "data": [
        {
         "hovertemplate": "InternetService=dsl<br>Churn=%{x}<br>Porcentagem=%{y}<extra></extra>",
         "legendgroup": "dsl",
         "marker": {
          "color": "#636efa",
          "pattern": {
           "shape": ""
          }
         },
         "name": "dsl",
         "orientation": "v",
         "showlegend": true,
         "textposition": "auto",
         "type": "bar",
         "x": {
          "bdata": "AAE=",
          "dtype": "i1"
         },
         "xaxis": "x",
         "y": {
          "bdata": "91Qt2g/uQkDX6Qe0P2k2QA==",
          "dtype": "f8"
         },
         "yaxis": "y"
        },
        {
         "hovertemplate": "InternetService=fiber optic<br>Churn=%{x}<br>Porcentagem=%{y}<extra></extra>",
         "legendgroup": "fiber optic",
         "marker": {
          "color": "#EF553B",
          "pattern": {
           "shape": ""
          }
         },
         "name": "fiber optic",
         "orientation": "v",
         "showlegend": true,
         "textposition": "auto",
         "type": "bar",
         "x": {
          "bdata": "AAE=",
          "dtype": "i1"
         },
         "xaxis": "x",
         "y": {
          "bdata": "zW+ci1SgQUBk3FVhJilSQA==",
          "dtype": "f8"
         },
         "yaxis": "y"
        },
        {
         "hovertemplate": "InternetService=no<br>Churn=%{x}<br>Porcentagem=%{y}<extra></extra>",
         "legendgroup": "no",
         "marker": {
          "color": "#00cc96",
          "pattern": {
           "shape": ""
          }
         },
         "name": "no",
         "orientation": "v",
         "showlegend": true,
         "textposition": "auto",
         "type": "bar",
         "x": {
          "bdata": "AAE=",
          "dtype": "i1"
         },
         "xaxis": "x",
         "y": {
          "bdata": "enZsNDfjOkBmkoIam8gTQA==",
          "dtype": "f8"
         },
         "yaxis": "y"
        }
       ],
       "layout": {
        "barmode": "stack",
        "legend": {
         "title": {
          "text": "Serviço de Internet"
         },
         "tracegroupgap": 0
        },
        "margin": {
         "t": 60
        },
        "template": {
         "data": {
          "bar": [
           {
            "error_x": {
             "color": "#2a3f5f"
            },
            "error_y": {
             "color": "#2a3f5f"
            },
            "marker": {
             "line": {
              "color": "#E5ECF6",
              "width": 0.5
             },
             "pattern": {
              "fillmode": "overlay",
              "size": 10,
              "solidity": 0.2
             }
            },
            "type": "bar"
           }
          ],
          "barpolar": [
           {
            "marker": {
             "line": {
              "color": "#E5ECF6",
              "width": 0.5
             },
             "pattern": {
              "fillmode": "overlay",
              "size": 10,
              "solidity": 0.2
             }
            },
            "type": "barpolar"
           }
          ],
          "carpet": [
           {
            "aaxis": {
             "endlinecolor": "#2a3f5f",
             "gridcolor": "white",
             "linecolor": "white",
             "minorgridcolor": "white",
             "startlinecolor": "#2a3f5f"
            },
            "baxis": {
             "endlinecolor": "#2a3f5f",
             "gridcolor": "white",
             "linecolor": "white",
             "minorgridcolor": "white",
             "startlinecolor": "#2a3f5f"
            },
            "type": "carpet"
           }
          ],
          "choropleth": [
           {
            "colorbar": {
             "outlinewidth": 0,
             "ticks": ""
            },
            "type": "choropleth"
           }
          ],
          "contour": [
           {
            "colorbar": {
             "outlinewidth": 0,
             "ticks": ""
            },
            "colorscale": [
             [
              0,
              "#0d0887"
             ],
             [
              0.1111111111111111,
              "#46039f"
             ],
             [
              0.2222222222222222,
              "#7201a8"
             ],
             [
              0.3333333333333333,
              "#9c179e"
             ],
             [
              0.4444444444444444,
              "#bd3786"
             ],
             [
              0.5555555555555556,
              "#d8576b"
             ],
             [
              0.6666666666666666,
              "#ed7953"
             ],
             [
              0.7777777777777778,
              "#fb9f3a"
             ],
             [
              0.8888888888888888,
              "#fdca26"
             ],
             [
              1,
              "#f0f921"
             ]
            ],
            "type": "contour"
           }
          ],
          "contourcarpet": [
           {
            "colorbar": {
             "outlinewidth": 0,
             "ticks": ""
            },
            "type": "contourcarpet"
           }
          ],
          "heatmap": [
           {
            "colorbar": {
             "outlinewidth": 0,
             "ticks": ""
            },
            "colorscale": [
             [
              0,
              "#0d0887"
             ],
             [
              0.1111111111111111,
              "#46039f"
             ],
             [
              0.2222222222222222,
              "#7201a8"
             ],
             [
              0.3333333333333333,
              "#9c179e"
             ],
             [
              0.4444444444444444,
              "#bd3786"
             ],
             [
              0.5555555555555556,
              "#d8576b"
             ],
             [
              0.6666666666666666,
              "#ed7953"
             ],
             [
              0.7777777777777778,
              "#fb9f3a"
             ],
             [
              0.8888888888888888,
              "#fdca26"
             ],
             [
              1,
              "#f0f921"
             ]
            ],
            "type": "heatmap"
           }
          ],
          "histogram": [
           {
            "marker": {
             "pattern": {
              "fillmode": "overlay",
              "size": 10,
              "solidity": 0.2
             }
            },
            "type": "histogram"
           }
          ],
          "histogram2d": [
           {
            "colorbar": {
             "outlinewidth": 0,
             "ticks": ""
            },
            "colorscale": [
             [
              0,
              "#0d0887"
             ],
             [
              0.1111111111111111,
              "#46039f"
             ],
             [
              0.2222222222222222,
              "#7201a8"
             ],
             [
              0.3333333333333333,
              "#9c179e"
             ],
             [
              0.4444444444444444,
              "#bd3786"
             ],
             [
              0.5555555555555556,
              "#d8576b"
             ],
             [
              0.6666666666666666,
              "#ed7953"
             ],
             [
              0.7777777777777778,
              "#fb9f3a"
             ],
             [
              0.8888888888888888,
              "#fdca26"
             ],
             [
              1,
              "#f0f921"
             ]
            ],
            "type": "histogram2d"
           }
          ],
          "histogram2dcontour": [
           {
            "colorbar": {
             "outlinewidth": 0,
             "ticks": ""
            },
            "colorscale": [
             [
              0,
              "#0d0887"
             ],
             [
              0.1111111111111111,
              "#46039f"
             ],
             [
              0.2222222222222222,
              "#7201a8"
             ],
             [
              0.3333333333333333,
              "#9c179e"
             ],
             [
              0.4444444444444444,
              "#bd3786"
             ],
             [
              0.5555555555555556,
              "#d8576b"
             ],
             [
              0.6666666666666666,
              "#ed7953"
             ],
             [
              0.7777777777777778,
              "#fb9f3a"
             ],
             [
              0.8888888888888888,
              "#fdca26"
             ],
             [
              1,
              "#f0f921"
             ]
            ],
            "type": "histogram2dcontour"
           }
          ],
          "mesh3d": [
           {
            "colorbar": {
             "outlinewidth": 0,
             "ticks": ""
            },
            "type": "mesh3d"
           }
          ],
          "parcoords": [
           {
            "line": {
             "colorbar": {
              "outlinewidth": 0,
              "ticks": ""
             }
            },
            "type": "parcoords"
           }
          ],
          "pie": [
           {
            "automargin": true,
            "type": "pie"
           }
          ],
          "scatter": [
           {
            "fillpattern": {
             "fillmode": "overlay",
             "size": 10,
             "solidity": 0.2
            },
            "type": "scatter"
           }
          ],
          "scatter3d": [
           {
            "line": {
             "colorbar": {
              "outlinewidth": 0,
              "ticks": ""
             }
            },
            "marker": {
             "colorbar": {
              "outlinewidth": 0,
              "ticks": ""
             }
            },
            "type": "scatter3d"
           }
          ],
          "scattercarpet": [
           {
            "marker": {
             "colorbar": {
              "outlinewidth": 0,
              "ticks": ""
             }
            },
            "type": "scattercarpet"
           }
          ],
          "scattergeo": [
           {
            "marker": {
             "colorbar": {
              "outlinewidth": 0,
              "ticks": ""
             }
            },
            "type": "scattergeo"
           }
          ],
          "scattergl": [
           {
            "marker": {
             "colorbar": {
              "outlinewidth": 0,
              "ticks": ""
             }
            },
            "type": "scattergl"
           }
          ],
          "scattermap": [
           {
            "marker": {
             "colorbar": {
              "outlinewidth": 0,
              "ticks": ""
             }
            },
            "type": "scattermap"
           }
          ],
          "scattermapbox": [
           {
            "marker": {
             "colorbar": {
              "outlinewidth": 0,
              "ticks": ""
             }
            },
            "type": "scattermapbox"
           }
          ],
          "scatterpolar": [
           {
            "marker": {
             "colorbar": {
              "outlinewidth": 0,
              "ticks": ""
             }
            },
            "type": "scatterpolar"
           }
          ],
          "scatterpolargl": [
           {
            "marker": {
             "colorbar": {
              "outlinewidth": 0,
              "ticks": ""
             }
            },
            "type": "scatterpolargl"
           }
          ],
          "scatterternary": [
           {
            "marker": {
             "colorbar": {
              "outlinewidth": 0,
              "ticks": ""
             }
            },
            "type": "scatterternary"
           }
          ],
          "surface": [
           {
            "colorbar": {
             "outlinewidth": 0,
             "ticks": ""
            },
            "colorscale": [
             [
              0,
              "#0d0887"
             ],
             [
              0.1111111111111111,
              "#46039f"
             ],
             [
              0.2222222222222222,
              "#7201a8"
             ],
             [
              0.3333333333333333,
              "#9c179e"
             ],
             [
              0.4444444444444444,
              "#bd3786"
             ],
             [
              0.5555555555555556,
              "#d8576b"
             ],
             [
              0.6666666666666666,
              "#ed7953"
             ],
             [
              0.7777777777777778,
              "#fb9f3a"
             ],
             [
              0.8888888888888888,
              "#fdca26"
             ],
             [
              1,
              "#f0f921"
             ]
            ],
            "type": "surface"
           }
          ],
          "table": [
           {
            "cells": {
             "fill": {
              "color": "#EBF0F8"
             },
             "line": {
              "color": "white"
             }
            },
            "header": {
             "fill": {
              "color": "#C8D4E3"
             },
             "line": {
              "color": "white"
             }
            },
            "type": "table"
           }
          ]
         },
         "layout": {
          "annotationdefaults": {
           "arrowcolor": "#2a3f5f",
           "arrowhead": 0,
           "arrowwidth": 1
          },
          "autotypenumbers": "strict",
          "coloraxis": {
           "colorbar": {
            "outlinewidth": 0,
            "ticks": ""
           }
          },
          "colorscale": {
           "diverging": [
            [
             0,
             "#8e0152"
            ],
            [
             0.1,
             "#c51b7d"
            ],
            [
             0.2,
             "#de77ae"
            ],
            [
             0.3,
             "#f1b6da"
            ],
            [
             0.4,
             "#fde0ef"
            ],
            [
             0.5,
             "#f7f7f7"
            ],
            [
             0.6,
             "#e6f5d0"
            ],
            [
             0.7,
             "#b8e186"
            ],
            [
             0.8,
             "#7fbc41"
            ],
            [
             0.9,
             "#4d9221"
            ],
            [
             1,
             "#276419"
            ]
           ],
           "sequential": [
            [
             0,
             "#0d0887"
            ],
            [
             0.1111111111111111,
             "#46039f"
            ],
            [
             0.2222222222222222,
             "#7201a8"
            ],
            [
             0.3333333333333333,
             "#9c179e"
            ],
            [
             0.4444444444444444,
             "#bd3786"
            ],
            [
             0.5555555555555556,
             "#d8576b"
            ],
            [
             0.6666666666666666,
             "#ed7953"
            ],
            [
             0.7777777777777778,
             "#fb9f3a"
            ],
            [
             0.8888888888888888,
             "#fdca26"
            ],
            [
             1,
             "#f0f921"
            ]
           ],
           "sequentialminus": [
            [
             0,
             "#0d0887"
            ],
            [
             0.1111111111111111,
             "#46039f"
            ],
            [
             0.2222222222222222,
             "#7201a8"
            ],
            [
             0.3333333333333333,
             "#9c179e"
            ],
            [
             0.4444444444444444,
             "#bd3786"
            ],
            [
             0.5555555555555556,
             "#d8576b"
            ],
            [
             0.6666666666666666,
             "#ed7953"
            ],
            [
             0.7777777777777778,
             "#fb9f3a"
            ],
            [
             0.8888888888888888,
             "#fdca26"
            ],
            [
             1,
             "#f0f921"
            ]
           ]
          },
          "colorway": [
           "#636efa",
           "#EF553B",
           "#00cc96",
           "#ab63fa",
           "#FFA15A",
           "#19d3f3",
           "#FF6692",
           "#B6E880",
           "#FF97FF",
           "#FECB52"
          ],
          "font": {
           "color": "#2a3f5f"
          },
          "geo": {
           "bgcolor": "white",
           "lakecolor": "white",
           "landcolor": "#E5ECF6",
           "showlakes": true,
           "showland": true,
           "subunitcolor": "white"
          },
          "hoverlabel": {
           "align": "left"
          },
          "hovermode": "closest",
          "mapbox": {
           "style": "light"
          },
          "paper_bgcolor": "white",
          "plot_bgcolor": "#E5ECF6",
          "polar": {
           "angularaxis": {
            "gridcolor": "white",
            "linecolor": "white",
            "ticks": ""
           },
           "bgcolor": "#E5ECF6",
           "radialaxis": {
            "gridcolor": "white",
            "linecolor": "white",
            "ticks": ""
           }
          },
          "scene": {
           "xaxis": {
            "backgroundcolor": "#E5ECF6",
            "gridcolor": "white",
            "gridwidth": 2,
            "linecolor": "white",
            "showbackground": true,
            "ticks": "",
            "zerolinecolor": "white"
           },
           "yaxis": {
            "backgroundcolor": "#E5ECF6",
            "gridcolor": "white",
            "gridwidth": 2,
            "linecolor": "white",
            "showbackground": true,
            "ticks": "",
            "zerolinecolor": "white"
           },
           "zaxis": {
            "backgroundcolor": "#E5ECF6",
            "gridcolor": "white",
            "gridwidth": 2,
            "linecolor": "white",
            "showbackground": true,
            "ticks": "",
            "zerolinecolor": "white"
           }
          },
          "shapedefaults": {
           "line": {
            "color": "#2a3f5f"
           }
          },
          "ternary": {
           "aaxis": {
            "gridcolor": "white",
            "linecolor": "white",
            "ticks": ""
           },
           "baxis": {
            "gridcolor": "white",
            "linecolor": "white",
            "ticks": ""
           },
           "bgcolor": "#E5ECF6",
           "caxis": {
            "gridcolor": "white",
            "linecolor": "white",
            "ticks": ""
           }
          },
          "title": {
           "x": 0.05
          },
          "xaxis": {
           "automargin": true,
           "gridcolor": "white",
           "linecolor": "white",
           "ticks": "",
           "title": {
            "standoff": 15
           },
           "zerolinecolor": "white",
           "zerolinewidth": 2
          },
          "yaxis": {
           "automargin": true,
           "gridcolor": "white",
           "linecolor": "white",
           "ticks": "",
           "title": {
            "standoff": 15
           },
           "zerolinecolor": "white",
           "zerolinewidth": 2
          }
         }
        },
        "title": {
         "text": "Relação entre Churn e Serviço de Internet"
        },
        "xaxis": {
         "anchor": "y",
         "domain": [
          0,
          1
         ],
         "title": {
          "text": "Churn"
         }
        },
        "yaxis": {
         "anchor": "x",
         "domain": [
          0,
          1
         ],
         "title": {
          "text": "Porcentagem"
         }
        }
       }
      }
     },
     "metadata": {},
     "output_type": "display_data"
    }
   ],
   "source": [
    "print('Tipo de Contrato\\n')\n",
    "\n",
    "df_grouped = df.groupby(['Churn', 'ContractType']).size().reset_index(name='count')\n",
    "total_por_churn = df_grouped.groupby('Churn')['count'].transform('sum')\n",
    "df_grouped['percent'] = (df_grouped['count'] / total_por_churn) * 100\n",
    "\n",
    "\n",
    "fig = px.bar(df_grouped, x='Churn', y='percent', color='ContractType', barmode='stack',\n",
    "             labels={'Churn': 'Churn', 'percent': 'Porcentagem'})\n",
    "\n",
    "fig.update_layout(title='Relação entre Churn e Tipo de Contrato',\n",
    "                  yaxis_title='Porcentagem',\n",
    "                  legend_title='Tipo de Contrato')\n",
    "fig.show()\n",
    "\n",
    "print('\\nMétodo de Pagamento\\n')\n",
    "\n",
    "df_grouped = df.groupby(['Churn', 'PaymentMethod']).size().reset_index(name='count')\n",
    "total_por_churn = df_grouped.groupby('Churn')['count'].transform('sum')\n",
    "df_grouped['percent'] = (df_grouped['count'] / total_por_churn) * 100\n",
    "\n",
    "\n",
    "fig = px.bar(df_grouped, x='Churn', y='percent', color='PaymentMethod', barmode='stack',\n",
    "             labels={'Churn': 'Churn', 'percent': 'Porcentagem'})\n",
    "\n",
    "fig.update_layout(title='Relação entre Churn e Método de Pagamento',\n",
    "                  yaxis_title='Porcentagem',\n",
    "                  legend_title='Método de Pagamento')\n",
    "fig.show()\n",
    "\n",
    "print('\\nServiço de Internet\\n')\n",
    "\n",
    "df_grouped = df.groupby(['Churn', 'InternetService']).size().reset_index(name='count')\n",
    "total_por_churn = df_grouped.groupby('Churn')['count'].transform('sum')\n",
    "df_grouped['percent'] = (df_grouped['count'] / total_por_churn) * 100\n",
    "\n",
    "\n",
    "fig = px.bar(df_grouped, x='Churn', y='percent', color='InternetService', barmode='stack',\n",
    "             labels={'Churn': 'Churn', 'percent': 'Porcentagem'})\n",
    "\n",
    "fig.update_layout(title='Relação entre Churn e Serviço de Internet',\n",
    "                  yaxis_title='Porcentagem',\n",
    "                  legend_title='Serviço de Internet')\n",
    "fig.show()"
   ]
  },
  {
   "cell_type": "markdown",
   "metadata": {},
   "source": [
    "As variáveis categoricas foram bem reveladoras, porque a distribuição entre churn e não churn mudou muito.\n",
    "\n",
    "Quem usa o método mensal de pagamento tem bem mais chance de churn.\n",
    "\n",
    "Quem usa o método de pagamento \"Eletcronic Check\" tem bem mais chance de churn.\n",
    "\n",
    "Quem usa internet fibra optica tem bem mais chance de Chrun.\n",
    "\n",
    "Se é possível perceber isso apenas visualmente, essas variáveis serão ótimas para o modelo preditivo de churn. "
   ]
  }
 ],
 "metadata": {
  "colab": {
   "provenance": []
  },
  "kernelspec": {
   "display_name": "venv",
   "language": "python",
   "name": "python3"
  },
  "language_info": {
   "codemirror_mode": {
    "name": "ipython",
    "version": 3
   },
   "file_extension": ".py",
   "mimetype": "text/x-python",
   "name": "python",
   "nbconvert_exporter": "python",
   "pygments_lexer": "ipython3",
   "version": "3.13.3"
  }
 },
 "nbformat": 4,
 "nbformat_minor": 0
}
