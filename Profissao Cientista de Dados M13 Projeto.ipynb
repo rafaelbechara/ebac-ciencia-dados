{
 "cells": [
  {
   "cell_type": "markdown",
   "metadata": {
    "id": "VOTu7U3Mvxzq"
   },
   "source": [
    "# **MÓDULO 13**\n",
    "# Projeto - Fundamentos da Descoberta de Dados"
   ]
  },
  {
   "cell_type": "markdown",
   "metadata": {
    "id": "-HYgkdAywLd0"
   },
   "source": [
    "Nesse projeto trabalharemos com a base de dados de produtos de um supermercado do Chile.\n",
    "A ideia é que vocês apliquem os conceitos estatísticos vistos no último módulo, mais os conceitos de visualizações de dados através de gráficos e finalizem publicando no seu github!"
   ]
  },
  {
   "cell_type": "code",
   "execution_count": null,
   "metadata": {
    "id": "OTdTnbzUwE2X"
   },
   "outputs": [],
   "source": [
    "import pandas as pd\n",
    "import matplotlib.pyplot as plt\n",
    "import plotly.express as px"
   ]
  },
  {
   "cell_type": "markdown",
   "metadata": {
    "id": "ky1Dk_KWywEa"
   },
   "source": [
    "Faça a leitura dos dados do arquivo CSV:\n",
    "\n",
    "\n",
    "Altere o código abaixo de acordo com seu diretório."
   ]
  },
  {
   "cell_type": "code",
   "execution_count": 3,
   "metadata": {
    "colab": {
     "base_uri": "https://localhost:8080/",
     "height": 363
    },
    "id": "bRBFyVB5wlny",
    "outputId": "cde5190b-fecf-48f8-e98c-5ec7e469bcfb"
   },
   "outputs": [
    {
     "data": {
      "application/vnd.microsoft.datawrangler.viewer.v0+json": {
       "columns": [
        {
         "name": "index",
         "rawType": "int64",
         "type": "integer"
        },
        {
         "name": "title",
         "rawType": "object",
         "type": "string"
        },
        {
         "name": "Marca",
         "rawType": "object",
         "type": "string"
        },
        {
         "name": "Preco_Normal",
         "rawType": "int64",
         "type": "integer"
        },
        {
         "name": "Preco_Desconto",
         "rawType": "int64",
         "type": "integer"
        },
        {
         "name": "Preco_Anterior",
         "rawType": "int64",
         "type": "integer"
        },
        {
         "name": "Desconto",
         "rawType": "int64",
         "type": "integer"
        },
        {
         "name": "Categoria",
         "rawType": "object",
         "type": "string"
        }
       ],
       "ref": "997a0809-f53e-4e2e-a3cc-804ce261bbf1",
       "rows": [
        [
         "1097",
         "Helado multipack Frugelé 18 un, 60 ml c/u",
         "Bresler",
         "0",
         "4509",
         "5499",
         "990",
         "congelados"
        ],
        [
         "1098",
         "Jabón barra original 3 un, de 90 g",
         "Dove",
         "0",
         "2659",
         "3659",
         "1000",
         "belleza-y-cuidado-personal"
        ],
        [
         "1099",
         "Shampoo Fuerza Extrema 400 ml",
         "Dove Men",
         "0",
         "2690",
         "3699",
         "1009",
         "belleza-y-cuidado-personal"
        ],
        [
         "1100",
         "Postre helado chocolate blanco frambuesa 900 ml",
         "Magnum",
         "0",
         "4279",
         "5349",
         "1070",
         "congelados"
        ],
        [
         "1101",
         "Postre helado chocolate nuss 900 ml",
         "Magnum",
         "0",
         "4279",
         "5349",
         "1070",
         "congelados"
        ],
        [
         "1102",
         "Helado bresler pote cassata 2,4l",
         "Bresler",
         "0",
         "4359",
         "5449",
         "1090",
         "congelados"
        ],
        [
         "1103",
         "Helado Trisabor chocolate lúcuma y manjar 2,4 L",
         "Bresler",
         "0",
         "4359",
         "5449",
         "1090",
         "congelados"
        ],
        [
         "1104",
         "Shampoo Reconstrucción Completa 400 ml",
         "Dove",
         "0",
         "2690",
         "3849",
         "1159",
         "belleza-y-cuidado-personal"
        ],
        [
         "1105",
         "Acondicionador Hidratación Intensa 400 ml",
         "Dove",
         "0",
         "2690",
         "3849",
         "1159",
         "belleza-y-cuidado-personal"
        ],
        [
         "1106",
         "Leche en Polvo Nido Forticrece Sin lactosa 1440g",
         "Nido",
         "0",
         "14550",
         "18899",
         "4349",
         "lacteos"
        ]
       ],
       "shape": {
        "columns": 7,
        "rows": 10
       }
      },
      "text/html": [
       "<div>\n",
       "<style scoped>\n",
       "    .dataframe tbody tr th:only-of-type {\n",
       "        vertical-align: middle;\n",
       "    }\n",
       "\n",
       "    .dataframe tbody tr th {\n",
       "        vertical-align: top;\n",
       "    }\n",
       "\n",
       "    .dataframe thead th {\n",
       "        text-align: right;\n",
       "    }\n",
       "</style>\n",
       "<table border=\"1\" class=\"dataframe\">\n",
       "  <thead>\n",
       "    <tr style=\"text-align: right;\">\n",
       "      <th></th>\n",
       "      <th>title</th>\n",
       "      <th>Marca</th>\n",
       "      <th>Preco_Normal</th>\n",
       "      <th>Preco_Desconto</th>\n",
       "      <th>Preco_Anterior</th>\n",
       "      <th>Desconto</th>\n",
       "      <th>Categoria</th>\n",
       "    </tr>\n",
       "  </thead>\n",
       "  <tbody>\n",
       "    <tr>\n",
       "      <th>1097</th>\n",
       "      <td>Helado multipack Frugelé 18 un, 60 ml c/u</td>\n",
       "      <td>Bresler</td>\n",
       "      <td>0</td>\n",
       "      <td>4509</td>\n",
       "      <td>5499</td>\n",
       "      <td>990</td>\n",
       "      <td>congelados</td>\n",
       "    </tr>\n",
       "    <tr>\n",
       "      <th>1098</th>\n",
       "      <td>Jabón barra original 3 un, de 90 g</td>\n",
       "      <td>Dove</td>\n",
       "      <td>0</td>\n",
       "      <td>2659</td>\n",
       "      <td>3659</td>\n",
       "      <td>1000</td>\n",
       "      <td>belleza-y-cuidado-personal</td>\n",
       "    </tr>\n",
       "    <tr>\n",
       "      <th>1099</th>\n",
       "      <td>Shampoo Fuerza Extrema 400 ml</td>\n",
       "      <td>Dove Men</td>\n",
       "      <td>0</td>\n",
       "      <td>2690</td>\n",
       "      <td>3699</td>\n",
       "      <td>1009</td>\n",
       "      <td>belleza-y-cuidado-personal</td>\n",
       "    </tr>\n",
       "    <tr>\n",
       "      <th>1100</th>\n",
       "      <td>Postre helado chocolate blanco frambuesa 900 ml</td>\n",
       "      <td>Magnum</td>\n",
       "      <td>0</td>\n",
       "      <td>4279</td>\n",
       "      <td>5349</td>\n",
       "      <td>1070</td>\n",
       "      <td>congelados</td>\n",
       "    </tr>\n",
       "    <tr>\n",
       "      <th>1101</th>\n",
       "      <td>Postre helado chocolate nuss 900 ml</td>\n",
       "      <td>Magnum</td>\n",
       "      <td>0</td>\n",
       "      <td>4279</td>\n",
       "      <td>5349</td>\n",
       "      <td>1070</td>\n",
       "      <td>congelados</td>\n",
       "    </tr>\n",
       "    <tr>\n",
       "      <th>1102</th>\n",
       "      <td>Helado bresler pote cassata 2,4l</td>\n",
       "      <td>Bresler</td>\n",
       "      <td>0</td>\n",
       "      <td>4359</td>\n",
       "      <td>5449</td>\n",
       "      <td>1090</td>\n",
       "      <td>congelados</td>\n",
       "    </tr>\n",
       "    <tr>\n",
       "      <th>1103</th>\n",
       "      <td>Helado Trisabor chocolate lúcuma y manjar 2,4 L</td>\n",
       "      <td>Bresler</td>\n",
       "      <td>0</td>\n",
       "      <td>4359</td>\n",
       "      <td>5449</td>\n",
       "      <td>1090</td>\n",
       "      <td>congelados</td>\n",
       "    </tr>\n",
       "    <tr>\n",
       "      <th>1104</th>\n",
       "      <td>Shampoo Reconstrucción Completa 400 ml</td>\n",
       "      <td>Dove</td>\n",
       "      <td>0</td>\n",
       "      <td>2690</td>\n",
       "      <td>3849</td>\n",
       "      <td>1159</td>\n",
       "      <td>belleza-y-cuidado-personal</td>\n",
       "    </tr>\n",
       "    <tr>\n",
       "      <th>1105</th>\n",
       "      <td>Acondicionador Hidratación Intensa 400 ml</td>\n",
       "      <td>Dove</td>\n",
       "      <td>0</td>\n",
       "      <td>2690</td>\n",
       "      <td>3849</td>\n",
       "      <td>1159</td>\n",
       "      <td>belleza-y-cuidado-personal</td>\n",
       "    </tr>\n",
       "    <tr>\n",
       "      <th>1106</th>\n",
       "      <td>Leche en Polvo Nido Forticrece Sin lactosa 1440g</td>\n",
       "      <td>Nido</td>\n",
       "      <td>0</td>\n",
       "      <td>14550</td>\n",
       "      <td>18899</td>\n",
       "      <td>4349</td>\n",
       "      <td>lacteos</td>\n",
       "    </tr>\n",
       "  </tbody>\n",
       "</table>\n",
       "</div>"
      ],
      "text/plain": [
       "                                                 title     Marca  \\\n",
       "1097         Helado multipack Frugelé 18 un, 60 ml c/u   Bresler   \n",
       "1098                Jabón barra original 3 un, de 90 g      Dove   \n",
       "1099                     Shampoo Fuerza Extrema 400 ml  Dove Men   \n",
       "1100   Postre helado chocolate blanco frambuesa 900 ml    Magnum   \n",
       "1101               Postre helado chocolate nuss 900 ml    Magnum   \n",
       "1102                  Helado bresler pote cassata 2,4l   Bresler   \n",
       "1103   Helado Trisabor chocolate lúcuma y manjar 2,4 L   Bresler   \n",
       "1104            Shampoo Reconstrucción Completa 400 ml      Dove   \n",
       "1105         Acondicionador Hidratación Intensa 400 ml      Dove   \n",
       "1106  Leche en Polvo Nido Forticrece Sin lactosa 1440g      Nido   \n",
       "\n",
       "      Preco_Normal  Preco_Desconto  Preco_Anterior  Desconto  \\\n",
       "1097             0            4509            5499       990   \n",
       "1098             0            2659            3659      1000   \n",
       "1099             0            2690            3699      1009   \n",
       "1100             0            4279            5349      1070   \n",
       "1101             0            4279            5349      1070   \n",
       "1102             0            4359            5449      1090   \n",
       "1103             0            4359            5449      1090   \n",
       "1104             0            2690            3849      1159   \n",
       "1105             0            2690            3849      1159   \n",
       "1106             0           14550           18899      4349   \n",
       "\n",
       "                       Categoria  \n",
       "1097                  congelados  \n",
       "1098  belleza-y-cuidado-personal  \n",
       "1099  belleza-y-cuidado-personal  \n",
       "1100                  congelados  \n",
       "1101                  congelados  \n",
       "1102                  congelados  \n",
       "1103                  congelados  \n",
       "1104  belleza-y-cuidado-personal  \n",
       "1105  belleza-y-cuidado-personal  \n",
       "1106                     lacteos  "
      ]
     },
     "execution_count": 3,
     "metadata": {},
     "output_type": "execute_result"
    }
   ],
   "source": [
    "df = pd.read_csv(\"MODULO7_PROJETOFINAL_BASE_SUPERMERCADO.csv\")\n",
    "\n",
    "df.tail(10)"
   ]
  },
  {
   "cell_type": "markdown",
   "metadata": {
    "id": "YJgKJ7Nxwtw2"
   },
   "source": [
    "Os campos do nosso dataframe são:\n",
    "\n",
    "**Title:** Nome do produto.\n",
    "\n",
    "\n",
    "**Marca:** A marca do produto.\n",
    "\n",
    "\n",
    "**Preco_Normal:** O preço em que o produto costuma ser vendido quando não há desconto.\n",
    "\n",
    "\n",
    "**Preco_Desconto:** O preço vendido após o desconto ser aplicado.\n",
    "\n",
    "\n",
    "**Preco_Anterior:** Preço em que era comercializado o produto antes do desconto aplicado.\n",
    "\n",
    "\n",
    "**Desconto:** Total de desconto aplicado.\n",
    "\n",
    "\n",
    "\n",
    "\n",
    "\n",
    "\n",
    "As colunas que aparecem com valores 0 são para os produtos onde não tivemos descontos aplicados.\n",
    "\n",
    "\n",
    "As categorias estão em espanhol!"
   ]
  },
  {
   "cell_type": "markdown",
   "metadata": {
    "id": "4u6WBeyyy6ri"
   },
   "source": [
    "# 1 - Traga a média e a mediana dos preços - coluna Preco_Normal - por categoria de produto.\n",
    "# Identifique as categorias que parecem ter um valor de média abaixo ou acima da mediana."
   ]
  },
  {
   "cell_type": "code",
   "execution_count": 12,
   "metadata": {
    "id": "E7B7FolOzVcJ"
   },
   "outputs": [
    {
     "data": {
      "application/vnd.microsoft.datawrangler.viewer.v0+json": {
       "columns": [
        {
         "name": "Categoria",
         "rawType": "object",
         "type": "string"
        },
        {
         "name": "mean",
         "rawType": "float64",
         "type": "float"
        },
        {
         "name": "median",
         "rawType": "float64",
         "type": "float"
        }
       ],
       "ref": "d0b76007-3903-4aee-ae75-67c541f87669",
       "rows": [
        [
         "belleza-y-cuidado-personal",
         "1783.5564853556486",
         "1569.0"
        ],
        [
         "comidas-preparadas",
         "3095.0434782608695",
         "3290.0"
        ],
        [
         "congelados",
         "2108.0425531914893",
         "1519.0"
        ],
        [
         "frutas",
         "1724.4736842105262",
         "1195.0"
        ],
        [
         "instantaneos-y-sopas",
         "765.4912280701755",
         "439.0"
        ],
        [
         "lacteos",
         "2385.219239373602",
         "989.0"
        ],
        [
         "verduras",
         "1343.296875",
         "1180.0"
        ]
       ],
       "shape": {
        "columns": 2,
        "rows": 7
       }
      },
      "text/html": [
       "<div>\n",
       "<style scoped>\n",
       "    .dataframe tbody tr th:only-of-type {\n",
       "        vertical-align: middle;\n",
       "    }\n",
       "\n",
       "    .dataframe tbody tr th {\n",
       "        vertical-align: top;\n",
       "    }\n",
       "\n",
       "    .dataframe thead th {\n",
       "        text-align: right;\n",
       "    }\n",
       "</style>\n",
       "<table border=\"1\" class=\"dataframe\">\n",
       "  <thead>\n",
       "    <tr style=\"text-align: right;\">\n",
       "      <th></th>\n",
       "      <th>mean</th>\n",
       "      <th>median</th>\n",
       "    </tr>\n",
       "    <tr>\n",
       "      <th>Categoria</th>\n",
       "      <th></th>\n",
       "      <th></th>\n",
       "    </tr>\n",
       "  </thead>\n",
       "  <tbody>\n",
       "    <tr>\n",
       "      <th>belleza-y-cuidado-personal</th>\n",
       "      <td>1783.556485</td>\n",
       "      <td>1569.0</td>\n",
       "    </tr>\n",
       "    <tr>\n",
       "      <th>comidas-preparadas</th>\n",
       "      <td>3095.043478</td>\n",
       "      <td>3290.0</td>\n",
       "    </tr>\n",
       "    <tr>\n",
       "      <th>congelados</th>\n",
       "      <td>2108.042553</td>\n",
       "      <td>1519.0</td>\n",
       "    </tr>\n",
       "    <tr>\n",
       "      <th>frutas</th>\n",
       "      <td>1724.473684</td>\n",
       "      <td>1195.0</td>\n",
       "    </tr>\n",
       "    <tr>\n",
       "      <th>instantaneos-y-sopas</th>\n",
       "      <td>765.491228</td>\n",
       "      <td>439.0</td>\n",
       "    </tr>\n",
       "    <tr>\n",
       "      <th>lacteos</th>\n",
       "      <td>2385.219239</td>\n",
       "      <td>989.0</td>\n",
       "    </tr>\n",
       "    <tr>\n",
       "      <th>verduras</th>\n",
       "      <td>1343.296875</td>\n",
       "      <td>1180.0</td>\n",
       "    </tr>\n",
       "  </tbody>\n",
       "</table>\n",
       "</div>"
      ],
      "text/plain": [
       "                                   mean  median\n",
       "Categoria                                      \n",
       "belleza-y-cuidado-personal  1783.556485  1569.0\n",
       "comidas-preparadas          3095.043478  3290.0\n",
       "congelados                  2108.042553  1519.0\n",
       "frutas                      1724.473684  1195.0\n",
       "instantaneos-y-sopas         765.491228   439.0\n",
       "lacteos                     2385.219239   989.0\n",
       "verduras                    1343.296875  1180.0"
      ]
     },
     "execution_count": 12,
     "metadata": {},
     "output_type": "execute_result"
    }
   ],
   "source": [
    "media_mediana = df.groupby('Categoria')['Preco_Normal'].agg(['mean','median'])\n",
    "media_mediana"
   ]
  },
  {
   "cell_type": "code",
   "execution_count": 19,
   "metadata": {
    "id": "Rwf4V3hnzZwh"
   },
   "outputs": [
    {
     "name": "stdout",
     "output_type": "stream",
     "text": [
      "Categorias com média acima da mediana:\n",
      "\n",
      "belleza-y-cuidado-personal\n",
      "congelados\n",
      "frutas\n",
      "instantaneos-y-sopas\n",
      "lacteos\n",
      "verduras\n",
      "\n",
      "Categorias com a média abaixo da mediana:\n",
      "\n",
      "comidas-preparadas\n"
     ]
    }
   ],
   "source": [
    "print('Categorias com média acima da mediana:\\n')\n",
    "for i in media_mediana[media_mediana['mean'] > media_mediana['median']].index.tolist():\n",
    "    print(i)\n",
    "print('\\nCategorias com a média abaixo da mediana:\\n')\n",
    "for i in media_mediana[media_mediana['mean'] < media_mediana['median']].index.tolist():\n",
    "    print(i)"
   ]
  },
  {
   "cell_type": "markdown",
   "metadata": {
    "id": "nKBFOh-mzyWX"
   },
   "source": [
    "Digite aqui as categorias:\n",
    "\n",
    "Categorias com média acima da mediana:\n",
    "\n",
    "belleza-y-cuidado-personal\n",
    "congelados\n",
    "frutas\n",
    "instantaneos-y-sopas\n",
    "lacteos\n",
    "verduras\n",
    "\n",
    "Categorias com a média abaixo da mediana:\n",
    "\n",
    "comidas-preparadas"
   ]
  },
  {
   "cell_type": "markdown",
   "metadata": {
    "id": "jdHZurzDzca0"
   },
   "source": [
    "# 2 - Traga o desvio padrão por categoria de produto.\n",
    "# Qual o comportamento da média e mediana nas categorias com maior desvio?"
   ]
  },
  {
   "cell_type": "code",
   "execution_count": 26,
   "metadata": {
    "id": "xEXT1gtoz135"
   },
   "outputs": [
    {
     "data": {
      "application/vnd.microsoft.datawrangler.viewer.v0+json": {
       "columns": [
        {
         "name": "Categoria",
         "rawType": "object",
         "type": "string"
        },
        {
         "name": "mean",
         "rawType": "float64",
         "type": "float"
        },
        {
         "name": "median",
         "rawType": "float64",
         "type": "float"
        },
        {
         "name": "std",
         "rawType": "float64",
         "type": "float"
        },
        {
         "name": "diferenca_media_mediana",
         "rawType": "float64",
         "type": "float"
        }
       ],
       "ref": "9b332ed5-0a28-4ae7-9b62-20ff1d89383b",
       "rows": [
        [
         "lacteos",
         "2385.219239373602",
         "989.0",
         "3925.816163898049",
         "1396.2192393736018"
        ],
        [
         "belleza-y-cuidado-personal",
         "1783.5564853556486",
         "1569.0",
         "2210.0417188611896",
         "214.55648535564865"
        ],
        [
         "congelados",
         "2108.0425531914893",
         "1519.0",
         "2111.5398961952437",
         "589.0425531914893"
        ],
        [
         "comidas-preparadas",
         "3095.0434782608695",
         "3290.0",
         "2019.9114277228618",
         "-194.9565217391305"
        ],
        [
         "frutas",
         "1724.4736842105262",
         "1195.0",
         "1639.1511139211677",
         "529.4736842105262"
        ],
        [
         "instantaneos-y-sopas",
         "765.4912280701755",
         "439.0",
         "1170.2328694203045",
         "326.49122807017545"
        ],
        [
         "verduras",
         "1343.296875",
         "1180.0",
         "1012.6996245254012",
         "163.296875"
        ]
       ],
       "shape": {
        "columns": 4,
        "rows": 7
       }
      },
      "text/html": [
       "<div>\n",
       "<style scoped>\n",
       "    .dataframe tbody tr th:only-of-type {\n",
       "        vertical-align: middle;\n",
       "    }\n",
       "\n",
       "    .dataframe tbody tr th {\n",
       "        vertical-align: top;\n",
       "    }\n",
       "\n",
       "    .dataframe thead th {\n",
       "        text-align: right;\n",
       "    }\n",
       "</style>\n",
       "<table border=\"1\" class=\"dataframe\">\n",
       "  <thead>\n",
       "    <tr style=\"text-align: right;\">\n",
       "      <th></th>\n",
       "      <th>mean</th>\n",
       "      <th>median</th>\n",
       "      <th>std</th>\n",
       "      <th>diferenca_media_mediana</th>\n",
       "    </tr>\n",
       "    <tr>\n",
       "      <th>Categoria</th>\n",
       "      <th></th>\n",
       "      <th></th>\n",
       "      <th></th>\n",
       "      <th></th>\n",
       "    </tr>\n",
       "  </thead>\n",
       "  <tbody>\n",
       "    <tr>\n",
       "      <th>lacteos</th>\n",
       "      <td>2385.219239</td>\n",
       "      <td>989.0</td>\n",
       "      <td>3925.816164</td>\n",
       "      <td>1396.219239</td>\n",
       "    </tr>\n",
       "    <tr>\n",
       "      <th>belleza-y-cuidado-personal</th>\n",
       "      <td>1783.556485</td>\n",
       "      <td>1569.0</td>\n",
       "      <td>2210.041719</td>\n",
       "      <td>214.556485</td>\n",
       "    </tr>\n",
       "    <tr>\n",
       "      <th>congelados</th>\n",
       "      <td>2108.042553</td>\n",
       "      <td>1519.0</td>\n",
       "      <td>2111.539896</td>\n",
       "      <td>589.042553</td>\n",
       "    </tr>\n",
       "    <tr>\n",
       "      <th>comidas-preparadas</th>\n",
       "      <td>3095.043478</td>\n",
       "      <td>3290.0</td>\n",
       "      <td>2019.911428</td>\n",
       "      <td>-194.956522</td>\n",
       "    </tr>\n",
       "    <tr>\n",
       "      <th>frutas</th>\n",
       "      <td>1724.473684</td>\n",
       "      <td>1195.0</td>\n",
       "      <td>1639.151114</td>\n",
       "      <td>529.473684</td>\n",
       "    </tr>\n",
       "    <tr>\n",
       "      <th>instantaneos-y-sopas</th>\n",
       "      <td>765.491228</td>\n",
       "      <td>439.0</td>\n",
       "      <td>1170.232869</td>\n",
       "      <td>326.491228</td>\n",
       "    </tr>\n",
       "    <tr>\n",
       "      <th>verduras</th>\n",
       "      <td>1343.296875</td>\n",
       "      <td>1180.0</td>\n",
       "      <td>1012.699625</td>\n",
       "      <td>163.296875</td>\n",
       "    </tr>\n",
       "  </tbody>\n",
       "</table>\n",
       "</div>"
      ],
      "text/plain": [
       "                                   mean  median          std  \\\n",
       "Categoria                                                      \n",
       "lacteos                     2385.219239   989.0  3925.816164   \n",
       "belleza-y-cuidado-personal  1783.556485  1569.0  2210.041719   \n",
       "congelados                  2108.042553  1519.0  2111.539896   \n",
       "comidas-preparadas          3095.043478  3290.0  2019.911428   \n",
       "frutas                      1724.473684  1195.0  1639.151114   \n",
       "instantaneos-y-sopas         765.491228   439.0  1170.232869   \n",
       "verduras                    1343.296875  1180.0  1012.699625   \n",
       "\n",
       "                            diferenca_media_mediana  \n",
       "Categoria                                            \n",
       "lacteos                                 1396.219239  \n",
       "belleza-y-cuidado-personal               214.556485  \n",
       "congelados                               589.042553  \n",
       "comidas-preparadas                      -194.956522  \n",
       "frutas                                   529.473684  \n",
       "instantaneos-y-sopas                     326.491228  \n",
       "verduras                                 163.296875  "
      ]
     },
     "execution_count": 26,
     "metadata": {},
     "output_type": "execute_result"
    }
   ],
   "source": [
    "df_desvio_padrao = df.groupby('Categoria')['Preco_Normal'].agg(['mean','median','std'])\n",
    "df_desvio_padrao['diferenca_media_mediana'] = df_desvio_padrao['mean'] - df_desvio_padrao['median']\n",
    "df_desvio_padrao.sort_values('std', ascending=False, inplace=True)\n",
    "df_desvio_padrao"
   ]
  },
  {
   "cell_type": "markdown",
   "metadata": {
    "id": "HzsLO4nOz3yJ"
   },
   "source": [
    "A categoria com maior desvio padrão também apresenta o maior valor de diferença entre a média e a mediana, já a categoria com o segundo maior desvio padrão é a que mostra a menor diferença entre as duas. Isso indica que a segunda categoria com o maior desvio padrão deve ter uma distribuição que se assemelha com a normal só que \"achatada\"."
   ]
  },
  {
   "cell_type": "markdown",
   "metadata": {
    "id": "4aW51rCHBr2w"
   },
   "source": [
    "# 3 - Plot um boxplot da distribuição do Preco_Normal para a categoria que você identificou que tem o maior desvio padrão. Como é a distribuição desses dados segundo o boxplot? Você identifica muitos outliers?"
   ]
  },
  {
   "cell_type": "markdown",
   "metadata": {
    "id": "kwPKkUZnEUSb"
   },
   "source": [
    "Dica: Para trazer apenas os dados da categoria que você deseja você pode usar o df.loc[df['Categoria'] == 'CATEGORIA ESCOLHIDA'"
   ]
  },
  {
   "cell_type": "code",
   "execution_count": 29,
   "metadata": {
    "id": "_02thblTCKEF"
   },
   "outputs": [
    {
     "data": {
      "text/plain": [
       "<Axes: >"
      ]
     },
     "execution_count": 29,
     "metadata": {},
     "output_type": "execute_result"
    },
    {
     "data": {
      "image/png": "[encoded data removed]",
      "text/plain": [
       "<Figure size 640x480 with 1 Axes>"
      ]
     },
     "metadata": {},
     "output_type": "display_data"
    }
   ],
   "source": [
    "df[df['Categoria'] == 'lacteos']['Preco_Normal'].plot(kind = 'box')"
   ]
  },
  {
   "cell_type": "markdown",
   "metadata": {
    "id": "w5xgQBC_0Hg-"
   },
   "source": [
    "# 4 - Plote um gráfico de barras onde temos a média de descontos por categoria."
   ]
  },
  {
   "cell_type": "code",
   "execution_count": 33,
   "metadata": {
    "id": "DBj5zAdI0QfI"
   },
   "outputs": [
    {
     "data": {
      "text/plain": [
       "<Axes: xlabel='Categoria'>"
      ]
     },
     "execution_count": 33,
     "metadata": {},
     "output_type": "execute_result"
    },
    {
     "data": {
      "image/png": "[encoded data removed]",
      "text/plain": [
       "<Figure size 640x480 with 1 Axes>"
      ]
     },
     "metadata": {},
     "output_type": "display_data"
    }
   ],
   "source": [
    "df.groupby('Categoria')['Desconto'].mean().plot(kind='bar')"
   ]
  },
  {
   "cell_type": "markdown",
   "metadata": {
    "id": "vqlx0w7E07uC"
   },
   "source": [
    "# 5 - Plote um gráfico de mapa interativo agrupando os dados por categoria, marca e trazendo a média de desconto."
   ]
  },
  {
   "cell_type": "code",
   "execution_count": 38,
   "metadata": {
    "id": "D-JWM64Q1NzB"
   },
   "outputs": [
    {
     "data": {
      "application/vnd.plotly.v1+json": {
       "config": {
        "plotlyServerURL": "https://plot.ly"
       },
       "data": [
        {
         "branchvalues": "total",
         "customdata": {
          "bdata": "AAAAAADwXkCrqqqqqsp7QAAAAAAAcIJAAAAAAAAA+P+rqqqqqgpBQAAAAAAAAPj/AAAAAABQhEAAAAAAAAD4/wAAAAAAAPj/YhiGYRhGXUAAAAAAAAD4/wAAAAAAAPj/AAAAAAAA+P/e3d3d3d16QAAAAAAAiG9AAAAAAAAA+P8AAAAAAAD4/wAAAAAAAPj/AAAAAAAA+P8AAAAAAAD4/wAAAAAAAPj/AAAAAAAA+P8AAAAAAAD4/wAAAAAAAPj/AAAAAAAA+P8AAAAAAAD4/wAAAAAAAPj/AAAAAAAA+P9VVVVVVZVLQAAAAAAAAPj/VFVVVVW1V0AAAAAAAAD4/wAAAAAAAPj/AAAAAAAA+P8AAAAAAAD4/wAAAAAAAPj/AAAAAAAA+P9ddNFFF91ZQAAAAAAAAPj/AAAAAADoiEA5juM4jiNWQG7btm3bZoVAVVVVVVWFdUAAAAAAAAD4/wAAAAAACHNAAAAAAACghEAAAAAAANiIQAAAAAAAoIRAAAAAAADYiEAAAAAAAAD4/wAAAAAAAPj/AAAAAAAA+P8AAAAAAAD4/wAAAAAAwHJAAAAAAAAA+P8AAAAAAAD4/wAAAAAAAPj/AAAAAAAA+P8AAAAAAAD4/wAAAAAAAPj/AAAAAAAA+P8AAAAAAAD4/wAAAAAAAPj/AAAAAAAAaUAAAAAAAAD4/wAAAAAAAPj/AAAAAAAA+P8AAAAAAAD4/wAAAAAAAPj/AAAAAAAA+P9JkiRJktx6QAAAAAAAWHZAsPiKr/iKYkAAAAAAAAD4/4mIiIiICGFAAAAAAAAA+P8AAAAAAAD4/wAAAAAAAPj/AAAAAADYjUAAAAAAAIiEQAAAAAAAgDNAAAAAAAAA+P8AAAAAAEBqQAAAAAAAAPj/AAAAAAAA+P8AAAAAAAD4/wAAAAAAAPj/AAAAAAAA+P8AAAAAAAD4/wAAAAAAAPj/AAAAAACIZEAAAAAAAAD4/wAAAAAAgFFAAAAAAICCfEAAAAAAAABeQAAAAAAAAPj/AAAAAAAA+P8AAAAAAAD4/wAAAAAAAPj/AAAAAAAQgUAAAAAAAAD4/wAAAAAAAPj/AAAAAAAA+P8AAAAAAAD4/wAAAAAAAPj/AAAAAAAA+P8AAAAAAAD4/wAAAAAAAPj/AAAAAAAA+P8AAAAAAAD4/wAAAAAAAPj/AAAAAAAA+P8AAAAAAAD4/wAAAAAAAPj/AAAAAAAA+P8AAAAAAAD4/wAAAAAAAPj/AAAAAAAA+P8AAAAAAAD4/wAAAAAAAPj/AAAAAAAA+P8AAAAAAAD4/wAAAAAAAPj/AAAAAAAA+P8AAAAAAAD4/zIpXiCT4hFAAAAAAAAA+P8AAAAAAAD4/9FFF110UTBAAAAAAAAA+P8AAAAAAAD4/wAAAAAAAPj/AAAAAAAA+P8AAAAAAAD4/wAAAAAAAPj/AAAAAAAA+P8AAAAAAAD4/wAAAAAAAPj/AAAAAAAA+P8AAAAAAAD4/xJ3xB1xR/w/AAAAAAAA+P9mZmZmZi6LQAAAAAAAAGRAAAAAAAAA+P8AAAAAAAD4/wAAAAAAAPj/AAAAAAAA+P8AAAAAAAD4/wAAAAAAAPj/AAAAAAAA+P8AAAAAAAD4/wAAAAAAAPj/AAAAAACwYkAAAAAAAAD4/wAAAAAAAPj/tbS0tLS0JUAAAAAAAAD4/wAAAAAAUHBAAAAAAAAA+P8AAAAAAAD4/wAAAAAAAPj/AAAAAAAA+P8AAAAAAAD4/wAAAAAAAPj/AAAAAAAA+P8AAAAAAAD4/y4q4hWDFoJAAAAAAAAAaUAJ5CS9ksmAQAAAAAAAAPj/AAAAAAAA+P86wRvVOYOCQAAAAAAAAPj/",
          "dtype": "f8",
          "shape": "174, 1"
         },
         "domain": {
          "x": [
           0,
           1
          ],
          "y": [
           0,
           1
          ]
         },
         "hovertemplate": "labels=%{label}<br>Desconto_sum=%{value}<br>parent=%{parent}<br>id=%{id}<br>Desconto=%{color}<extra></extra>",
         "ids": [
          "belleza-y-cuidado-personal/Always",
          "belleza-y-cuidado-personal/Aquafresh",
          "belleza-y-cuidado-personal/Axe",
          "belleza-y-cuidado-personal/Babyland",
          "belleza-y-cuidado-personal/Ballerina",
          "belleza-y-cuidado-personal/Bellekiss",
          "belleza-y-cuidado-personal/BiO",
          "belleza-y-cuidado-personal/Brooks",
          "belleza-y-cuidado-personal/Carefree",
          "belleza-y-cuidado-personal/Colgate",
          "belleza-y-cuidado-personal/Cotidian",
          "belleza-y-cuidado-personal/Cotosan",
          "belleza-y-cuidado-personal/Dento",
          "belleza-y-cuidado-personal/Dove",
          "belleza-y-cuidado-personal/Dove Men",
          "belleza-y-cuidado-personal/Duralón",
          "belleza-y-cuidado-personal/Elite",
          "belleza-y-cuidado-personal/Elvive",
          "belleza-y-cuidado-personal/Familand",
          "belleza-y-cuidado-personal/Family Care",
          "belleza-y-cuidado-personal/Fructis",
          "belleza-y-cuidado-personal/Garnier",
          "belleza-y-cuidado-personal/Gillette",
          "belleza-y-cuidado-personal/Giselle",
          "belleza-y-cuidado-personal/Head & Shoulders",
          "belleza-y-cuidado-personal/Herbal",
          "belleza-y-cuidado-personal/Herbal Essences",
          "belleza-y-cuidado-personal/Ilicit",
          "belleza-y-cuidado-personal/Kotex",
          "belleza-y-cuidado-personal/Lady Speed Stick",
          "belleza-y-cuidado-personal/Ladysoft",
          "belleza-y-cuidado-personal/Le Sancy",
          "belleza-y-cuidado-personal/Linic",
          "belleza-y-cuidado-personal/Listerine",
          "belleza-y-cuidado-personal/Naturella",
          "belleza-y-cuidado-personal/Nivea",
          "belleza-y-cuidado-personal/Nivea For Men",
          "belleza-y-cuidado-personal/Nosotras",
          "belleza-y-cuidado-personal/Old Spice",
          "belleza-y-cuidado-personal/Oral Fresh",
          "belleza-y-cuidado-personal/Oral-B",
          "belleza-y-cuidado-personal/Pantene",
          "belleza-y-cuidado-personal/Pepsodent",
          "belleza-y-cuidado-personal/Plenitud",
          "belleza-y-cuidado-personal/Protex",
          "belleza-y-cuidado-personal/Rexona",
          "belleza-y-cuidado-personal/Rexona Clinical",
          "belleza-y-cuidado-personal/Rexona Men",
          "belleza-y-cuidado-personal/Rexona Men Clinical",
          "belleza-y-cuidado-personal/Schick",
          "belleza-y-cuidado-personal/Sedal",
          "belleza-y-cuidado-personal/Sensodyne",
          "belleza-y-cuidado-personal/Simond'S",
          "belleza-y-cuidado-personal/Simonds",
          "belleza-y-cuidado-personal/Speed Stick",
          "belleza-y-cuidado-personal/Tena",
          "belleza-y-cuidado-personal/Trianon",
          "belleza-y-cuidado-personal/Tío Nacho",
          "belleza-y-cuidado-personal/Vanart",
          "comidas-preparadas/Bredenmaster",
          "comidas-preparadas/Corbac",
          "comidas-preparadas/Cuisine & Co",
          "comidas-preparadas/La Crianza",
          "comidas-preparadas/PF",
          "comidas-preparadas/Rana",
          "comidas-preparadas/Sadia",
          "comidas-preparadas/Santa Isabel",
          "comidas-preparadas/Solo Italia",
          "congelados/Alimentos Shen",
          "congelados/Bravissimo",
          "congelados/Bresler",
          "congelados/Carte Dor",
          "congelados/Cuisine & Co",
          "congelados/Fiesta",
          "congelados/Frutos Del Maipo",
          "congelados/Guallarauco",
          "congelados/King",
          "congelados/La Crianza",
          "congelados/Magnum",
          "congelados/Mega",
          "congelados/Minuto Verde",
          "congelados/Mister Veggie",
          "congelados/Not Burger",
          "congelados/Not Chicken",
          "congelados/Not Ice Cream",
          "congelados/PF",
          "congelados/Receta Del Abuelo",
          "congelados/Rikü",
          "congelados/Rock",
          "congelados/Sadia",
          "congelados/Sahne Nuss",
          "congelados/San Francisco De Loncomilla",
          "congelados/San Jorge",
          "congelados/Savory",
          "congelados/Super Beef",
          "congelados/Super Cerdo",
          "congelados/Super Pollo",
          "congelados/Tivoni",
          "congelados/Turkey Hill",
          "congelados/Viennetta Bresler",
          "congelados/Zole",
          "frutas/Frutas Y Verduras Propias",
          "frutas/Frutas Y Verduras Santa Isabel",
          "frutas/Sofruco",
          "instantaneos-y-sopas/Alcafood",
          "instantaneos-y-sopas/Carozzi",
          "instantaneos-y-sopas/Cuisine & Co",
          "instantaneos-y-sopas/Gourmet",
          "instantaneos-y-sopas/Hoffmann",
          "instantaneos-y-sopas/Maggi",
          "instantaneos-y-sopas/Máxima MP",
          "instantaneos-y-sopas/Naturezza",
          "instantaneos-y-sopas/Santa Isabel",
          "instantaneos-y-sopas/Traverso",
          "lacteos/1+1 Soprole",
          "lacteos/Activia",
          "lacteos/Astra",
          "lacteos/Base Culinar",
          "lacteos/Bonella",
          "lacteos/Calan",
          "lacteos/Calo",
          "lacteos/Chamyto",
          "lacteos/Chiquitín",
          "lacteos/Cintazul",
          "lacteos/Collico",
          "lacteos/Colun",
          "lacteos/Copacabana",
          "lacteos/Crucina",
          "lacteos/Cuisine & Co",
          "lacteos/Danone",
          "lacteos/Deline",
          "lacteos/Ideal",
          "lacteos/Kumey",
          "lacteos/Lefersa",
          "lacteos/Light & Free",
          "lacteos/Loncoleche",
          "lacteos/Los Alerces",
          "lacteos/Marco Polo",
          "lacteos/Máxima MP",
          "lacteos/Nesquik",
          "lacteos/Nestlé",
          "lacteos/Next",
          "lacteos/Nido",
          "lacteos/Not Milk",
          "lacteos/Oikos",
          "lacteos/Omega 3",
          "lacteos/Pamperita",
          "lacteos/Qualy",
          "lacteos/Quillayes",
          "lacteos/Regimel",
          "lacteos/Sahne Nuss",
          "lacteos/San Ignacio",
          "lacteos/Santa Isabel",
          "lacteos/Santa Marta",
          "lacteos/Shake A Shake Lonco Leche",
          "lacteos/Signore Mario",
          "lacteos/Soprole",
          "lacteos/Soprole Activ",
          "lacteos/Sureña",
          "lacteos/Surlat",
          "lacteos/Svelty",
          "lacteos/Yogu - Yogu",
          "lacteos/Zerolacto",
          "verduras/Agrosano",
          "verduras/Dole",
          "verduras/Frutas Y Verduras Propias",
          "verduras/Jumbo",
          "belleza-y-cuidado-personal",
          "comidas-preparadas",
          "congelados",
          "frutas",
          "instantaneos-y-sopas",
          "lacteos",
          "verduras"
         ],
         "labels": [
          "Always",
          "Aquafresh",
          "Axe",
          "Babyland",
          "Ballerina",
          "Bellekiss",
          "BiO",
          "Brooks",
          "Carefree",
          "Colgate",
          "Cotidian",
          "Cotosan",
          "Dento",
          "Dove",
          "Dove Men",
          "Duralón",
          "Elite",
          "Elvive",
          "Familand",
          "Family Care",
          "Fructis",
          "Garnier",
          "Gillette",
          "Giselle",
          "Head & Shoulders",
          "Herbal",
          "Herbal Essences",
          "Ilicit",
          "Kotex",
          "Lady Speed Stick",
          "Ladysoft",
          "Le Sancy",
          "Linic",
          "Listerine",
          "Naturella",
          "Nivea",
          "Nivea For Men",
          "Nosotras",
          "Old Spice",
          "Oral Fresh",
          "Oral-B",
          "Pantene",
          "Pepsodent",
          "Plenitud",
          "Protex",
          "Rexona",
          "Rexona Clinical",
          "Rexona Men",
          "Rexona Men Clinical",
          "Schick",
          "Sedal",
          "Sensodyne",
          "Simond'S",
          "Simonds",
          "Speed Stick",
          "Tena",
          "Trianon",
          "Tío Nacho",
          "Vanart",
          "Bredenmaster",
          "Corbac",
          "Cuisine & Co",
          "La Crianza",
          "PF",
          "Rana",
          "Sadia",
          "Santa Isabel",
          "Solo Italia",
          "Alimentos Shen",
          "Bravissimo",
          "Bresler",
          "Carte Dor",
          "Cuisine & Co",
          "Fiesta",
          "Frutos Del Maipo",
          "Guallarauco",
          "King",
          "La Crianza",
          "Magnum",
          "Mega",
          "Minuto Verde",
          "Mister Veggie",
          "Not Burger",
          "Not Chicken",
          "Not Ice Cream",
          "PF",
          "Receta Del Abuelo",
          "Rikü",
          "Rock",
          "Sadia",
          "Sahne Nuss",
          "San Francisco De Loncomilla",
          "San Jorge",
          "Savory",
          "Super Beef",
          "Super Cerdo",
          "Super Pollo",
          "Tivoni",
          "Turkey Hill",
          "Viennetta Bresler",
          "Zole",
          "Frutas Y Verduras Propias",
          "Frutas Y Verduras Santa Isabel",
          "Sofruco",
          "Alcafood",
          "Carozzi",
          "Cuisine & Co",
          "Gourmet",
          "Hoffmann",
          "Maggi",
          "Máxima MP",
          "Naturezza",
          "Santa Isabel",
          "Traverso",
          "1+1 Soprole",
          "Activia",
          "Astra",
          "Base Culinar",
          "Bonella",
          "Calan",
          "Calo",
          "Chamyto",
          "Chiquitín",
          "Cintazul",
          "Collico",
          "Colun",
          "Copacabana",
          "Crucina",
          "Cuisine & Co",
          "Danone",
          "Deline",
          "Ideal",
          "Kumey",
          "Lefersa",
          "Light & Free",
          "Loncoleche",
          "Los Alerces",
          "Marco Polo",
          "Máxima MP",
          "Nesquik",
          "Nestlé",
          "Next",
          "Nido",
          "Not Milk",
          "Oikos",
          "Omega 3",
          "Pamperita",
          "Qualy",
          "Quillayes",
          "Regimel",
          "Sahne Nuss",
          "San Ignacio",
          "Santa Isabel",
          "Santa Marta",
          "Shake A Shake Lonco Leche",
          "Signore Mario",
          "Soprole",
          "Soprole Activ",
          "Sureña",
          "Surlat",
          "Svelty",
          "Yogu - Yogu",
          "Zerolacto",
          "Agrosano",
          "Dole",
          "Frutas Y Verduras Propias",
          "Jumbo",
          "belleza-y-cuidado-personal",
          "comidas-preparadas",
          "congelados",
          "frutas",
          "instantaneos-y-sopas",
          "lacteos",
          "verduras"
         ],
         "marker": {
          "coloraxis": "coloraxis",
          "colors": {
           "bdata": "AAAAAADwXkCrqqqqqsp7QAAAAAAAcIJAAAAAAAAA+P+rqqqqqgpBQAAAAAAAAPj/AAAAAABQhEAAAAAAAAD4/wAAAAAAAPj/YhiGYRhGXUAAAAAAAAD4/wAAAAAAAPj/AAAAAAAA+P/e3d3d3d16QAAAAAAAiG9AAAAAAAAA+P8AAAAAAAD4/wAAAAAAAPj/AAAAAAAA+P8AAAAAAAD4/wAAAAAAAPj/AAAAAAAA+P8AAAAAAAD4/wAAAAAAAPj/AAAAAAAA+P8AAAAAAAD4/wAAAAAAAPj/AAAAAAAA+P9VVVVVVZVLQAAAAAAAAPj/VFVVVVW1V0AAAAAAAAD4/wAAAAAAAPj/AAAAAAAA+P8AAAAAAAD4/wAAAAAAAPj/AAAAAAAA+P9ddNFFF91ZQAAAAAAAAPj/AAAAAADoiEA5juM4jiNWQG7btm3bZoVAVVVVVVWFdUAAAAAAAAD4/wAAAAAACHNAAAAAAACghEAAAAAAANiIQAAAAAAAoIRAAAAAAADYiEAAAAAAAAD4/wAAAAAAAPj/AAAAAAAA+P8AAAAAAAD4/wAAAAAAwHJAAAAAAAAA+P8AAAAAAAD4/wAAAAAAAPj/AAAAAAAA+P8AAAAAAAD4/wAAAAAAAPj/AAAAAAAA+P8AAAAAAAD4/wAAAAAAAPj/AAAAAAAAaUAAAAAAAAD4/wAAAAAAAPj/AAAAAAAA+P8AAAAAAAD4/wAAAAAAAPj/AAAAAAAA+P9JkiRJktx6QAAAAAAAWHZAsPiKr/iKYkAAAAAAAAD4/4mIiIiICGFAAAAAAAAA+P8AAAAAAAD4/wAAAAAAAPj/AAAAAADYjUAAAAAAAIiEQAAAAAAAgDNAAAAAAAAA+P8AAAAAAEBqQAAAAAAAAPj/AAAAAAAA+P8AAAAAAAD4/wAAAAAAAPj/AAAAAAAA+P8AAAAAAAD4/wAAAAAAAPj/AAAAAACIZEAAAAAAAAD4/wAAAAAAgFFAAAAAAICCfEAAAAAAAABeQAAAAAAAAPj/AAAAAAAA+P8AAAAAAAD4/wAAAAAAAPj/AAAAAAAQgUAAAAAAAAD4/wAAAAAAAPj/AAAAAAAA+P8AAAAAAAD4/wAAAAAAAPj/AAAAAAAA+P8AAAAAAAD4/wAAAAAAAPj/AAAAAAAA+P8AAAAAAAD4/wAAAAAAAPj/AAAAAAAA+P8AAAAAAAD4/wAAAAAAAPj/AAAAAAAA+P8AAAAAAAD4/wAAAAAAAPj/AAAAAAAA+P8AAAAAAAD4/wAAAAAAAPj/AAAAAAAA+P8AAAAAAAD4/wAAAAAAAPj/AAAAAAAA+P8AAAAAAAD4/zIpXiCT4hFAAAAAAAAA+P8AAAAAAAD4/9FFF110UTBAAAAAAAAA+P8AAAAAAAD4/wAAAAAAAPj/AAAAAAAA+P8AAAAAAAD4/wAAAAAAAPj/AAAAAAAA+P8AAAAAAAD4/wAAAAAAAPj/AAAAAAAA+P8AAAAAAAD4/xJ3xB1xR/w/AAAAAAAA+P9mZmZmZi6LQAAAAAAAAGRAAAAAAAAA+P8AAAAAAAD4/wAAAAAAAPj/AAAAAAAA+P8AAAAAAAD4/wAAAAAAAPj/AAAAAAAA+P8AAAAAAAD4/wAAAAAAAPj/AAAAAACwYkAAAAAAAAD4/wAAAAAAAPj/tbS0tLS0JUAAAAAAAAD4/wAAAAAAUHBAAAAAAAAA+P8AAAAAAAD4/wAAAAAAAPj/AAAAAAAA+P8AAAAAAAD4/wAAAAAAAPj/AAAAAAAA+P8AAAAAAAD4/y4q4hWDFoJAAAAAAAAAaUAJ5CS9ksmAQAAAAAAAAPj/AAAAAAAA+P86wRvVOYOCQAAAAAAAAPj/",
           "dtype": "f8"
          }
         },
         "name": "",
         "parents": [
          "belleza-y-cuidado-personal",
          "belleza-y-cuidado-personal",
          "belleza-y-cuidado-personal",
          "belleza-y-cuidado-personal",
          "belleza-y-cuidado-personal",
          "belleza-y-cuidado-personal",
          "belleza-y-cuidado-personal",
          "belleza-y-cuidado-personal",
          "belleza-y-cuidado-personal",
          "belleza-y-cuidado-personal",
          "belleza-y-cuidado-personal",
          "belleza-y-cuidado-personal",
          "belleza-y-cuidado-personal",
          "belleza-y-cuidado-personal",
          "belleza-y-cuidado-personal",
          "belleza-y-cuidado-personal",
          "belleza-y-cuidado-personal",
          "belleza-y-cuidado-personal",
          "belleza-y-cuidado-personal",
          "belleza-y-cuidado-personal",
          "belleza-y-cuidado-personal",
          "belleza-y-cuidado-personal",
          "belleza-y-cuidado-personal",
          "belleza-y-cuidado-personal",
          "belleza-y-cuidado-personal",
          "belleza-y-cuidado-personal",
          "belleza-y-cuidado-personal",
          "belleza-y-cuidado-personal",
          "belleza-y-cuidado-personal",
          "belleza-y-cuidado-personal",
          "belleza-y-cuidado-personal",
          "belleza-y-cuidado-personal",
          "belleza-y-cuidado-personal",
          "belleza-y-cuidado-personal",
          "belleza-y-cuidado-personal",
          "belleza-y-cuidado-personal",
          "belleza-y-cuidado-personal",
          "belleza-y-cuidado-personal",
          "belleza-y-cuidado-personal",
          "belleza-y-cuidado-personal",
          "belleza-y-cuidado-personal",
          "belleza-y-cuidado-personal",
          "belleza-y-cuidado-personal",
          "belleza-y-cuidado-personal",
          "belleza-y-cuidado-personal",
          "belleza-y-cuidado-personal",
          "belleza-y-cuidado-personal",
          "belleza-y-cuidado-personal",
          "belleza-y-cuidado-personal",
          "belleza-y-cuidado-personal",
          "belleza-y-cuidado-personal",
          "belleza-y-cuidado-personal",
          "belleza-y-cuidado-personal",
          "belleza-y-cuidado-personal",
          "belleza-y-cuidado-personal",
          "belleza-y-cuidado-personal",
          "belleza-y-cuidado-personal",
          "belleza-y-cuidado-personal",
          "belleza-y-cuidado-personal",
          "comidas-preparadas",
          "comidas-preparadas",
          "comidas-preparadas",
          "comidas-preparadas",
          "comidas-preparadas",
          "comidas-preparadas",
          "comidas-preparadas",
          "comidas-preparadas",
          "comidas-preparadas",
          "congelados",
          "congelados",
          "congelados",
          "congelados",
          "congelados",
          "congelados",
          "congelados",
          "congelados",
          "congelados",
          "congelados",
          "congelados",
          "congelados",
          "congelados",
          "congelados",
          "congelados",
          "congelados",
          "congelados",
          "congelados",
          "congelados",
          "congelados",
          "congelados",
          "congelados",
          "congelados",
          "congelados",
          "congelados",
          "congelados",
          "congelados",
          "congelados",
          "congelados",
          "congelados",
          "congelados",
          "congelados",
          "congelados",
          "frutas",
          "frutas",
          "frutas",
          "instantaneos-y-sopas",
          "instantaneos-y-sopas",
          "instantaneos-y-sopas",
          "instantaneos-y-sopas",
          "instantaneos-y-sopas",
          "instantaneos-y-sopas",
          "instantaneos-y-sopas",
          "instantaneos-y-sopas",
          "instantaneos-y-sopas",
          "instantaneos-y-sopas",
          "lacteos",
          "lacteos",
          "lacteos",
          "lacteos",
          "lacteos",
          "lacteos",
          "lacteos",
          "lacteos",
          "lacteos",
          "lacteos",
          "lacteos",
          "lacteos",
          "lacteos",
          "lacteos",
          "lacteos",
          "lacteos",
          "lacteos",
          "lacteos",
          "lacteos",
          "lacteos",
          "lacteos",
          "lacteos",
          "lacteos",
          "lacteos",
          "lacteos",
          "lacteos",
          "lacteos",
          "lacteos",
          "lacteos",
          "lacteos",
          "lacteos",
          "lacteos",
          "lacteos",
          "lacteos",
          "lacteos",
          "lacteos",
          "lacteos",
          "lacteos",
          "lacteos",
          "lacteos",
          "lacteos",
          "lacteos",
          "lacteos",
          "lacteos",
          "lacteos",
          "lacteos",
          "lacteos",
          "lacteos",
          "lacteos",
          "verduras",
          "verduras",
          "verduras",
          "verduras",
          "",
          "",
          "",
          "",
          "",
          "",
          ""
         ],
         "type": "treemap",
         "values": {
          "bdata": "AAAAAADwXkCrqqqqqsp7QAAAAAAAcIJAAAAAAAAAAACrqqqqqgpBQAAAAAAAAAAAAAAAAABQhEAAAAAAAAAAAAAAAAAAAAAAYhiGYRhGXUAAAAAAAAAAAAAAAAAAAAAAAAAAAAAAAADe3d3d3d16QAAAAAAAiG9AAAAAAAAAAAAAAAAAAAAAAAAAAAAAAAAAAAAAAAAAAAAAAAAAAAAAAAAAAAAAAAAAAAAAAAAAAAAAAAAAAAAAAAAAAAAAAAAAAAAAAAAAAAAAAAAAAAAAAAAAAAAAAAAAAAAAAAAAAABVVVVVVZVLQAAAAAAAAAAAVVVVVVW1V0AAAAAAAAAAAAAAAAAAAAAAAAAAAAAAAAAAAAAAAAAAAAAAAAAAAAAAAAAAAAAAAABddNFFF91ZQAAAAAAAAAAAAAAAAADoiEA5juM4jiNWQG7btm3bZoVAVVVVVVWFdUAAAAAAAAAAAAAAAAAACHNAAAAAAACghEAAAAAAANiIQAAAAAAAoIRAAAAAAADYiEAAAAAAAAAAAAAAAAAAAAAAAAAAAAAAAAAAAAAAAAAAAAAAAAAAwHJAAAAAAAAAAAAAAAAAAAAAAAAAAAAAAAAAAAAAAAAAAAAAAAAAAAAAAAAAAAAAAAAAAAAAAAAAAAAAAAAAAAAAAAAAAAAAAAAAAAAAAAAAaUAAAAAAAAAAAAAAAAAAAAAAAAAAAAAAAAAAAAAAAAAAAAAAAAAAAAAAAAAAAAAAAABJkiRJktx6QAAAAAAAWHZAsPiKr/iKYkAAAAAAAAAAAImIiIiICGFAAAAAAAAAAAAAAAAAAAAAAAAAAAAAAAAAAAAAAADYjUAAAAAAAIiEQAAAAAAAgDNAAAAAAAAAAAAAAAAAAEBqQAAAAAAAAAAAAAAAAAAAAAAAAAAAAAAAAAAAAAAAAAAAAAAAAAAAAAAAAAAAAAAAAAAAAAAAAAAAAAAAAACIZEAAAAAAAAAAAAAAAAAAgFFAAAAAAICCfEAAAAAAAABeQAAAAAAAAAAAAAAAAAAAAAAAAAAAAAAAAAAAAAAAAAAAAAAAAAAQgUAAAAAAAAAAAAAAAAAAAAAAAAAAAAAAAAAAAAAAAAAAAAAAAAAAAAAAAAAAAAAAAAAAAAAAAAAAAAAAAAAAAAAAAAAAAAAAAAAAAAAAAAAAAAAAAAAAAAAAAAAAAAAAAAAAAAAAAAAAAAAAAAAAAAAAAAAAAAAAAAAAAAAAAAAAAAAAAAAAAAAAAAAAAAAAAAAAAAAAAAAAAAAAAAAAAAAAAAAAAAAAAAAAAAAAAAAAAAAAAAAAAAAAAAAAAAAAAAAAAAAAAAAAADIpXiCT4hFAAAAAAAAAAAAAAAAAAAAAANFFF110UTBAAAAAAAAAAAAAAAAAAAAAAAAAAAAAAAAAAAAAAAAAAAAAAAAAAAAAAAAAAAAAAAAAAAAAAAAAAAAAAAAAAAAAAAAAAAAAAAAAAAAAAAAAAAAAAAAAAAAAABJ3xB1xR/w/AAAAAAAAAABmZmZmZi6LQAAAAAAAAGRAAAAAAAAAAAAAAAAAAAAAAAAAAAAAAAAAAAAAAAAAAAAAAAAAAAAAAAAAAAAAAAAAAAAAAAAAAAAAAAAAAAAAAAAAAAAAAAAAAAAAAACwYkAAAAAAAAAAAAAAAAAAAAAAtbS0tLS0JUAAAAAAAAAAAAAAAAAAUHBAAAAAAAAAAAAAAAAAAAAAAAAAAAAAAAAAAAAAAAAAAAAAAAAAAAAAAAAAAAAAAAAAAAAAAAAAAAAAAAAAAAAAAIZ9Ncw0QsBAAAAAAAAAaUAu5VIuza2wQAAAAAAAAAAAAAAAAAAAAAD6yHjd1gaXQAAAAAAAAAAA",
          "dtype": "f8"
         }
        }
       ],
       "layout": {
        "coloraxis": {
         "colorbar": {
          "title": {
           "text": "Desconto"
          }
         },
         "colorscale": [
          [
           0,
           "#0d0887"
          ],
          [
           0.1111111111111111,
           "#46039f"
          ],
          [
           0.2222222222222222,
           "#7201a8"
          ],
          [
           0.3333333333333333,
           "#9c179e"
          ],
          [
           0.4444444444444444,
           "#bd3786"
          ],
          [
           0.5555555555555556,
           "#d8576b"
          ],
          [
           0.6666666666666666,
           "#ed7953"
          ],
          [
           0.7777777777777778,
           "#fb9f3a"
          ],
          [
           0.8888888888888888,
           "#fdca26"
          ],
          [
           1,
           "#f0f921"
          ]
         ]
        },
        "legend": {
         "tracegroupgap": 0
        },
        "margin": {
         "t": 60
        },
        "template": {
         "data": {
          "bar": [
           {
            "error_x": {
             "color": "#2a3f5f"
            },
            "error_y": {
             "color": "#2a3f5f"
            },
            "marker": {
             "line": {
              "color": "#E5ECF6",
              "width": 0.5
             },
             "pattern": {
              "fillmode": "overlay",
              "size": 10,
              "solidity": 0.2
             }
            },
            "type": "bar"
           }
          ],
          "barpolar": [
           {
            "marker": {
             "line": {
              "color": "#E5ECF6",
              "width": 0.5
             },
             "pattern": {
              "fillmode": "overlay",
              "size": 10,
              "solidity": 0.2
             }
            },
            "type": "barpolar"
           }
          ],
          "carpet": [
           {
            "aaxis": {
             "endlinecolor": "#2a3f5f",
             "gridcolor": "white",
             "linecolor": "white",
             "minorgridcolor": "white",
             "startlinecolor": "#2a3f5f"
            },
            "baxis": {
             "endlinecolor": "#2a3f5f",
             "gridcolor": "white",
             "linecolor": "white",
             "minorgridcolor": "white",
             "startlinecolor": "#2a3f5f"
            },
            "type": "carpet"
           }
          ],
          "choropleth": [
           {
            "colorbar": {
             "outlinewidth": 0,
             "ticks": ""
            },
            "type": "choropleth"
           }
          ],
          "contour": [
           {
            "colorbar": {
             "outlinewidth": 0,
             "ticks": ""
            },
            "colorscale": [
             [
              0,
              "#0d0887"
             ],
             [
              0.1111111111111111,
              "#46039f"
             ],
             [
              0.2222222222222222,
              "#7201a8"
             ],
             [
              0.3333333333333333,
              "#9c179e"
             ],
             [
              0.4444444444444444,
              "#bd3786"
             ],
             [
              0.5555555555555556,
              "#d8576b"
             ],
             [
              0.6666666666666666,
              "#ed7953"
             ],
             [
              0.7777777777777778,
              "#fb9f3a"
             ],
             [
              0.8888888888888888,
              "#fdca26"
             ],
             [
              1,
              "#f0f921"
             ]
            ],
            "type": "contour"
           }
          ],
          "contourcarpet": [
           {
            "colorbar": {
             "outlinewidth": 0,
             "ticks": ""
            },
            "type": "contourcarpet"
           }
          ],
          "heatmap": [
           {
            "colorbar": {
             "outlinewidth": 0,
             "ticks": ""
            },
            "colorscale": [
             [
              0,
              "#0d0887"
             ],
             [
              0.1111111111111111,
              "#46039f"
             ],
             [
              0.2222222222222222,
              "#7201a8"
             ],
             [
              0.3333333333333333,
              "#9c179e"
             ],
             [
              0.4444444444444444,
              "#bd3786"
             ],
             [
              0.5555555555555556,
              "#d8576b"
             ],
             [
              0.6666666666666666,
              "#ed7953"
             ],
             [
              0.7777777777777778,
              "#fb9f3a"
             ],
             [
              0.8888888888888888,
              "#fdca26"
             ],
             [
              1,
              "#f0f921"
             ]
            ],
            "type": "heatmap"
           }
          ],
          "histogram": [
           {
            "marker": {
             "pattern": {
              "fillmode": "overlay",
              "size": 10,
              "solidity": 0.2
             }
            },
            "type": "histogram"
           }
          ],
          "histogram2d": [
           {
            "colorbar": {
             "outlinewidth": 0,
             "ticks": ""
            },
            "colorscale": [
             [
              0,
              "#0d0887"
             ],
             [
              0.1111111111111111,
              "#46039f"
             ],
             [
              0.2222222222222222,
              "#7201a8"
             ],
             [
              0.3333333333333333,
              "#9c179e"
             ],
             [
              0.4444444444444444,
              "#bd3786"
             ],
             [
              0.5555555555555556,
              "#d8576b"
             ],
             [
              0.6666666666666666,
              "#ed7953"
             ],
             [
              0.7777777777777778,
              "#fb9f3a"
             ],
             [
              0.8888888888888888,
              "#fdca26"
             ],
             [
              1,
              "#f0f921"
             ]
            ],
            "type": "histogram2d"
           }
          ],
          "histogram2dcontour": [
           {
            "colorbar": {
             "outlinewidth": 0,
             "ticks": ""
            },
            "colorscale": [
             [
              0,
              "#0d0887"
             ],
             [
              0.1111111111111111,
              "#46039f"
             ],
             [
              0.2222222222222222,
              "#7201a8"
             ],
             [
              0.3333333333333333,
              "#9c179e"
             ],
             [
              0.4444444444444444,
              "#bd3786"
             ],
             [
              0.5555555555555556,
              "#d8576b"
             ],
             [
              0.6666666666666666,
              "#ed7953"
             ],
             [
              0.7777777777777778,
              "#fb9f3a"
             ],
             [
              0.8888888888888888,
              "#fdca26"
             ],
             [
              1,
              "#f0f921"
             ]
            ],
            "type": "histogram2dcontour"
           }
          ],
          "mesh3d": [
           {
            "colorbar": {
             "outlinewidth": 0,
             "ticks": ""
            },
            "type": "mesh3d"
           }
          ],
          "parcoords": [
           {
            "line": {
             "colorbar": {
              "outlinewidth": 0,
              "ticks": ""
             }
            },
            "type": "parcoords"
           }
          ],
          "pie": [
           {
            "automargin": true,
            "type": "pie"
           }
          ],
          "scatter": [
           {
            "fillpattern": {
             "fillmode": "overlay",
             "size": 10,
             "solidity": 0.2
            },
            "type": "scatter"
           }
          ],
          "scatter3d": [
           {
            "line": {
             "colorbar": {
              "outlinewidth": 0,
              "ticks": ""
             }
            },
            "marker": {
             "colorbar": {
              "outlinewidth": 0,
              "ticks": ""
             }
            },
            "type": "scatter3d"
           }
          ],
          "scattercarpet": [
           {
            "marker": {
             "colorbar": {
              "outlinewidth": 0,
              "ticks": ""
             }
            },
            "type": "scattercarpet"
           }
          ],
          "scattergeo": [
           {
            "marker": {
             "colorbar": {
              "outlinewidth": 0,
              "ticks": ""
             }
            },
            "type": "scattergeo"
           }
          ],
          "scattergl": [
           {
            "marker": {
             "colorbar": {
              "outlinewidth": 0,
              "ticks": ""
             }
            },
            "type": "scattergl"
           }
          ],
          "scattermap": [
           {
            "marker": {
             "colorbar": {
              "outlinewidth": 0,
              "ticks": ""
             }
            },
            "type": "scattermap"
           }
          ],
          "scattermapbox": [
           {
            "marker": {
             "colorbar": {
              "outlinewidth": 0,
              "ticks": ""
             }
            },
            "type": "scattermapbox"
           }
          ],
          "scatterpolar": [
           {
            "marker": {
             "colorbar": {
              "outlinewidth": 0,
              "ticks": ""
             }
            },
            "type": "scatterpolar"
           }
          ],
          "scatterpolargl": [
           {
            "marker": {
             "colorbar": {
              "outlinewidth": 0,
              "ticks": ""
             }
            },
            "type": "scatterpolargl"
           }
          ],
          "scatterternary": [
           {
            "marker": {
             "colorbar": {
              "outlinewidth": 0,
              "ticks": ""
             }
            },
            "type": "scatterternary"
           }
          ],
          "surface": [
           {
            "colorbar": {
             "outlinewidth": 0,
             "ticks": ""
            },
            "colorscale": [
             [
              0,
              "#0d0887"
             ],
             [
              0.1111111111111111,
              "#46039f"
             ],
             [
              0.2222222222222222,
              "#7201a8"
             ],
             [
              0.3333333333333333,
              "#9c179e"
             ],
             [
              0.4444444444444444,
              "#bd3786"
             ],
             [
              0.5555555555555556,
              "#d8576b"
             ],
             [
              0.6666666666666666,
              "#ed7953"
             ],
             [
              0.7777777777777778,
              "#fb9f3a"
             ],
             [
              0.8888888888888888,
              "#fdca26"
             ],
             [
              1,
              "#f0f921"
             ]
            ],
            "type": "surface"
           }
          ],
          "table": [
           {
            "cells": {
             "fill": {
              "color": "#EBF0F8"
             },
             "line": {
              "color": "white"
             }
            },
            "header": {
             "fill": {
              "color": "#C8D4E3"
             },
             "line": {
              "color": "white"
             }
            },
            "type": "table"
           }
          ]
         },
         "layout": {
          "annotationdefaults": {
           "arrowcolor": "#2a3f5f",
           "arrowhead": 0,
           "arrowwidth": 1
          },
          "autotypenumbers": "strict",
          "coloraxis": {
           "colorbar": {
            "outlinewidth": 0,
            "ticks": ""
           }
          },
          "colorscale": {
           "diverging": [
            [
             0,
             "#8e0152"
            ],
            [
             0.1,
             "#c51b7d"
            ],
            [
             0.2,
             "#de77ae"
            ],
            [
             0.3,
             "#f1b6da"
            ],
            [
             0.4,
             "#fde0ef"
            ],
            [
             0.5,
             "#f7f7f7"
            ],
            [
             0.6,
             "#e6f5d0"
            ],
            [
             0.7,
             "#b8e186"
            ],
            [
             0.8,
             "#7fbc41"
            ],
            [
             0.9,
             "#4d9221"
            ],
            [
             1,
             "#276419"
            ]
           ],
           "sequential": [
            [
             0,
             "#0d0887"
            ],
            [
             0.1111111111111111,
             "#46039f"
            ],
            [
             0.2222222222222222,
             "#7201a8"
            ],
            [
             0.3333333333333333,
             "#9c179e"
            ],
            [
             0.4444444444444444,
             "#bd3786"
            ],
            [
             0.5555555555555556,
             "#d8576b"
            ],
            [
             0.6666666666666666,
             "#ed7953"
            ],
            [
             0.7777777777777778,
             "#fb9f3a"
            ],
            [
             0.8888888888888888,
             "#fdca26"
            ],
            [
             1,
             "#f0f921"
            ]
           ],
           "sequentialminus": [
            [
             0,
             "#0d0887"
            ],
            [
             0.1111111111111111,
             "#46039f"
            ],
            [
             0.2222222222222222,
             "#7201a8"
            ],
            [
             0.3333333333333333,
             "#9c179e"
            ],
            [
             0.4444444444444444,
             "#bd3786"
            ],
            [
             0.5555555555555556,
             "#d8576b"
            ],
            [
             0.6666666666666666,
             "#ed7953"
            ],
            [
             0.7777777777777778,
             "#fb9f3a"
            ],
            [
             0.8888888888888888,
             "#fdca26"
            ],
            [
             1,
             "#f0f921"
            ]
           ]
          },
          "colorway": [
           "#636efa",
           "#EF553B",
           "#00cc96",
           "#ab63fa",
           "#FFA15A",
           "#19d3f3",
           "#FF6692",
           "#B6E880",
           "#FF97FF",
           "#FECB52"
          ],
          "font": {
           "color": "#2a3f5f"
          },
          "geo": {
           "bgcolor": "white",
           "lakecolor": "white",
           "landcolor": "#E5ECF6",
           "showlakes": true,
           "showland": true,
           "subunitcolor": "white"
          },
          "hoverlabel": {
           "align": "left"
          },
          "hovermode": "closest",
          "mapbox": {
           "style": "light"
          },
          "paper_bgcolor": "white",
          "plot_bgcolor": "#E5ECF6",
          "polar": {
           "angularaxis": {
            "gridcolor": "white",
            "linecolor": "white",
            "ticks": ""
           },
           "bgcolor": "#E5ECF6",
           "radialaxis": {
            "gridcolor": "white",
            "linecolor": "white",
            "ticks": ""
           }
          },
          "scene": {
           "xaxis": {
            "backgroundcolor": "#E5ECF6",
            "gridcolor": "white",
            "gridwidth": 2,
            "linecolor": "white",
            "showbackground": true,
            "ticks": "",
            "zerolinecolor": "white"
           },
           "yaxis": {
            "backgroundcolor": "#E5ECF6",
            "gridcolor": "white",
            "gridwidth": 2,
            "linecolor": "white",
            "showbackground": true,
            "ticks": "",
            "zerolinecolor": "white"
           },
           "zaxis": {
            "backgroundcolor": "#E5ECF6",
            "gridcolor": "white",
            "gridwidth": 2,
            "linecolor": "white",
            "showbackground": true,
            "ticks": "",
            "zerolinecolor": "white"
           }
          },
          "shapedefaults": {
           "line": {
            "color": "#2a3f5f"
           }
          },
          "ternary": {
           "aaxis": {
            "gridcolor": "white",
            "linecolor": "white",
            "ticks": ""
           },
           "baxis": {
            "gridcolor": "white",
            "linecolor": "white",
            "ticks": ""
           },
           "bgcolor": "#E5ECF6",
           "caxis": {
            "gridcolor": "white",
            "linecolor": "white",
            "ticks": ""
           }
          },
          "title": {
           "x": 0.05
          },
          "xaxis": {
           "automargin": true,
           "gridcolor": "white",
           "linecolor": "white",
           "ticks": "",
           "title": {
            "standoff": 15
           },
           "zerolinecolor": "white",
           "zerolinewidth": 2
          },
          "yaxis": {
           "automargin": true,
           "gridcolor": "white",
           "linecolor": "white",
           "ticks": "",
           "title": {
            "standoff": 15
           },
           "zerolinecolor": "white",
           "zerolinewidth": 2
          }
         }
        }
       }
      }
     },
     "metadata": {},
     "output_type": "display_data"
    }
   ],
   "source": [
    "df_media_desconto = df.groupby(['Categoria','Marca'])['Desconto'].mean().reset_index()\n",
    "\n",
    "fig = px.treemap(df_media_desconto, path=['Categoria','Marca'], values='Desconto', color='Desconto')\n",
    "fig.show()"
   ]
  }
 ],
 "metadata": {
  "colab": {
   "provenance": []
  },
  "kernelspec": {
   "display_name": "venv",
   "language": "python",
   "name": "python3"
  },
  "language_info": {
   "codemirror_mode": {
    "name": "ipython",
    "version": 3
   },
   "file_extension": ".py",
   "mimetype": "text/x-python",
   "name": "python",
   "nbconvert_exporter": "python",
   "pygments_lexer": "ipython3",
   "version": "3.13.3"
  }
 },
 "nbformat": 4,
 "nbformat_minor": 0
}
